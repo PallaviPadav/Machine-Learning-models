{
 "cells": [
  {
   "cell_type": "markdown",
   "metadata": {},
   "source": [
    "### When we are dealing with data of huge size it is important to optimize the memory\n",
    "\n",
    "#### In this notebook we discuss \"categorical mapping\" and \"type conversions\" which are the most used memory optimization techniques"
   ]
  },
  {
   "cell_type": "code",
   "execution_count": 64,
   "metadata": {},
   "outputs": [],
   "source": [
    "import pandas as pd\n",
    "import numpy as np"
   ]
  },
  {
   "cell_type": "code",
   "execution_count": 69,
   "metadata": {},
   "outputs": [],
   "source": [
    "## Creating a randomly generated column\n",
    "df1 = pd.DataFrame({\"categorical_level\": ['Abc', 'Def', 'Ghi']*5000})"
   ]
  },
  {
   "cell_type": "code",
   "execution_count": 70,
   "metadata": {},
   "outputs": [
    {
     "data": {
      "text/html": [
       "<div>\n",
       "<style scoped>\n",
       "    .dataframe tbody tr th:only-of-type {\n",
       "        vertical-align: middle;\n",
       "    }\n",
       "\n",
       "    .dataframe tbody tr th {\n",
       "        vertical-align: top;\n",
       "    }\n",
       "\n",
       "    .dataframe thead th {\n",
       "        text-align: right;\n",
       "    }\n",
       "</style>\n",
       "<table border=\"1\" class=\"dataframe\">\n",
       "  <thead>\n",
       "    <tr style=\"text-align: right;\">\n",
       "      <th></th>\n",
       "      <th>categorical_level</th>\n",
       "    </tr>\n",
       "  </thead>\n",
       "  <tbody>\n",
       "    <tr>\n",
       "      <th>0</th>\n",
       "      <td>Abc</td>\n",
       "    </tr>\n",
       "    <tr>\n",
       "      <th>1</th>\n",
       "      <td>Def</td>\n",
       "    </tr>\n",
       "    <tr>\n",
       "      <th>2</th>\n",
       "      <td>Ghi</td>\n",
       "    </tr>\n",
       "    <tr>\n",
       "      <th>3</th>\n",
       "      <td>Abc</td>\n",
       "    </tr>\n",
       "    <tr>\n",
       "      <th>4</th>\n",
       "      <td>Def</td>\n",
       "    </tr>\n",
       "  </tbody>\n",
       "</table>\n",
       "</div>"
      ],
      "text/plain": [
       "  categorical_level\n",
       "0               Abc\n",
       "1               Def\n",
       "2               Ghi\n",
       "3               Abc\n",
       "4               Def"
      ]
     },
     "execution_count": 70,
     "metadata": {},
     "output_type": "execute_result"
    }
   ],
   "source": [
    "df1.head()"
   ]
  },
  {
   "cell_type": "code",
   "execution_count": 71,
   "metadata": {},
   "outputs": [
    {
     "data": {
      "text/plain": [
       "900080"
      ]
     },
     "execution_count": 71,
     "metadata": {},
     "output_type": "execute_result"
    }
   ],
   "source": [
    "df1['categorical_level'].memory_usage(deep=True)"
   ]
  },
  {
   "cell_type": "code",
   "execution_count": 72,
   "metadata": {},
   "outputs": [
    {
     "data": {
      "text/plain": [
       "Def    5000\n",
       "Abc    5000\n",
       "Ghi    5000\n",
       "Name: categorical_level, dtype: int64"
      ]
     },
     "execution_count": 72,
     "metadata": {},
     "output_type": "execute_result"
    }
   ],
   "source": [
    "df1.categorical_level.value_counts()"
   ]
  },
  {
   "cell_type": "code",
   "execution_count": 73,
   "metadata": {},
   "outputs": [],
   "source": [
    "## Save the unique values in a variable\n",
    "categorical_level_unique = df1['categorical_level'].unique()"
   ]
  },
  {
   "cell_type": "code",
   "execution_count": 74,
   "metadata": {},
   "outputs": [],
   "source": [
    "## Use a dictionary comprehension to create a map between the original value and an integer\n",
    "\n",
    "## the integer is recommended to be between 1 and number of unique values in the column (optional)\n",
    "\n",
    "categorical_level_mapping = {categorical_level: idx for \n",
    "                             idx, categorical_level in \n",
    "                             enumerate(categorical_level_unique, 1)}"
   ]
  },
  {
   "cell_type": "code",
   "execution_count": 75,
   "metadata": {},
   "outputs": [],
   "source": [
    "## Use the .map() method on the column to replace all the original values in the column \n",
    "\n",
    "## to the encoded values\n",
    "\n",
    "df1['categorical_level'] = df1['categorical_level'].map(categorical_level_mapping)"
   ]
  },
  {
   "cell_type": "code",
   "execution_count": 76,
   "metadata": {},
   "outputs": [
    {
     "data": {
      "text/plain": [
       "120080"
      ]
     },
     "execution_count": 76,
     "metadata": {},
     "output_type": "execute_result"
    }
   ],
   "source": [
    "df1['categorical_level'].memory_usage(deep=True)"
   ]
  },
  {
   "cell_type": "code",
   "execution_count": 77,
   "metadata": {},
   "outputs": [
    {
     "data": {
      "text/plain": [
       "1"
      ]
     },
     "execution_count": 77,
     "metadata": {},
     "output_type": "execute_result"
    }
   ],
   "source": [
    "df1.categorical_level.min()"
   ]
  },
  {
   "cell_type": "code",
   "execution_count": 78,
   "metadata": {
    "scrolled": true
   },
   "outputs": [
    {
     "data": {
      "text/plain": [
       "3"
      ]
     },
     "execution_count": 78,
     "metadata": {},
     "output_type": "execute_result"
    }
   ],
   "source": [
    "df1.categorical_level.max()"
   ]
  },
  {
   "cell_type": "code",
   "execution_count": 79,
   "metadata": {},
   "outputs": [
    {
     "name": "stdout",
     "output_type": "stream",
     "text": [
      "int8 datatype can handle integer values ranging from -128 to 127\n",
      "int16 datatype can handle integer values ranging from -32768 to 32767\n",
      "int32 datatype can handle integer values ranging from -2147483648 to 2147483647\n",
      "int64 datatype can handle integer values ranging from -9223372036854775808 to 9223372036854775807\n"
     ]
    }
   ],
   "source": [
    "print(\"int8 datatype can handle integer values ranging from {} to {}\".format(np.iinfo(np.int8).min,np.iinfo(np.int8).max))\n",
    "print(\"int16 datatype can handle integer values ranging from {} to {}\".format(np.iinfo(np.int16).min,np.iinfo(np.int16).max))\n",
    "print(\"int32 datatype can handle integer values ranging from {} to {}\".format(np.iinfo(np.int32).min,np.iinfo(np.int32).max))\n",
    "print(\"int64 datatype can handle integer values ranging from {} to {}\".format(np.iinfo(np.int64).min,np.iinfo(np.int64).max))"
   ]
  },
  {
   "cell_type": "markdown",
   "metadata": {},
   "source": [
    "#### For more details refer\n",
    "\n",
    "https://pandas.pydata.org/pandas-docs/stable/getting_started/basics.html#basics-dtypes\n"
   ]
  },
  {
   "cell_type": "code",
   "execution_count": 80,
   "metadata": {},
   "outputs": [],
   "source": [
    "## As we can see that the min and max values of this particular column falls inside int8.\n",
    "## As int8 would take much lesser memory than in64 we convert it to int8\n",
    "\n",
    "df1['categorical_level'] = df1['categorical_level'].astype(\"int8\")"
   ]
  },
  {
   "cell_type": "code",
   "execution_count": 81,
   "metadata": {
    "scrolled": true
   },
   "outputs": [
    {
     "data": {
      "text/plain": [
       "15080"
      ]
     },
     "execution_count": 81,
     "metadata": {},
     "output_type": "execute_result"
    }
   ],
   "source": [
    "# In this case \n",
    "\n",
    "df1['categorical_level'].memory_usage(deep=True)"
   ]
  },
  {
   "cell_type": "markdown",
   "metadata": {},
   "source": [
    "#### In this case we had a categorical columns for which we did a \"categorical mapping\" first and then a \"type conversion\". \n",
    "#### This decreased our memory from 900080 to 15080\n",
    "\n",
    "\n",
    "#### For numeric variables use appropriate \"type conversion\" to decrease the memory footprint.\n"
   ]
  },
  {
   "cell_type": "code",
   "execution_count": null,
   "metadata": {},
   "outputs": [],
   "source": []
  }
 ],
 "metadata": {
  "kernelspec": {
   "display_name": "Python 3",
   "language": "python",
   "name": "python3"
  },
  "language_info": {
   "codemirror_mode": {
    "name": "ipython",
    "version": 3
   },
   "file_extension": ".py",
   "mimetype": "text/x-python",
   "name": "python",
   "nbconvert_exporter": "python",
   "pygments_lexer": "ipython3",
   "version": "3.8.3"
  }
 },
 "nbformat": 4,
 "nbformat_minor": 2
}
