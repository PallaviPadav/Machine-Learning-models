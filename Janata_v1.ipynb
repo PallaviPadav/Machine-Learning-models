{
  "nbformat": 4,
  "nbformat_minor": 0,
  "metadata": {
    "kernelspec": {
      "display_name": "Python 3",
      "language": "python",
      "name": "python3"
    },
    "language_info": {
      "codemirror_mode": {
        "name": "ipython",
        "version": 3
      },
      "file_extension": ".py",
      "mimetype": "text/x-python",
      "name": "python",
      "nbconvert_exporter": "python",
      "pygments_lexer": "ipython3",
      "version": "3.6.5"
    },
    "colab": {
      "name": "Janata_v1.ipynb",
      "provenance": [],
      "collapsed_sections": []
    }
  },
  "cells": [
    {
      "cell_type": "markdown",
      "metadata": {
        "id": "5w71XSo2ecjW",
        "colab_type": "text"
      },
      "source": [
        "# Gender Prediction for E-Commerce"
      ]
    },
    {
      "cell_type": "markdown",
      "metadata": {
        "id": "09nMpDwiecjX",
        "colab_type": "text"
      },
      "source": [
        "With the evolution of the information and communication technologies and the rapid growth of the Internet for the exchange and distribution of information, Electronic Commerce (e-commerce) has gained massive momentum globally, and attracted more and more worldwide users overcoming the time constraints and distance barriers.\n",
        "\n",
        "It is important to gain in-depth insights into e-commerce via data-driven analytics and identify the factors affecting product sales, the impact of characteristics of customers on their purchase habits.\n",
        "\n",
        "It is quite useful to understand the demand, habits, concern, perception, and interest of customers from the clue of genders for e-commerce companies. \n",
        "\n",
        "However, the genders of users are in general unavailable in e-commerce platforms. To address this gap the aim here is to predict the gender of e-commerce’s participants from their product viewing records.\n",
        "\n",
        "\n",
        "\n",
        "About Data Source:\n",
        "PAKDD 2015 Conference\n"
      ]
    },
    {
      "cell_type": "markdown",
      "metadata": {
        "id": "HHb0ybFQecjY",
        "colab_type": "text"
      },
      "source": [
        "Problem Statement: To predict the gender of e-commerce’s participants from their product viewing records."
      ]
    },
    {
      "cell_type": "code",
      "metadata": {
        "id": "C5wHmMfOecjZ",
        "colab_type": "code",
        "colab": {}
      },
      "source": [
        "import numpy as np\n",
        "import pandas as pd\n",
        "\n",
        "import matplotlib.pyplot as plt\n",
        "%matplotlib inline  \n",
        "\n",
        "import warnings\n",
        "warnings.filterwarnings(\"ignore\", category=DeprecationWarning) "
      ],
      "execution_count": 0,
      "outputs": []
    },
    {
      "cell_type": "code",
      "metadata": {
        "id": "qQO_Sq-Eexqe",
        "colab_type": "code",
        "colab": {}
      },
      "source": [
        "import os, sys"
      ],
      "execution_count": 0,
      "outputs": []
    },
    {
      "cell_type": "code",
      "metadata": {
        "id": "EdhPheBGecjc",
        "colab_type": "code",
        "colab": {}
      },
      "source": [
        "from sklearn.model_selection import train_test_split\n",
        "from sklearn.preprocessing import LabelEncoder\n",
        "from sklearn.preprocessing import MinMaxScaler"
      ],
      "execution_count": 0,
      "outputs": []
    },
    {
      "cell_type": "code",
      "metadata": {
        "id": "o-_UDnmvecjg",
        "colab_type": "code",
        "colab": {}
      },
      "source": [
        "import plotly.graph_objs as go\n",
        "import seaborn as sns\n",
        "from plotly.offline import init_notebook_mode, iplot, plot"
      ],
      "execution_count": 0,
      "outputs": []
    },
    {
      "cell_type": "code",
      "metadata": {
        "id": "lW8gy0NIe4Rc",
        "colab_type": "code",
        "outputId": "4fbc16e5-ed91-400c-f238-214c37534fe6",
        "colab": {
          "base_uri": "https://localhost:8080/",
          "height": 34
        }
      },
      "source": [
        "from google.colab import drive\n",
        "drive.mount('/content/drive')"
      ],
      "execution_count": 0,
      "outputs": [
        {
          "output_type": "stream",
          "text": [
            "Drive already mounted at /content/drive; to attempt to forcibly remount, call drive.mount(\"/content/drive\", force_remount=True).\n"
          ],
          "name": "stdout"
        }
      ]
    },
    {
      "cell_type": "code",
      "metadata": {
        "id": "SkY0tvVIfAsr",
        "colab_type": "code",
        "colab": {}
      },
      "source": [
        "PATH = '/content/drive/My Drive/Kaggle/janata'"
      ],
      "execution_count": 0,
      "outputs": []
    },
    {
      "cell_type": "code",
      "metadata": {
        "id": "KBWeO6sHfA4b",
        "colab_type": "code",
        "outputId": "d1074841-7f46-4546-f701-c7fb49903d88",
        "colab": {
          "base_uri": "https://localhost:8080/",
          "height": 34
        }
      },
      "source": [
        "os.getcwd()"
      ],
      "execution_count": 0,
      "outputs": [
        {
          "output_type": "execute_result",
          "data": {
            "text/plain": [
              "'/content'"
            ]
          },
          "metadata": {
            "tags": []
          },
          "execution_count": 7
        }
      ]
    },
    {
      "cell_type": "code",
      "metadata": {
        "id": "LWpwfZrJfQbl",
        "colab_type": "code",
        "outputId": "399394ae-0713-4a22-c37a-8f511a36d4fc",
        "colab": {
          "base_uri": "https://localhost:8080/",
          "height": 34
        }
      },
      "source": [
        "os.chdir(PATH)\n",
        "os.getcwd()"
      ],
      "execution_count": 0,
      "outputs": [
        {
          "output_type": "execute_result",
          "data": {
            "text/plain": [
              "'/content/drive/My Drive/Kaggle/janata'"
            ]
          },
          "metadata": {
            "tags": []
          },
          "execution_count": 139
        }
      ]
    },
    {
      "cell_type": "code",
      "metadata": {
        "id": "rsSwHwREecjl",
        "colab_type": "code",
        "colab": {}
      },
      "source": [
        "view_data = pd.read_csv(\"train_8wry4cB.csv\")"
      ],
      "execution_count": 0,
      "outputs": []
    },
    {
      "cell_type": "code",
      "metadata": {
        "id": "W7KXddMSfonC",
        "colab_type": "code",
        "outputId": "85cb943b-765e-4742-9784-b9f9657c6b47",
        "colab": {
          "base_uri": "https://localhost:8080/",
          "height": 252
        }
      },
      "source": [
        "view_data.head"
      ],
      "execution_count": 0,
      "outputs": [
        {
          "output_type": "execute_result",
          "data": {
            "text/plain": [
              "<bound method NDFrame.head of       session_id  ...  gender\n",
              "0         u16159  ...  female\n",
              "1         u10253  ...    male\n",
              "2         u19037  ...  female\n",
              "3         u14556  ...  female\n",
              "4         u24295  ...    male\n",
              "...          ...  ...     ...\n",
              "10495     u15442  ...  female\n",
              "10496     u17986  ...  female\n",
              "10497     u22508  ...  female\n",
              "10498     u17087  ...  female\n",
              "10499     u23137  ...  female\n",
              "\n",
              "[10500 rows x 5 columns]>"
            ]
          },
          "metadata": {
            "tags": []
          },
          "execution_count": 141
        }
      ]
    },
    {
      "cell_type": "code",
      "metadata": {
        "id": "nPZEfMtDfuxm",
        "colab_type": "code",
        "outputId": "8a717041-a490-4456-c740-b15fbc9ea421",
        "colab": {
          "base_uri": "https://localhost:8080/",
          "height": 118
        }
      },
      "source": [
        "view_data.dtypes"
      ],
      "execution_count": 0,
      "outputs": [
        {
          "output_type": "execute_result",
          "data": {
            "text/plain": [
              "session_id     object\n",
              "startTime      object\n",
              "endTime        object\n",
              "ProductList    object\n",
              "gender         object\n",
              "dtype: object"
            ]
          },
          "metadata": {
            "tags": []
          },
          "execution_count": 245
        }
      ]
    },
    {
      "cell_type": "code",
      "metadata": {
        "id": "w_lhmAnvyVcW",
        "colab_type": "code",
        "colab": {}
      },
      "source": [
        "\n",
        "\n",
        "for i, line in enumerate(view_data['ProductList']):\n",
        "\n",
        "    content = line.split(';')\n",
        "\n",
        "    view_data.loc[i,'New ProductList'] = str(content)\n"
      ],
      "execution_count": 0,
      "outputs": []
    },
    {
      "cell_type": "code",
      "metadata": {
        "id": "t-sJGPP-y3Ke",
        "colab_type": "code",
        "outputId": "ee2746c7-1580-425d-be50-de4b174f6c67",
        "colab": {
          "base_uri": "https://localhost:8080/",
          "height": 118
        }
      },
      "source": [
        "view_data['New ProductList'].head()"
      ],
      "execution_count": 0,
      "outputs": [
        {
          "output_type": "execute_result",
          "data": {
            "text/plain": [
              "0    ['A00002/B00003/C00006/D28435/', 'A00002/B0000...\n",
              "1    ['A00001/B00009/C00031/D29404/', 'A00001/B0000...\n",
              "2                     ['A00002/B00001/C00020/D16944/']\n",
              "3    ['A00002/B00004/C00018/D10284/', 'A00002/B0000...\n",
              "4    ['A00001/B00001/C00012/D30805/', 'A00001/B0000...\n",
              "Name: New ProductList, dtype: object"
            ]
          },
          "metadata": {
            "tags": []
          },
          "execution_count": 256
        }
      ]
    },
    {
      "cell_type": "code",
      "metadata": {
        "id": "FlcB3MmzhmK1",
        "colab_type": "code",
        "colab": {}
      },
      "source": [
        "view_data['gender'] = view_data['gender'].astype(\"category\")"
      ],
      "execution_count": 0,
      "outputs": []
    },
    {
      "cell_type": "code",
      "metadata": {
        "id": "jp9o3--YmHvQ",
        "colab_type": "code",
        "outputId": "5afbc178-fe6e-4609-82fa-124506d7ba9f",
        "colab": {
          "base_uri": "https://localhost:8080/",
          "height": 134
        }
      },
      "source": [
        "view_data.dtypes"
      ],
      "execution_count": 0,
      "outputs": [
        {
          "output_type": "execute_result",
          "data": {
            "text/plain": [
              "session_id           object\n",
              "startTime            object\n",
              "endTime              object\n",
              "ProductList          object\n",
              "gender             category\n",
              "New ProductList      object\n",
              "dtype: object"
            ]
          },
          "metadata": {
            "tags": []
          },
          "execution_count": 258
        }
      ]
    },
    {
      "cell_type": "code",
      "metadata": {
        "id": "CRCDyq4TAWok",
        "colab_type": "code",
        "outputId": "d0a959a5-41e8-4a47-90bd-125734cc1635",
        "colab": {
          "base_uri": "https://localhost:8080/",
          "height": 67
        }
      },
      "source": [
        "view_data['gender'].value_counts()"
      ],
      "execution_count": 0,
      "outputs": [
        {
          "output_type": "execute_result",
          "data": {
            "text/plain": [
              "female    8192\n",
              "male      2308\n",
              "Name: gender, dtype: int64"
            ]
          },
          "metadata": {
            "tags": []
          },
          "execution_count": 142
        }
      ]
    },
    {
      "cell_type": "code",
      "metadata": {
        "id": "u7gdgOENhmOR",
        "colab_type": "code",
        "outputId": "d29be723-28f1-4a90-f3e3-1f16cd52572f",
        "colab": {
          "base_uri": "https://localhost:8080/",
          "height": 134
        }
      },
      "source": [
        "view_data.dtypes"
      ],
      "execution_count": 0,
      "outputs": [
        {
          "output_type": "execute_result",
          "data": {
            "text/plain": [
              "session_id           object\n",
              "startTime            object\n",
              "endTime              object\n",
              "ProductList          object\n",
              "gender             category\n",
              "New ProductList      object\n",
              "dtype: object"
            ]
          },
          "metadata": {
            "tags": []
          },
          "execution_count": 112
        }
      ]
    },
    {
      "cell_type": "code",
      "metadata": {
        "id": "LSINLuVuhmSU",
        "colab_type": "code",
        "colab": {}
      },
      "source": [
        "train_X, test_X, train_y, test_y = train_test_split(view_data['New ProductList'],\n",
        "                                                    view_data['gender'],\n",
        "                                                    test_size = 0.3,\n",
        "                                                    random_state = 123)"
      ],
      "execution_count": 0,
      "outputs": []
    },
    {
      "cell_type": "code",
      "metadata": {
        "id": "36gZE4CHhmWK",
        "colab_type": "code",
        "colab": {}
      },
      "source": [
        "from sklearn.feature_extraction.text import TfidfVectorizer\n",
        "# Trail 3 \n",
        "Tfidf_vect = TfidfVectorizer()\n",
        "#trial 1\n",
        "#Tfidf_vect = TfidfVectorizer(ngram_range=(4), max_features=5000)\n",
        "#trial 2\n",
        "#tfidf_vect = TfidfVectorizer(analyzer='word', token_pattern=r'\\w{1,}', ngram_range=(4), max_features=5000)\n",
        "Tfidf_vect.fit(view_data['New ProductList'])\n",
        "train_X_Tfidf = Tfidf_vect.transform(train_X)\n",
        "test_X_Tfidf = Tfidf_vect.transform(test_X)"
      ],
      "execution_count": 0,
      "outputs": []
    },
    {
      "cell_type": "code",
      "metadata": {
        "id": "Scm6vTLMlYoY",
        "colab_type": "code",
        "outputId": "1c8cf097-a766-47f7-e254-b67b22db5493",
        "colab": {
          "base_uri": "https://localhost:8080/",
          "height": 278
        }
      },
      "source": [
        "Dense_mat = train_X_Tfidf.todense()\n",
        "Tfidf_Mat = pd.DataFrame(Dense_mat, columns=Tfidf_vect.get_feature_names())\n",
        "Tfidf_Mat.head()"
      ],
      "execution_count": 0,
      "outputs": [
        {
          "output_type": "execute_result",
          "data": {
            "text/html": [
              "<div>\n",
              "<style scoped>\n",
              "    .dataframe tbody tr th:only-of-type {\n",
              "        vertical-align: middle;\n",
              "    }\n",
              "\n",
              "    .dataframe tbody tr th {\n",
              "        vertical-align: top;\n",
              "    }\n",
              "\n",
              "    .dataframe thead th {\n",
              "        text-align: right;\n",
              "    }\n",
              "</style>\n",
              "<table border=\"1\" class=\"dataframe\">\n",
              "  <thead>\n",
              "    <tr style=\"text-align: right;\">\n",
              "      <th></th>\n",
              "      <th>a00001 b00001</th>\n",
              "      <th>a00001 b00001 c00001</th>\n",
              "      <th>a00001 b00001 c00012</th>\n",
              "      <th>a00001 b00001 c00019</th>\n",
              "      <th>a00001 b00001 c00020</th>\n",
              "      <th>a00001 b00001 c00029</th>\n",
              "      <th>a00001 b00001 c00075</th>\n",
              "      <th>a00001 b00001 c00092</th>\n",
              "      <th>a00001 b00001 c00182</th>\n",
              "      <th>a00001 b00001 c00301</th>\n",
              "      <th>a00001 b00004</th>\n",
              "      <th>a00001 b00004 c00066</th>\n",
              "      <th>a00001 b00004 c00093</th>\n",
              "      <th>a00001 b00004 c00102</th>\n",
              "      <th>a00001 b00004 c00122</th>\n",
              "      <th>a00001 b00004 c00132</th>\n",
              "      <th>a00001 b00004 c00154</th>\n",
              "      <th>a00001 b00004 c00171</th>\n",
              "      <th>a00001 b00004 c00196</th>\n",
              "      <th>a00001 b00009</th>\n",
              "      <th>a00001 b00009 c00012</th>\n",
              "      <th>a00001 b00009 c00028</th>\n",
              "      <th>a00001 b00009 c00031</th>\n",
              "      <th>a00001 b00009 c00032</th>\n",
              "      <th>a00001 b00009 c00037</th>\n",
              "      <th>a00001 b00009 c00038</th>\n",
              "      <th>a00001 b00009 c00186</th>\n",
              "      <th>a00001 b00011</th>\n",
              "      <th>a00001 b00011 c00212</th>\n",
              "      <th>a00001 b00011 c00416</th>\n",
              "      <th>a00001 b00015</th>\n",
              "      <th>a00001 b00015 c00017</th>\n",
              "      <th>a00001 b00015 c00021</th>\n",
              "      <th>a00001 b00015 c00041</th>\n",
              "      <th>a00001 b00015 c00042</th>\n",
              "      <th>a00001 b00015 c00043</th>\n",
              "      <th>a00001 b00015 c00098</th>\n",
              "      <th>a00001 b00015 c00103</th>\n",
              "      <th>a00001 b00015 c00111</th>\n",
              "      <th>a00001 b00015 c00202</th>\n",
              "      <th>...</th>\n",
              "      <th>d26009 a00002</th>\n",
              "      <th>d26009 a00002 b00006</th>\n",
              "      <th>d26024 a00002</th>\n",
              "      <th>d26024 a00002 b00001</th>\n",
              "      <th>d26702 a00002</th>\n",
              "      <th>d26702 a00002 b00002</th>\n",
              "      <th>d27426 a00003</th>\n",
              "      <th>d27430 a00002</th>\n",
              "      <th>d27430 a00002 b00003</th>\n",
              "      <th>d27439 a00002</th>\n",
              "      <th>d27774 a00002</th>\n",
              "      <th>d27774 a00002 b00003</th>\n",
              "      <th>d27845 a00002</th>\n",
              "      <th>d27893 a00002</th>\n",
              "      <th>d27893 a00002 b00003</th>\n",
              "      <th>d27967 a00003</th>\n",
              "      <th>d27967 a00003 b00012</th>\n",
              "      <th>d28141 a00002</th>\n",
              "      <th>d28141 a00002 b00001</th>\n",
              "      <th>d28678 a00003</th>\n",
              "      <th>d28678 a00003 b00012</th>\n",
              "      <th>d29610 a00001</th>\n",
              "      <th>d29610 a00001 b00031</th>\n",
              "      <th>d30341 a00003</th>\n",
              "      <th>d30341 a00003 b00012</th>\n",
              "      <th>d30358 a00003</th>\n",
              "      <th>d30616 a00002</th>\n",
              "      <th>d30616 a00002 b00002</th>\n",
              "      <th>d31186 a00003</th>\n",
              "      <th>d31186 a00003 b00012</th>\n",
              "      <th>d31306 a00003</th>\n",
              "      <th>d31306 a00003 b00022</th>\n",
              "      <th>d31529 a00003</th>\n",
              "      <th>d31529 a00003 b00012</th>\n",
              "      <th>d32672 a00002</th>\n",
              "      <th>d32672 a00002 b00002</th>\n",
              "      <th>d33237 a00001</th>\n",
              "      <th>d33237 a00001 b00001</th>\n",
              "      <th>d33879 a00003</th>\n",
              "      <th>d33879 a00003 b00026</th>\n",
              "    </tr>\n",
              "  </thead>\n",
              "  <tbody>\n",
              "    <tr>\n",
              "      <th>0</th>\n",
              "      <td>0.0</td>\n",
              "      <td>0.0</td>\n",
              "      <td>0.0</td>\n",
              "      <td>0.0</td>\n",
              "      <td>0.0</td>\n",
              "      <td>0.0</td>\n",
              "      <td>0.0</td>\n",
              "      <td>0.0</td>\n",
              "      <td>0.0</td>\n",
              "      <td>0.0</td>\n",
              "      <td>0.0</td>\n",
              "      <td>0.0</td>\n",
              "      <td>0.0</td>\n",
              "      <td>0.0</td>\n",
              "      <td>0.0</td>\n",
              "      <td>0.0</td>\n",
              "      <td>0.0</td>\n",
              "      <td>0.0</td>\n",
              "      <td>0.0</td>\n",
              "      <td>0.0</td>\n",
              "      <td>0.0</td>\n",
              "      <td>0.0</td>\n",
              "      <td>0.0</td>\n",
              "      <td>0.0</td>\n",
              "      <td>0.0</td>\n",
              "      <td>0.0</td>\n",
              "      <td>0.0</td>\n",
              "      <td>0.0</td>\n",
              "      <td>0.0</td>\n",
              "      <td>0.0</td>\n",
              "      <td>0.0</td>\n",
              "      <td>0.0</td>\n",
              "      <td>0.0</td>\n",
              "      <td>0.0</td>\n",
              "      <td>0.0</td>\n",
              "      <td>0.0</td>\n",
              "      <td>0.0</td>\n",
              "      <td>0.0</td>\n",
              "      <td>0.0</td>\n",
              "      <td>0.0</td>\n",
              "      <td>...</td>\n",
              "      <td>0.0</td>\n",
              "      <td>0.0</td>\n",
              "      <td>0.0</td>\n",
              "      <td>0.0</td>\n",
              "      <td>0.0</td>\n",
              "      <td>0.0</td>\n",
              "      <td>0.0</td>\n",
              "      <td>0.0</td>\n",
              "      <td>0.0</td>\n",
              "      <td>0.0</td>\n",
              "      <td>0.0</td>\n",
              "      <td>0.0</td>\n",
              "      <td>0.0</td>\n",
              "      <td>0.0</td>\n",
              "      <td>0.0</td>\n",
              "      <td>0.0</td>\n",
              "      <td>0.0</td>\n",
              "      <td>0.0</td>\n",
              "      <td>0.0</td>\n",
              "      <td>0.0</td>\n",
              "      <td>0.0</td>\n",
              "      <td>0.0</td>\n",
              "      <td>0.0</td>\n",
              "      <td>0.0</td>\n",
              "      <td>0.0</td>\n",
              "      <td>0.0</td>\n",
              "      <td>0.0</td>\n",
              "      <td>0.0</td>\n",
              "      <td>0.0</td>\n",
              "      <td>0.0</td>\n",
              "      <td>0.0</td>\n",
              "      <td>0.0</td>\n",
              "      <td>0.0</td>\n",
              "      <td>0.0</td>\n",
              "      <td>0.0</td>\n",
              "      <td>0.0</td>\n",
              "      <td>0.0</td>\n",
              "      <td>0.0</td>\n",
              "      <td>0.0</td>\n",
              "      <td>0.0</td>\n",
              "    </tr>\n",
              "    <tr>\n",
              "      <th>1</th>\n",
              "      <td>0.0</td>\n",
              "      <td>0.0</td>\n",
              "      <td>0.0</td>\n",
              "      <td>0.0</td>\n",
              "      <td>0.0</td>\n",
              "      <td>0.0</td>\n",
              "      <td>0.0</td>\n",
              "      <td>0.0</td>\n",
              "      <td>0.0</td>\n",
              "      <td>0.0</td>\n",
              "      <td>0.0</td>\n",
              "      <td>0.0</td>\n",
              "      <td>0.0</td>\n",
              "      <td>0.0</td>\n",
              "      <td>0.0</td>\n",
              "      <td>0.0</td>\n",
              "      <td>0.0</td>\n",
              "      <td>0.0</td>\n",
              "      <td>0.0</td>\n",
              "      <td>0.0</td>\n",
              "      <td>0.0</td>\n",
              "      <td>0.0</td>\n",
              "      <td>0.0</td>\n",
              "      <td>0.0</td>\n",
              "      <td>0.0</td>\n",
              "      <td>0.0</td>\n",
              "      <td>0.0</td>\n",
              "      <td>0.0</td>\n",
              "      <td>0.0</td>\n",
              "      <td>0.0</td>\n",
              "      <td>0.0</td>\n",
              "      <td>0.0</td>\n",
              "      <td>0.0</td>\n",
              "      <td>0.0</td>\n",
              "      <td>0.0</td>\n",
              "      <td>0.0</td>\n",
              "      <td>0.0</td>\n",
              "      <td>0.0</td>\n",
              "      <td>0.0</td>\n",
              "      <td>0.0</td>\n",
              "      <td>...</td>\n",
              "      <td>0.0</td>\n",
              "      <td>0.0</td>\n",
              "      <td>0.0</td>\n",
              "      <td>0.0</td>\n",
              "      <td>0.0</td>\n",
              "      <td>0.0</td>\n",
              "      <td>0.0</td>\n",
              "      <td>0.0</td>\n",
              "      <td>0.0</td>\n",
              "      <td>0.0</td>\n",
              "      <td>0.0</td>\n",
              "      <td>0.0</td>\n",
              "      <td>0.0</td>\n",
              "      <td>0.0</td>\n",
              "      <td>0.0</td>\n",
              "      <td>0.0</td>\n",
              "      <td>0.0</td>\n",
              "      <td>0.0</td>\n",
              "      <td>0.0</td>\n",
              "      <td>0.0</td>\n",
              "      <td>0.0</td>\n",
              "      <td>0.0</td>\n",
              "      <td>0.0</td>\n",
              "      <td>0.0</td>\n",
              "      <td>0.0</td>\n",
              "      <td>0.0</td>\n",
              "      <td>0.0</td>\n",
              "      <td>0.0</td>\n",
              "      <td>0.0</td>\n",
              "      <td>0.0</td>\n",
              "      <td>0.0</td>\n",
              "      <td>0.0</td>\n",
              "      <td>0.0</td>\n",
              "      <td>0.0</td>\n",
              "      <td>0.0</td>\n",
              "      <td>0.0</td>\n",
              "      <td>0.0</td>\n",
              "      <td>0.0</td>\n",
              "      <td>0.0</td>\n",
              "      <td>0.0</td>\n",
              "    </tr>\n",
              "    <tr>\n",
              "      <th>2</th>\n",
              "      <td>0.0</td>\n",
              "      <td>0.0</td>\n",
              "      <td>0.0</td>\n",
              "      <td>0.0</td>\n",
              "      <td>0.0</td>\n",
              "      <td>0.0</td>\n",
              "      <td>0.0</td>\n",
              "      <td>0.0</td>\n",
              "      <td>0.0</td>\n",
              "      <td>0.0</td>\n",
              "      <td>0.0</td>\n",
              "      <td>0.0</td>\n",
              "      <td>0.0</td>\n",
              "      <td>0.0</td>\n",
              "      <td>0.0</td>\n",
              "      <td>0.0</td>\n",
              "      <td>0.0</td>\n",
              "      <td>0.0</td>\n",
              "      <td>0.0</td>\n",
              "      <td>0.0</td>\n",
              "      <td>0.0</td>\n",
              "      <td>0.0</td>\n",
              "      <td>0.0</td>\n",
              "      <td>0.0</td>\n",
              "      <td>0.0</td>\n",
              "      <td>0.0</td>\n",
              "      <td>0.0</td>\n",
              "      <td>0.0</td>\n",
              "      <td>0.0</td>\n",
              "      <td>0.0</td>\n",
              "      <td>0.0</td>\n",
              "      <td>0.0</td>\n",
              "      <td>0.0</td>\n",
              "      <td>0.0</td>\n",
              "      <td>0.0</td>\n",
              "      <td>0.0</td>\n",
              "      <td>0.0</td>\n",
              "      <td>0.0</td>\n",
              "      <td>0.0</td>\n",
              "      <td>0.0</td>\n",
              "      <td>...</td>\n",
              "      <td>0.0</td>\n",
              "      <td>0.0</td>\n",
              "      <td>0.0</td>\n",
              "      <td>0.0</td>\n",
              "      <td>0.0</td>\n",
              "      <td>0.0</td>\n",
              "      <td>0.0</td>\n",
              "      <td>0.0</td>\n",
              "      <td>0.0</td>\n",
              "      <td>0.0</td>\n",
              "      <td>0.0</td>\n",
              "      <td>0.0</td>\n",
              "      <td>0.0</td>\n",
              "      <td>0.0</td>\n",
              "      <td>0.0</td>\n",
              "      <td>0.0</td>\n",
              "      <td>0.0</td>\n",
              "      <td>0.0</td>\n",
              "      <td>0.0</td>\n",
              "      <td>0.0</td>\n",
              "      <td>0.0</td>\n",
              "      <td>0.0</td>\n",
              "      <td>0.0</td>\n",
              "      <td>0.0</td>\n",
              "      <td>0.0</td>\n",
              "      <td>0.0</td>\n",
              "      <td>0.0</td>\n",
              "      <td>0.0</td>\n",
              "      <td>0.0</td>\n",
              "      <td>0.0</td>\n",
              "      <td>0.0</td>\n",
              "      <td>0.0</td>\n",
              "      <td>0.0</td>\n",
              "      <td>0.0</td>\n",
              "      <td>0.0</td>\n",
              "      <td>0.0</td>\n",
              "      <td>0.0</td>\n",
              "      <td>0.0</td>\n",
              "      <td>0.0</td>\n",
              "      <td>0.0</td>\n",
              "    </tr>\n",
              "    <tr>\n",
              "      <th>3</th>\n",
              "      <td>0.0</td>\n",
              "      <td>0.0</td>\n",
              "      <td>0.0</td>\n",
              "      <td>0.0</td>\n",
              "      <td>0.0</td>\n",
              "      <td>0.0</td>\n",
              "      <td>0.0</td>\n",
              "      <td>0.0</td>\n",
              "      <td>0.0</td>\n",
              "      <td>0.0</td>\n",
              "      <td>0.0</td>\n",
              "      <td>0.0</td>\n",
              "      <td>0.0</td>\n",
              "      <td>0.0</td>\n",
              "      <td>0.0</td>\n",
              "      <td>0.0</td>\n",
              "      <td>0.0</td>\n",
              "      <td>0.0</td>\n",
              "      <td>0.0</td>\n",
              "      <td>0.0</td>\n",
              "      <td>0.0</td>\n",
              "      <td>0.0</td>\n",
              "      <td>0.0</td>\n",
              "      <td>0.0</td>\n",
              "      <td>0.0</td>\n",
              "      <td>0.0</td>\n",
              "      <td>0.0</td>\n",
              "      <td>0.0</td>\n",
              "      <td>0.0</td>\n",
              "      <td>0.0</td>\n",
              "      <td>0.0</td>\n",
              "      <td>0.0</td>\n",
              "      <td>0.0</td>\n",
              "      <td>0.0</td>\n",
              "      <td>0.0</td>\n",
              "      <td>0.0</td>\n",
              "      <td>0.0</td>\n",
              "      <td>0.0</td>\n",
              "      <td>0.0</td>\n",
              "      <td>0.0</td>\n",
              "      <td>...</td>\n",
              "      <td>0.0</td>\n",
              "      <td>0.0</td>\n",
              "      <td>0.0</td>\n",
              "      <td>0.0</td>\n",
              "      <td>0.0</td>\n",
              "      <td>0.0</td>\n",
              "      <td>0.0</td>\n",
              "      <td>0.0</td>\n",
              "      <td>0.0</td>\n",
              "      <td>0.0</td>\n",
              "      <td>0.0</td>\n",
              "      <td>0.0</td>\n",
              "      <td>0.0</td>\n",
              "      <td>0.0</td>\n",
              "      <td>0.0</td>\n",
              "      <td>0.0</td>\n",
              "      <td>0.0</td>\n",
              "      <td>0.0</td>\n",
              "      <td>0.0</td>\n",
              "      <td>0.0</td>\n",
              "      <td>0.0</td>\n",
              "      <td>0.0</td>\n",
              "      <td>0.0</td>\n",
              "      <td>0.0</td>\n",
              "      <td>0.0</td>\n",
              "      <td>0.0</td>\n",
              "      <td>0.0</td>\n",
              "      <td>0.0</td>\n",
              "      <td>0.0</td>\n",
              "      <td>0.0</td>\n",
              "      <td>0.0</td>\n",
              "      <td>0.0</td>\n",
              "      <td>0.0</td>\n",
              "      <td>0.0</td>\n",
              "      <td>0.0</td>\n",
              "      <td>0.0</td>\n",
              "      <td>0.0</td>\n",
              "      <td>0.0</td>\n",
              "      <td>0.0</td>\n",
              "      <td>0.0</td>\n",
              "    </tr>\n",
              "    <tr>\n",
              "      <th>4</th>\n",
              "      <td>0.0</td>\n",
              "      <td>0.0</td>\n",
              "      <td>0.0</td>\n",
              "      <td>0.0</td>\n",
              "      <td>0.0</td>\n",
              "      <td>0.0</td>\n",
              "      <td>0.0</td>\n",
              "      <td>0.0</td>\n",
              "      <td>0.0</td>\n",
              "      <td>0.0</td>\n",
              "      <td>0.0</td>\n",
              "      <td>0.0</td>\n",
              "      <td>0.0</td>\n",
              "      <td>0.0</td>\n",
              "      <td>0.0</td>\n",
              "      <td>0.0</td>\n",
              "      <td>0.0</td>\n",
              "      <td>0.0</td>\n",
              "      <td>0.0</td>\n",
              "      <td>0.0</td>\n",
              "      <td>0.0</td>\n",
              "      <td>0.0</td>\n",
              "      <td>0.0</td>\n",
              "      <td>0.0</td>\n",
              "      <td>0.0</td>\n",
              "      <td>0.0</td>\n",
              "      <td>0.0</td>\n",
              "      <td>0.0</td>\n",
              "      <td>0.0</td>\n",
              "      <td>0.0</td>\n",
              "      <td>0.0</td>\n",
              "      <td>0.0</td>\n",
              "      <td>0.0</td>\n",
              "      <td>0.0</td>\n",
              "      <td>0.0</td>\n",
              "      <td>0.0</td>\n",
              "      <td>0.0</td>\n",
              "      <td>0.0</td>\n",
              "      <td>0.0</td>\n",
              "      <td>0.0</td>\n",
              "      <td>...</td>\n",
              "      <td>0.0</td>\n",
              "      <td>0.0</td>\n",
              "      <td>0.0</td>\n",
              "      <td>0.0</td>\n",
              "      <td>0.0</td>\n",
              "      <td>0.0</td>\n",
              "      <td>0.0</td>\n",
              "      <td>0.0</td>\n",
              "      <td>0.0</td>\n",
              "      <td>0.0</td>\n",
              "      <td>0.0</td>\n",
              "      <td>0.0</td>\n",
              "      <td>0.0</td>\n",
              "      <td>0.0</td>\n",
              "      <td>0.0</td>\n",
              "      <td>0.0</td>\n",
              "      <td>0.0</td>\n",
              "      <td>0.0</td>\n",
              "      <td>0.0</td>\n",
              "      <td>0.0</td>\n",
              "      <td>0.0</td>\n",
              "      <td>0.0</td>\n",
              "      <td>0.0</td>\n",
              "      <td>0.0</td>\n",
              "      <td>0.0</td>\n",
              "      <td>0.0</td>\n",
              "      <td>0.0</td>\n",
              "      <td>0.0</td>\n",
              "      <td>0.0</td>\n",
              "      <td>0.0</td>\n",
              "      <td>0.0</td>\n",
              "      <td>0.0</td>\n",
              "      <td>0.0</td>\n",
              "      <td>0.0</td>\n",
              "      <td>0.0</td>\n",
              "      <td>0.0</td>\n",
              "      <td>0.0</td>\n",
              "      <td>0.0</td>\n",
              "      <td>0.0</td>\n",
              "      <td>0.0</td>\n",
              "    </tr>\n",
              "  </tbody>\n",
              "</table>\n",
              "<p>5 rows × 5000 columns</p>\n",
              "</div>"
            ],
            "text/plain": [
              "   a00001 b00001  a00001 b00001 c00001  ...  d33879 a00003  d33879 a00003 b00026\n",
              "0            0.0                   0.0  ...            0.0                   0.0\n",
              "1            0.0                   0.0  ...            0.0                   0.0\n",
              "2            0.0                   0.0  ...            0.0                   0.0\n",
              "3            0.0                   0.0  ...            0.0                   0.0\n",
              "4            0.0                   0.0  ...            0.0                   0.0\n",
              "\n",
              "[5 rows x 5000 columns]"
            ]
          },
          "metadata": {
            "tags": []
          },
          "execution_count": 233
        }
      ]
    },
    {
      "cell_type": "code",
      "metadata": {
        "id": "adRLwjERlY1m",
        "colab_type": "code",
        "outputId": "204b4c02-2bbd-45a9-dd80-64475c792e32",
        "colab": {
          "base_uri": "https://localhost:8080/",
          "height": 84
        }
      },
      "source": [
        "from sklearn import model_selection, naive_bayes, svm\n",
        "from sklearn.metrics import accuracy_score, recall_score, precision_score\n",
        "# fit the training dataset on the NB classifier\n",
        "Naive = naive_bayes.MultinomialNB()\n",
        "Naive.fit(train_X_Tfidf,train_y)\n",
        "\n",
        "# predict the labels on train dataset\n",
        "pred_train = Naive.predict(train_X_Tfidf)\n",
        "\n",
        "# predict the labels on validation dataset\n",
        "pred_test = Naive.predict(test_X_Tfidf)\n",
        "\n",
        "# Use accuracy_score function to get the accuracy\n",
        "print(\"Naive Bayes Accuracy Score on Train set -> \", accuracy_score(train_y, pred_train)*100)\n",
        "print(\"Naive Bayes Accuracy Score on Validation set -> \", accuracy_score(test_y, pred_test)*100)\n",
        "\n",
        "\n",
        "rec = recall_score(test_y, pred_test, pos_label='female')\n",
        "\n",
        "prec = precision_score(test_y, pred_test, pos_label='female')\n",
        "\n",
        "print(\"Recall Score on Validation set:\", rec)\n",
        "\n",
        "print(\"Precision Score on Validation set:\", prec)"
      ],
      "execution_count": 0,
      "outputs": [
        {
          "output_type": "stream",
          "text": [
            "Naive Bayes Accuracy Score on Train set ->  89.48299319727892\n",
            "Naive Bayes Accuracy Score on Validation set ->  85.3015873015873\n",
            "Recall Score on Validation set: 0.974485596707819\n",
            "Precision Score on Validation set: 0.8551823763091368\n"
          ],
          "name": "stdout"
        }
      ]
    },
    {
      "cell_type": "code",
      "metadata": {
        "id": "vmXX39t7eCHA",
        "colab_type": "code",
        "outputId": "f77e99c1-b7f8-47f9-a219-74a63e6696a7",
        "colab": {
          "base_uri": "https://localhost:8080/",
          "height": 218
        }
      },
      "source": [
        "Cs = [0.001, 0.01, 0.1, 1, 10]\n",
        "gammas = [ 0.001, 0.01, 0.1, 1]\n",
        "param_grid = {'C': Cs, 'gamma' : gammas}\n",
        "grid_search = GridSearchCV(svm.SVC(kernel='rbf'), param_grid, cv=2)\n",
        "grid_search.fit(train_X_Tfidf,train_y)\n"
      ],
      "execution_count": 0,
      "outputs": [
        {
          "output_type": "execute_result",
          "data": {
            "text/plain": [
              "GridSearchCV(cv=2, error_score=nan,\n",
              "             estimator=SVC(C=1.0, break_ties=False, cache_size=200,\n",
              "                           class_weight=None, coef0=0.0,\n",
              "                           decision_function_shape='ovr', degree=3,\n",
              "                           gamma='scale', kernel='rbf', max_iter=-1,\n",
              "                           probability=False, random_state=None, shrinking=True,\n",
              "                           tol=0.001, verbose=False),\n",
              "             iid='deprecated', n_jobs=None,\n",
              "             param_grid={'C': [0.001, 0.01, 0.1, 1, 10],\n",
              "                         'gamma': [0.001, 0.01, 0.1, 1]},\n",
              "             pre_dispatch='2*n_jobs', refit=True, return_train_score=False,\n",
              "             scoring=None, verbose=0)"
            ]
          },
          "metadata": {
            "tags": []
          },
          "execution_count": 235
        }
      ]
    },
    {
      "cell_type": "code",
      "metadata": {
        "id": "jRSC-6ZAnspk",
        "colab_type": "code",
        "outputId": "bc59affd-aafa-4349-e186-a08bd51c36d9",
        "colab": {
          "base_uri": "https://localhost:8080/",
          "height": 84
        }
      },
      "source": [
        "# Classifier - Algorithm - SVM\n",
        "# fit the training dataset on the classifier\n",
        "\n",
        "# Trail 1\n",
        "#SVM = svm.SVC(kernel='rbf')\n",
        "#SVM.fit(train_X_Tfidf,train_y)\n",
        "\n",
        "# Trail 2 with Grid search\n",
        "# predict the labels on train dataset\n",
        "pred_train1 = grid_search.predict(train_X_Tfidf)\n",
        "\n",
        "# predict the labels on validation dataset\n",
        "pred_test1 = grid_search.predict(test_X_Tfidf)\n",
        "\n",
        "# Use accuracy_score function to get the accuracy\n",
        "print(\"SVM Accuracy Score on Train set -> \", accuracy_score(train_y, pred_train1)*100)\n",
        "print(\"SVM Accuracy Score on Validation set -> \",accuracy_score(test_y, pred_test1)*100)\n",
        "\n",
        "rec1 = recall_score(test_y, pred_test1, pos_label='female')\n",
        "\n",
        "prec1 = precision_score(test_y, pred_test1, pos_label='female')\n",
        "\n",
        "print(\"Recall Score on Validation set:\", rec1)\n",
        "\n",
        "print(\"Precision Score on Validation set:\", prec1)"
      ],
      "execution_count": 0,
      "outputs": [
        {
          "output_type": "stream",
          "text": [
            "SVM Accuracy Score on Train set ->  90.0952380952381\n",
            "SVM Accuracy Score on Validation set ->  87.42857142857143\n",
            "Recall Score on Validation set: 0.9596707818930041\n",
            "Precision Score on Validation set: 0.8866920152091254\n"
          ],
          "name": "stdout"
        }
      ]
    },
    {
      "cell_type": "code",
      "metadata": {
        "id": "WtwxE7aKCUXq",
        "colab_type": "code",
        "colab": {}
      },
      "source": [
        "from xgboost import XGBClassifier"
      ],
      "execution_count": 0,
      "outputs": []
    },
    {
      "cell_type": "code",
      "metadata": {
        "id": "fL-2D0EgBTTO",
        "colab_type": "code",
        "outputId": "f5d8c17b-eec8-4472-da29-960cf456ef20",
        "colab": {
          "base_uri": "https://localhost:8080/",
          "height": 118
        }
      },
      "source": [
        "#Trial 1\n",
        "XGB_model = XGBClassifier(n_estimators=1500, gamma=0.25,learning_rate=0.2)\n",
        "%time XGB_model.fit(train_X_Tfidf, train_y)\n",
        "\n",
        "# predict the labels on train dataset\n",
        "pred_train_xg = XGB_model.predict(train_X_Tfidf)\n",
        "\n",
        "# predict the labels on validation dataset\n",
        "pred_test_xg = XGB_model.predict(test_X_Tfidf)\n",
        "\n",
        "\n",
        "print(\"XGB Accuracy Score on Train set -> \", accuracy_score(train_y, pred_train_xg)*100)\n",
        "print(\"XGB Accuracy Score on Validation set -> \",accuracy_score(test_y, pred_test_xg)*100)\n",
        "rec1 = recall_score(test_y, pred_test_xg, pos_label='female')\n",
        "\n",
        "prec1 = precision_score(test_y, pred_test_xg, pos_label='female')\n",
        "\n",
        "print(\"Recall Score on Validation set:\", rec1)\n",
        "\n",
        "print(\"Precision Score on Validation set:\", prec1)\n"
      ],
      "execution_count": 0,
      "outputs": [
        {
          "output_type": "stream",
          "text": [
            "CPU times: user 29.7 s, sys: 16.4 ms, total: 29.7 s\n",
            "Wall time: 29.8 s\n",
            "SVM Accuracy Score on Train set ->  90.70748299319727\n",
            "SVM Accuracy Score on Validation set ->  86.63492063492063\n",
            "Recall Score on Validation set: 0.9497942386831276\n",
            "Precision Score on Validation set: 0.8853087840429612\n"
          ],
          "name": "stdout"
        }
      ]
    },
    {
      "cell_type": "code",
      "metadata": {
        "id": "1-yYVmsWB-s1",
        "colab_type": "code",
        "colab": {}
      },
      "source": [
        "import xgboost as xgb\n",
        "clf = xgb.XGBClassifier()\n",
        "parameters = {\n",
        "     \"eta\"    : [0.05, 0.10, 0.15, 0.20, 0.25, 0.30 ] ,\n",
        "     \"max_depth\"        : [ 3, 4, 5, 6, 8, 10, 12, 15],\n",
        "     \"min_child_weight\" : [ 1, 3, 5, 7 ],\n",
        "     \"gamma\"            : [ 0.0, 0.1, 0.2 , 0.3, 0.4 ],\n",
        "     \"colsample_bytree\" : [ 0.3, 0.4, 0.5 , 0.7 ]\n",
        "     }\n",
        "\n",
        "from sklearn.model_selection import GridSearchCV\n",
        "grid = GridSearchCV(clf,\n",
        "                    parameters, n_jobs=4,\n",
        "                    scoring=\"neg_log_loss\",\n",
        "                    cv=3)\n",
        "\n"
      ],
      "execution_count": 0,
      "outputs": []
    },
    {
      "cell_type": "code",
      "metadata": {
        "id": "-bAZYzKN5g0-",
        "colab_type": "code",
        "colab": {}
      },
      "source": [
        "grid.fit(train_X_Tfidf, train_y)"
      ],
      "execution_count": 0,
      "outputs": []
    },
    {
      "cell_type": "code",
      "metadata": {
        "id": "g7dEDHnqEh6g",
        "colab_type": "code",
        "colab": {}
      },
      "source": [
        "# predict the labels on train dataset\n",
        "pred_train_xg = clf.predict(train_X_Tfidf)\n",
        "\n",
        "# predict the labels on validation dataset\n",
        "pred_test_xg = clf.predict(test_X_Tfidf)\n",
        "\n",
        "\n",
        "print(\"XGB Accuracy Score on Train set -> \", accuracy_score(train_y, pred_train_xg)*100)\n",
        "print(\"XGB Accuracy Score on Validation set -> \",accuracy_score(test_y, pred_test_xg)*100)\n",
        "rec1 = recall_score(test_y, pred_test_xg, pos_label='female')\n",
        "\n",
        "prec1 = precision_score(test_y, pred_test_xg, pos_label='female')\n",
        "\n",
        "print(\"Recall Score on Validation set:\", rec1)\n",
        "\n",
        "print(\"Precision Score on Validation set:\", prec1)"
      ],
      "execution_count": 0,
      "outputs": []
    },
    {
      "cell_type": "code",
      "metadata": {
        "id": "I25u8npERPrM",
        "colab_type": "code",
        "colab": {}
      },
      "source": [
        "from sklearn.ensemble import RandomForestClassifier"
      ],
      "execution_count": 0,
      "outputs": []
    },
    {
      "cell_type": "code",
      "metadata": {
        "id": "G414ciaBRQGT",
        "colab_type": "code",
        "outputId": "09132b0e-17ff-4b2a-9426-e63a313e302c",
        "colab": {
          "base_uri": "https://localhost:8080/",
          "height": 151
        }
      },
      "source": [
        "clf1 = RandomForestClassifier(n_estimators=1000,max_depth=5)\n",
        "clf1.fit(X=train_X_Tfidf, y=train_y)"
      ],
      "execution_count": 0,
      "outputs": [
        {
          "output_type": "execute_result",
          "data": {
            "text/plain": [
              "RandomForestClassifier(bootstrap=True, ccp_alpha=0.0, class_weight=None,\n",
              "                       criterion='gini', max_depth=5, max_features='auto',\n",
              "                       max_leaf_nodes=None, max_samples=None,\n",
              "                       min_impurity_decrease=0.0, min_impurity_split=None,\n",
              "                       min_samples_leaf=1, min_samples_split=2,\n",
              "                       min_weight_fraction_leaf=0.0, n_estimators=1000,\n",
              "                       n_jobs=None, oob_score=False, random_state=None,\n",
              "                       verbose=0, warm_start=False)"
            ]
          },
          "metadata": {
            "tags": []
          },
          "execution_count": 198
        }
      ]
    },
    {
      "cell_type": "code",
      "metadata": {
        "id": "-uT5hg_ZZiL-",
        "colab_type": "code",
        "colab": {}
      },
      "source": [
        "pred_train_rf = clf1.predict(train_X_Tfidf)\n",
        "pred_test_rf = clf1.predict(test_X_Tfidf)"
      ],
      "execution_count": 0,
      "outputs": []
    },
    {
      "cell_type": "code",
      "metadata": {
        "id": "B4DxAC2JZiaS",
        "colab_type": "code",
        "outputId": "c954baea-18ec-43d2-d53b-f9991d9f6c58",
        "colab": {
          "base_uri": "https://localhost:8080/",
          "height": 84
        }
      },
      "source": [
        "print(\"RF Accuracy Score on Train set -> \", accuracy_score(train_y, pred_train_rf)*100)\n",
        "print(\"RF Accuracy Score on Validation set -> \",accuracy_score(test_y, pred_test_rf)*100)\n",
        "rec1 = recall_score(test_y, pred_test_rf, pos_label='female')\n",
        "\n",
        "prec1 = precision_score(test_y, pred_test_rf, pos_label='female')\n",
        "\n",
        "print(\"Recall Score on Validation set:\", rec1)\n",
        "\n",
        "print(\"Precision Score on Validation set:\", prec1)"
      ],
      "execution_count": 0,
      "outputs": [
        {
          "output_type": "stream",
          "text": [
            "RF Accuracy Score on Train set ->  78.39455782312925\n",
            "RF Accuracy Score on Validation set ->  77.14285714285715\n",
            "Recall Score on Validation set: 1.0\n",
            "Precision Score on Validation set: 0.7714285714285715\n"
          ],
          "name": "stdout"
        }
      ]
    },
    {
      "cell_type": "code",
      "metadata": {
        "id": "PDHr_lMEoDU2",
        "colab_type": "code",
        "colab": {}
      },
      "source": [
        "view_data_test = pd.read_csv(\"test_Yix80N0.csv\")"
      ],
      "execution_count": 0,
      "outputs": []
    },
    {
      "cell_type": "code",
      "metadata": {
        "id": "LOgQ2-Zaog0z",
        "colab_type": "code",
        "outputId": "791d8252-d142-4858-e8cb-7ba1afd541da",
        "colab": {
          "base_uri": "https://localhost:8080/",
          "height": 118
        }
      },
      "source": [
        "view_data_test.dtypes"
      ],
      "execution_count": 0,
      "outputs": [
        {
          "output_type": "execute_result",
          "data": {
            "text/plain": [
              "session_id     object\n",
              "startTime      object\n",
              "endTime        object\n",
              "ProductList    object\n",
              "gender         object\n",
              "dtype: object"
            ]
          },
          "metadata": {
            "tags": []
          },
          "execution_count": 66
        }
      ]
    },
    {
      "cell_type": "code",
      "metadata": {
        "id": "PXaswFfVuJ9e",
        "colab_type": "code",
        "outputId": "884d3448-d254-4cc1-edce-598c4305ef1a",
        "colab": {
          "base_uri": "https://localhost:8080/",
          "height": 34
        }
      },
      "source": [
        "view_data_test.shape"
      ],
      "execution_count": 0,
      "outputs": [
        {
          "output_type": "execute_result",
          "data": {
            "text/plain": [
              "(4500, 4)"
            ]
          },
          "metadata": {
            "tags": []
          },
          "execution_count": 89
        }
      ]
    },
    {
      "cell_type": "code",
      "metadata": {
        "id": "NG7x5nZwoDqZ",
        "colab_type": "code",
        "colab": {}
      },
      "source": [
        "for i, line in enumerate(view_data_test['ProductList']):\n",
        "    content = line.split(';')\n",
        "    view_data_test.loc[i,'New ProductList'] = str(content)"
      ],
      "execution_count": 0,
      "outputs": []
    },
    {
      "cell_type": "code",
      "metadata": {
        "id": "Tp4PAmykpC_q",
        "colab_type": "code",
        "colab": {}
      },
      "source": [
        "\n",
        "test_file = Tfidf_vect.transform(view_data_test['New ProductList'])\n"
      ],
      "execution_count": 0,
      "outputs": []
    },
    {
      "cell_type": "code",
      "metadata": {
        "id": "-uc0HctNqDHt",
        "colab_type": "code",
        "colab": {}
      },
      "source": [
        "\n",
        "\n",
        "# predict the labels on train dataset\n",
        "# Trial 1\n",
        "#pred_subm = Naive.predict(test_file)\n",
        "# Trial 3\n",
        "pred_subm = grid_search.predict(test_file)\n",
        "# Trial 2\n",
        "#pred_subm = XGB_model.predict(test_file)\n"
      ],
      "execution_count": 0,
      "outputs": []
    },
    {
      "cell_type": "code",
      "metadata": {
        "id": "0l1Uo0git-CR",
        "colab_type": "code",
        "outputId": "7a9d1b48-cf3f-41d7-b932-a7bd7fd36bc3",
        "colab": {
          "base_uri": "https://localhost:8080/",
          "height": 34
        }
      },
      "source": [
        "pred_subm.shape"
      ],
      "execution_count": 0,
      "outputs": [
        {
          "output_type": "execute_result",
          "data": {
            "text/plain": [
              "(4500,)"
            ]
          },
          "metadata": {
            "tags": []
          },
          "execution_count": 184
        }
      ]
    },
    {
      "cell_type": "code",
      "metadata": {
        "id": "GDp7GFvfqqPo",
        "colab_type": "code",
        "colab": {}
      },
      "source": [
        "sub_data = pd.read_csv(\"Submission_v1.csv\")"
      ],
      "execution_count": 0,
      "outputs": []
    },
    {
      "cell_type": "code",
      "metadata": {
        "id": "KdAY10BEuCnJ",
        "colab_type": "code",
        "outputId": "be27b90c-9b86-4293-bc12-410de2ddc7d9",
        "colab": {
          "base_uri": "https://localhost:8080/",
          "height": 34
        }
      },
      "source": [
        "sub_data.shape"
      ],
      "execution_count": 0,
      "outputs": [
        {
          "output_type": "execute_result",
          "data": {
            "text/plain": [
              "(4500, 4)"
            ]
          },
          "metadata": {
            "tags": []
          },
          "execution_count": 125
        }
      ]
    },
    {
      "cell_type": "code",
      "metadata": {
        "id": "FbHCjlMTxRYC",
        "colab_type": "code",
        "outputId": "61d17883-9ebc-4bd4-db11-31b7e8602dff",
        "colab": {
          "base_uri": "https://localhost:8080/",
          "height": 101
        }
      },
      "source": [
        "sub_data.dtypes"
      ],
      "execution_count": 0,
      "outputs": [
        {
          "output_type": "execute_result",
          "data": {
            "text/plain": [
              "session_id     object\n",
              "startTime      object\n",
              "endTime        object\n",
              "ProductList    object\n",
              "dtype: object"
            ]
          },
          "metadata": {
            "tags": []
          },
          "execution_count": 126
        }
      ]
    },
    {
      "cell_type": "code",
      "metadata": {
        "id": "ysz-r2bCvR_q",
        "colab_type": "code",
        "colab": {}
      },
      "source": [
        "sub_data.drop(['startTime', 'endTime', 'ProductList'], axis=1, inplace=True)"
      ],
      "execution_count": 0,
      "outputs": []
    },
    {
      "cell_type": "code",
      "metadata": {
        "id": "AjOv2xGsvz_0",
        "colab_type": "code",
        "outputId": "9db12ef7-815f-41e2-ab4f-305b71f11d08",
        "colab": {
          "base_uri": "https://localhost:8080/",
          "height": 34
        }
      },
      "source": [
        "sub_data.shape"
      ],
      "execution_count": 0,
      "outputs": [
        {
          "output_type": "execute_result",
          "data": {
            "text/plain": [
              "(4500, 1)"
            ]
          },
          "metadata": {
            "tags": []
          },
          "execution_count": 187
        }
      ]
    },
    {
      "cell_type": "code",
      "metadata": {
        "id": "XmZLS8RKvuUp",
        "colab_type": "code",
        "outputId": "e35fd453-1003-4fa9-b8c5-16c8c1d6f50c",
        "colab": {
          "base_uri": "https://localhost:8080/",
          "height": 34
        }
      },
      "source": [
        "pred_subm[2]"
      ],
      "execution_count": 0,
      "outputs": [
        {
          "output_type": "execute_result",
          "data": {
            "text/plain": [
              "'female'"
            ]
          },
          "metadata": {
            "tags": []
          },
          "execution_count": 129
        }
      ]
    },
    {
      "cell_type": "code",
      "metadata": {
        "id": "bsVndukOttHl",
        "colab_type": "code",
        "colab": {}
      },
      "source": [
        "sub_data['gender'] = pred_subm"
      ],
      "execution_count": 0,
      "outputs": []
    },
    {
      "cell_type": "code",
      "metadata": {
        "id": "9tpPFfl00zO5",
        "colab_type": "code",
        "outputId": "9c6a8b45-7abd-4d91-ff29-884981478f11",
        "colab": {
          "base_uri": "https://localhost:8080/",
          "height": 252
        }
      },
      "source": [
        "sub_data.head"
      ],
      "execution_count": 0,
      "outputs": [
        {
          "output_type": "execute_result",
          "data": {
            "text/plain": [
              "<bound method NDFrame.head of      session_id  gender\n",
              "0        u12112  female\n",
              "1        u19725  female\n",
              "2        u11795  female\n",
              "3        u22639  female\n",
              "4        u18034  female\n",
              "...         ...     ...\n",
              "4495     u23966    male\n",
              "4496     u20527  female\n",
              "4497     u13253  female\n",
              "4498     u17094    male\n",
              "4499     u24310  female\n",
              "\n",
              "[4500 rows x 2 columns]>"
            ]
          },
          "metadata": {
            "tags": []
          },
          "execution_count": 131
        }
      ]
    },
    {
      "cell_type": "code",
      "metadata": {
        "id": "OrM4X-8B04pi",
        "colab_type": "code",
        "colab": {}
      },
      "source": [
        "sub_data.to_csv(\"Submission_v6.csv\")"
      ],
      "execution_count": 0,
      "outputs": []
    }
  ]
}