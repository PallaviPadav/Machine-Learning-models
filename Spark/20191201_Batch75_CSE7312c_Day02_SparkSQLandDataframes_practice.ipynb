{
 "cells": [
  {
   "cell_type": "markdown",
   "metadata": {
    "colab_type": "text",
    "id": "AzsgZOxcWbSm"
   },
   "source": [
    "# Spark Operations using Spark DataFrames and Spark SQL"
   ]
  },
  {
   "cell_type": "markdown",
   "metadata": {
    "colab_type": "text",
    "id": "k_7v4FKUWbSo"
   },
   "source": [
    "### 0.Set PySpark environment."
   ]
  },
  {
   "cell_type": "code",
   "execution_count": 1,
   "metadata": {
    "colab": {},
    "colab_type": "code",
    "id": "qvUHvIH76_jh"
   },
   "outputs": [
    {
     "name": "stderr",
     "output_type": "stream",
     "text": [
      "The system cannot find the path specified.\n",
      "'wget' is not recognized as an internal or external command,\n",
      "operable program or batch file.\n",
      "tar: Error opening archive: Failed to open 'spark-2.3.1-bin-hadoop2.7.tgz'\n"
     ]
    }
   ],
   "source": [
    "#!apt-get install openjdk-8-jdk-headless -qq > /dev/null\n",
    "#!wget -q https://archive.apache.org/dist/spark/spark-2.3.1/spark-2.3.1-bin-hadoop2.7.tgz\n",
    "#!tar xf spark-2.3.1-bin-hadoop2.7.tgz\n",
    "#!pip install -q findspark"
   ]
  },
  {
   "cell_type": "markdown",
   "metadata": {},
   "source": [
    "OS module in Python provides functions for interacting with the operating system. OS comes under Python’s standard utility modules. This module provides a portable way of using operating system dependent functionality.\n",
    "\n",
    "os.environ in Python is a mapping object that represents the user’s environmental variables. It returns a dictionary having user’s environmental variable as key and their values as value.\n",
    "\n",
    "os.environ behaves like a python dictionary, so all the common dictionary operations like get and set can be performed. We can also modify os.environ but any changes will be effective only for the current process where it was assigned and it will not change the value permanently."
   ]
  },
  {
   "cell_type": "code",
   "execution_count": 0,
   "metadata": {
    "colab": {},
    "colab_type": "code",
    "id": "5c5KFBUO7haA"
   },
   "outputs": [],
   "source": [
    "import os\n",
    "os.environ[\"JAVA_HOME\"] = \"/usr/lib/jvm/java-8-openjdk-amd64\"\n",
    "os.environ[\"SPARK_HOME\"] = \"/content/spark-2.3.1-bin-hadoop2.7\""
   ]
  },
  {
   "cell_type": "markdown",
   "metadata": {
    "colab_type": "text",
    "id": "sRKsx8yjWbSt"
   },
   "source": [
    "### 1.Create  SparkSession"
   ]
  },
  {
   "cell_type": "code",
   "execution_count": 0,
   "metadata": {
    "colab": {},
    "colab_type": "code",
    "id": "pFCuwd2m9XU1"
   },
   "outputs": [],
   "source": [
    "import findspark\n",
    "findspark.init()\n",
    "\n",
    "from pyspark.sql import SparkSession\n",
    "\n",
    "spark = SparkSession \\\n",
    "      .builder \\\n",
    "      .appName('PySpark on Google Colab') \\\n",
    "      .master('local[*]') \\\n",
    "      .getOrCreate()"
   ]
  },
  {
   "cell_type": "markdown",
   "metadata": {
    "colab_type": "text",
    "id": "f1SIBfhkWbSx"
   },
   "source": [
    "### 2. Check the Spark Session Configuration"
   ]
  },
  {
   "cell_type": "code",
   "execution_count": 230,
   "metadata": {
    "colab": {
     "base_uri": "https://localhost:8080/",
     "height": 216
    },
    "colab_type": "code",
    "executionInfo": {
     "elapsed": 3732,
     "status": "ok",
     "timestamp": 1575170744146,
     "user": {
      "displayName": "Thomas K John",
      "photoUrl": "",
      "userId": "10832060721107655920"
     },
     "user_tz": -330
    },
    "id": "jwcDyfSLWbSy",
    "outputId": "78a68955-9e66-4908-fb11-f281e8d96081",
    "scrolled": true
   },
   "outputs": [
    {
     "data": {
      "text/html": [
       "\n",
       "            <div>\n",
       "                <p><b>SparkSession - in-memory</b></p>\n",
       "                \n",
       "        <div>\n",
       "            <p><b>SparkContext</b></p>\n",
       "\n",
       "            <p><a href=\"http://d091d28b8f26:4040\">Spark UI</a></p>\n",
       "\n",
       "            <dl>\n",
       "              <dt>Version</dt>\n",
       "                <dd><code>v2.3.1</code></dd>\n",
       "              <dt>Master</dt>\n",
       "                <dd><code>local[*]</code></dd>\n",
       "              <dt>AppName</dt>\n",
       "                <dd><code>PySpark on Google Colab</code></dd>\n",
       "            </dl>\n",
       "        </div>\n",
       "        \n",
       "            </div>\n",
       "        "
      ],
      "text/plain": [
       "<pyspark.sql.session.SparkSession at 0x7f512d5fe1d0>"
      ]
     },
     "execution_count": 230,
     "metadata": {
      "tags": []
     },
     "output_type": "execute_result"
    }
   ],
   "source": [
    "spark"
   ]
  },
  {
   "cell_type": "code",
   "execution_count": 0,
   "metadata": {
    "colab": {},
    "colab_type": "code",
    "id": "RX1FG7BTWbS1"
   },
   "outputs": [],
   "source": [
    "sc = spark.sparkContext"
   ]
  },
  {
   "cell_type": "code",
   "execution_count": 232,
   "metadata": {
    "colab": {
     "base_uri": "https://localhost:8080/",
     "height": 193
    },
    "colab_type": "code",
    "executionInfo": {
     "elapsed": 3717,
     "status": "ok",
     "timestamp": 1575170744150,
     "user": {
      "displayName": "Thomas K John",
      "photoUrl": "",
      "userId": "10832060721107655920"
     },
     "user_tz": -330
    },
    "id": "QjMl6c3UWbS3",
    "outputId": "c3bb959e-6680-4108-fb0b-1fae897da540"
   },
   "outputs": [
    {
     "data": {
      "text/html": [
       "\n",
       "        <div>\n",
       "            <p><b>SparkContext</b></p>\n",
       "\n",
       "            <p><a href=\"http://d091d28b8f26:4040\">Spark UI</a></p>\n",
       "\n",
       "            <dl>\n",
       "              <dt>Version</dt>\n",
       "                <dd><code>v2.3.1</code></dd>\n",
       "              <dt>Master</dt>\n",
       "                <dd><code>local[*]</code></dd>\n",
       "              <dt>AppName</dt>\n",
       "                <dd><code>PySpark on Google Colab</code></dd>\n",
       "            </dl>\n",
       "        </div>\n",
       "        "
      ],
      "text/plain": [
       "<SparkContext master=local[*] appName=PySpark on Google Colab>"
      ]
     },
     "execution_count": 232,
     "metadata": {
      "tags": []
     },
     "output_type": "execute_result"
    }
   ],
   "source": [
    "sc"
   ]
  },
  {
   "cell_type": "markdown",
   "metadata": {
    "colab_type": "text",
    "id": "nQp-sCnhWbS8"
   },
   "source": [
    "## ** Spark DataFrame **\n",
    "\n",
    "#### A DataFrame is the most common Structured API and simply represents a table of data with rows and columns. \n",
    "<br> The list that defines the columns and the types within those columns is called the schema. \n",
    "<br> One can think of a DataFrame as a spreadsheet with named columns.\n",
    "<br> A spreadsheet sits on one computer in one specific location, whereas a Spark DataFrame can span thousands of computers.\n",
    "<br> The reason for putting the data on more than one computer should be intuitive: \n",
    "<br>     either the data is too large to fit on one machine or \n",
    "<br>     it would simply take too long to perform that computation on one machine.\n",
    "\n",
    "#### NOTE\n",
    "Spark has several core abstractions: Datasets, DataFrames, SQL Tables, and Resilient Distributed Datasets (RDDs). \n",
    "<br> These different abstractions all represent distributed collections of data. \n",
    "<br> The easiest and most efficient are DataFrames, which are available in all languages.\n",
    "\n"
   ]
  },
  {
   "cell_type": "markdown",
   "metadata": {
    "colab_type": "text",
    "id": "8OvLjPSbWbS8"
   },
   "source": [
    "### 3. Create Dataframe"
   ]
  },
  {
   "cell_type": "code",
   "execution_count": 233,
   "metadata": {
    "colab": {
     "base_uri": "https://localhost:8080/",
     "height": 170
    },
    "colab_type": "code",
    "executionInfo": {
     "elapsed": 3707,
     "status": "ok",
     "timestamp": 1575170744152,
     "user": {
      "displayName": "Thomas K John",
      "photoUrl": "",
      "userId": "10832060721107655920"
     },
     "user_tz": -330
    },
    "id": "1Nqd6LL1WbS9",
    "outputId": "07da11e5-0616-4b49-ce74-b52b5e78e03b"
   },
   "outputs": [
    {
     "name": "stdout",
     "output_type": "stream",
     "text": [
      "+---+-----+---+\n",
      "| Id| Name|Age|\n",
      "+---+-----+---+\n",
      "|  1|Alice| 30|\n",
      "|  2|  Bob| 28|\n",
      "|  3|Cathy| 31|\n",
      "|  4| Dave| 56|\n",
      "+---+-----+---+\n",
      "\n"
     ]
    }
   ],
   "source": [
    "myDF = spark.createDataFrame([[1, 'Alice', 30],\n",
    "                              [2, 'Bob', 28],\n",
    "                              [3, 'Cathy', 31], \n",
    "                              [4, 'Dave', 56]], ['Id', 'Name', 'Age'])\n",
    "\n",
    "myDF.show()"
   ]
  },
  {
   "cell_type": "markdown",
   "metadata": {
    "colab_type": "text",
    "id": "_hGA9G8lWbTD"
   },
   "source": [
    "#### Create Dataframe from an RDD"
   ]
  },
  {
   "cell_type": "code",
   "execution_count": 0,
   "metadata": {
    "colab": {},
    "colab_type": "code",
    "id": "hgjEnoWIXU3g"
   },
   "outputs": [],
   "source": [
    "#from google.colab import files\n",
    "#files.upload()"
   ]
  },
  {
   "cell_type": "code",
   "execution_count": 235,
   "metadata": {
    "colab": {
     "base_uri": "https://localhost:8080/",
     "height": 34
    },
    "colab_type": "code",
    "executionInfo": {
     "elapsed": 4884,
     "status": "ok",
     "timestamp": 1575170745348,
     "user": {
      "displayName": "Thomas K John",
      "photoUrl": "",
      "userId": "10832060721107655920"
     },
     "user_tz": -330
    },
    "id": "BSE_FDhmWbTE",
    "outputId": "da5dca87-edff-4c33-9f34-dfae6e058e8f",
    "scrolled": false
   },
   "outputs": [
    {
     "name": "stdout",
     "output_type": "stream",
     "text": [
      "Total Records with header:  550069\n"
     ]
    }
   ],
   "source": [
    "trainRDD = sc.textFile(\"./train.csv\")\n",
    "print(\"Total Records with header: \", trainRDD.count())"
   ]
  },
  {
   "cell_type": "code",
   "execution_count": 236,
   "metadata": {
    "colab": {
     "base_uri": "https://localhost:8080/",
     "height": 105
    },
    "colab_type": "code",
    "executionInfo": {
     "elapsed": 4872,
     "status": "ok",
     "timestamp": 1575170745349,
     "user": {
      "displayName": "Thomas K John",
      "photoUrl": "",
      "userId": "10832060721107655920"
     },
     "user_tz": -330
    },
    "id": "sMhDsYA9WbTH",
    "outputId": "616a5af5-ec25-487b-fee6-45242fea6cc6"
   },
   "outputs": [
    {
     "name": "stdout",
     "output_type": "stream",
     "text": [
      "\n",
      "First Two Records Before Removing Header\n",
      "\n",
      "['User_ID,Product_ID,Gender,Age,Occupation,City_Category,Stay_In_Current_City_Years,Marital_Status,Product_Category_1,Product_Category_2,Product_Category_3,Purchase', '1000001,P00069042,F,0-17,10,A,2,0,3,,,8370']\n"
     ]
    }
   ],
   "source": [
    "print(\"\\nFirst Two Records Before Removing Header\\n\")\n",
    "print(trainRDD.take(2))"
   ]
  },
  {
   "cell_type": "code",
   "execution_count": 237,
   "metadata": {
    "colab": {
     "base_uri": "https://localhost:8080/",
     "height": 34
    },
    "colab_type": "code",
    "executionInfo": {
     "elapsed": 4862,
     "status": "ok",
     "timestamp": 1575170745350,
     "user": {
      "displayName": "Thomas K John",
      "photoUrl": "",
      "userId": "10832060721107655920"
     },
     "user_tz": -330
    },
    "id": "JeUN5gplWbTL",
    "outputId": "2ea37d83-9a97-4c59-88e7-55babb8a358a"
   },
   "outputs": [
    {
     "data": {
      "text/plain": [
       "'User_ID,Product_ID,Gender,Age,Occupation,City_Category,Stay_In_Current_City_Years,Marital_Status,Product_Category_1,Product_Category_2,Product_Category_3,Purchase'"
      ]
     },
     "execution_count": 237,
     "metadata": {
      "tags": []
     },
     "output_type": "execute_result"
    }
   ],
   "source": [
    "header = trainRDD.first()\n",
    "header"
   ]
  },
  {
   "cell_type": "code",
   "execution_count": 238,
   "metadata": {
    "colab": {
     "base_uri": "https://localhost:8080/",
     "height": 102
    },
    "colab_type": "code",
    "executionInfo": {
     "elapsed": 5896,
     "status": "ok",
     "timestamp": 1575170746403,
     "user": {
      "displayName": "Thomas K John",
      "photoUrl": "",
      "userId": "10832060721107655920"
     },
     "user_tz": -330
    },
    "id": "dQa6dYE0WbTP",
    "outputId": "de0b9043-02f7-4509-c5d2-f8fb668ec94f"
   },
   "outputs": [
    {
     "name": "stdout",
     "output_type": "stream",
     "text": [
      "Total Records without header:  550068\n",
      "\n",
      "First Two Records After Removing Header\n",
      "\n",
      "['1000001,P00069042,F,0-17,10,A,2,0,3,,,8370', '1000001,P00248942,F,0-17,10,A,2,0,1,6,14,15200']\n"
     ]
    }
   ],
   "source": [
    "trainRDD = trainRDD.filter(lambda line: line != header)\n",
    "print(\"Total Records without header: \", trainRDD.count())\n",
    "print(\"\\nFirst Two Records After Removing Header\\n\")\n",
    "print(trainRDD.take(2))"
   ]
  },
  {
   "cell_type": "code",
   "execution_count": 239,
   "metadata": {
    "colab": {
     "base_uri": "https://localhost:8080/",
     "height": 85
    },
    "colab_type": "code",
    "executionInfo": {
     "elapsed": 5887,
     "status": "ok",
     "timestamp": 1575170746405,
     "user": {
      "displayName": "Thomas K John",
      "photoUrl": "",
      "userId": "10832060721107655920"
     },
     "user_tz": -330
    },
    "id": "8U-7wfXVWbTS",
    "outputId": "cb4d9f5e-9150-4085-fdb0-75c365371932"
   },
   "outputs": [
    {
     "name": "stdout",
     "output_type": "stream",
     "text": [
      "\n",
      "First Two Records After Split/Parsing\n",
      "\n",
      "[['1000001', 'P00069042', 'F', '0-17', '10', 'A', '2', '0', '3', '', '', '8370'], ['1000001', 'P00248942', 'F', '0-17', '10', 'A', '2', '0', '1', '6', '14', '15200']]\n"
     ]
    }
   ],
   "source": [
    "# Split the data into individual columns\n",
    "splitRDD = trainRDD.map(lambda row:row.split(\",\"))\n",
    "print(\"\\nFirst Two Records After Split/Parsing\\n\")\n",
    "print(splitRDD.take(2))"
   ]
  },
  {
   "cell_type": "markdown",
   "metadata": {
    "colab_type": "text",
    "id": "wBUfM9heWbTV"
   },
   "source": [
    "#### Create a dataframe for the above Data\n",
    "1. Define Schema\n",
    "2. Create dataframe using the above schema"
   ]
  },
  {
   "cell_type": "markdown",
   "metadata": {
    "colab_type": "text",
    "id": "2PgnoV2iWbTV"
   },
   "source": [
    "#### Create Schema"
   ]
  },
  {
   "cell_type": "code",
   "execution_count": 0,
   "metadata": {
    "colab": {},
    "colab_type": "code",
    "id": "Wb3WEByhWbTW"
   },
   "outputs": [],
   "source": [
    "from pyspark.sql.types import *\n",
    "\n",
    "trainSchema = StructType([\n",
    "    StructField(\"User_ID\", StringType(), True),\n",
    "    StructField(\"Product_ID\", StringType(), True),\n",
    "    StructField(\"Gender\", StringType(), True),\n",
    "    StructField(\"Age\", StringType(), True),\n",
    "    StructField(\"Occupation\", StringType(), True),\n",
    "    StructField(\"City_Category\", StringType(), True),\n",
    "    StructField(\"Stay_In_Current_City_Years\",StringType(),True),\n",
    "    StructField(\"Marital_Status\", StringType(), True),\n",
    "    StructField(\"Product_Category_1\", StringType(), True),\n",
    "    StructField(\"Product_Category_2\", StringType(), True),\n",
    "    StructField(\"Product_Category_3\", StringType(), True),\n",
    "    StructField(\"Purchase\",StringType(),True)\n",
    "])"
   ]
  },
  {
   "cell_type": "markdown",
   "metadata": {
    "colab_type": "text",
    "id": "ogMPEw_6WbTY"
   },
   "source": [
    "#### Create DataFrame using toDF()"
   ]
  },
  {
   "cell_type": "code",
   "execution_count": 241,
   "metadata": {
    "colab": {
     "base_uri": "https://localhost:8080/",
     "height": 204
    },
    "colab_type": "code",
    "executionInfo": {
     "elapsed": 5867,
     "status": "ok",
     "timestamp": 1575170746406,
     "user": {
      "displayName": "Thomas K John",
      "photoUrl": "",
      "userId": "10832060721107655920"
     },
     "user_tz": -330
    },
    "id": "bibDDyWBWbTZ",
    "outputId": "9f96ab70-1235-4865-8dba-3757a5b2dd84"
   },
   "outputs": [
    {
     "name": "stdout",
     "output_type": "stream",
     "text": [
      "+-------+----------+------+----+----------+-------------+--------------------------+--------------+------------------+------------------+------------------+--------+\n",
      "|User_ID|Product_ID|Gender| Age|Occupation|City_Category|Stay_In_Current_City_Years|Marital_Status|Product_Category_1|Product_Category_2|Product_Category_3|Purchase|\n",
      "+-------+----------+------+----+----------+-------------+--------------------------+--------------+------------------+------------------+------------------+--------+\n",
      "|1000001| P00069042|     F|0-17|        10|            A|                         2|             0|                 3|                  |                  |    8370|\n",
      "|1000001| P00248942|     F|0-17|        10|            A|                         2|             0|                 1|                 6|                14|   15200|\n",
      "|1000001| P00087842|     F|0-17|        10|            A|                         2|             0|                12|                  |                  |    1422|\n",
      "|1000001| P00085442|     F|0-17|        10|            A|                         2|             0|                12|                14|                  |    1057|\n",
      "|1000002| P00285442|     M| 55+|        16|            C|                        4+|             0|                 8|                  |                  |    7969|\n",
      "+-------+----------+------+----+----------+-------------+--------------------------+--------------+------------------+------------------+------------------+--------+\n",
      "only showing top 5 rows\n",
      "\n"
     ]
    }
   ],
   "source": [
    "trainDF = splitRDD.toDF(schema = trainSchema)\n",
    "trainDF.show(5)"
   ]
  },
  {
   "cell_type": "markdown",
   "metadata": {
    "colab_type": "text",
    "id": "ytajsz6-WbTh"
   },
   "source": [
    "#### Create DataFrame using createDataFrame()"
   ]
  },
  {
   "cell_type": "code",
   "execution_count": 242,
   "metadata": {
    "colab": {
     "base_uri": "https://localhost:8080/",
     "height": 204
    },
    "colab_type": "code",
    "executionInfo": {
     "elapsed": 5857,
     "status": "ok",
     "timestamp": 1575170746407,
     "user": {
      "displayName": "Thomas K John",
      "photoUrl": "",
      "userId": "10832060721107655920"
     },
     "user_tz": -330
    },
    "id": "_EqI3Wb8WbTi",
    "outputId": "531b3920-0ad8-4272-b387-d2067a8d6ce0"
   },
   "outputs": [
    {
     "name": "stdout",
     "output_type": "stream",
     "text": [
      "+-------+----------+------+----+----------+-------------+--------------------------+--------------+------------------+------------------+------------------+--------+\n",
      "|User_ID|Product_ID|Gender| Age|Occupation|City_Category|Stay_In_Current_City_Years|Marital_Status|Product_Category_1|Product_Category_2|Product_Category_3|Purchase|\n",
      "+-------+----------+------+----+----------+-------------+--------------------------+--------------+------------------+------------------+------------------+--------+\n",
      "|1000001| P00069042|     F|0-17|        10|            A|                         2|             0|                 3|                  |                  |    8370|\n",
      "|1000001| P00248942|     F|0-17|        10|            A|                         2|             0|                 1|                 6|                14|   15200|\n",
      "|1000001| P00087842|     F|0-17|        10|            A|                         2|             0|                12|                  |                  |    1422|\n",
      "|1000001| P00085442|     F|0-17|        10|            A|                         2|             0|                12|                14|                  |    1057|\n",
      "|1000002| P00285442|     M| 55+|        16|            C|                        4+|             0|                 8|                  |                  |    7969|\n",
      "+-------+----------+------+----+----------+-------------+--------------------------+--------------+------------------+------------------+------------------+--------+\n",
      "only showing top 5 rows\n",
      "\n"
     ]
    }
   ],
   "source": [
    "trainDF = spark.createDataFrame(data = splitRDD, schema=trainSchema)\n",
    "trainDF.show(5)"
   ]
  },
  {
   "cell_type": "markdown",
   "metadata": {
    "colab_type": "text",
    "id": "m0bHk5ueWbTl"
   },
   "source": [
    "### 4. DataFrame Transformations & Actions\n",
    "\n",
    "### Transformations\n",
    "In Spark, the core data structures are immutable, meaning they cannot be changed after they’re created.\n",
    "<br> To “change” a DataFrame, you need to instruct Spark how you would like to modify it to do what you want.\n",
    "<br> These instructions are called transformations.\n",
    "<br> Transformations are the core of how you express your business logic using Spark.\n",
    "<br> Transformations are simply ways of specifying different series of data manipulation.\n",
    "\n"
   ]
  },
  {
   "cell_type": "markdown",
   "metadata": {
    "colab_type": "text",
    "id": "m_yl58-KWbTl"
   },
   "source": [
    "#### Create a dataframe with one column containing 100 rows with values from 0 to 99."
   ]
  },
  {
   "cell_type": "code",
   "execution_count": 0,
   "metadata": {
    "colab": {},
    "colab_type": "code",
    "id": "muOwQtD_WbTm"
   },
   "outputs": [],
   "source": [
    "myRange = spark.range(100).toDF('number')"
   ]
  },
  {
   "cell_type": "code",
   "execution_count": 244,
   "metadata": {
    "colab": {
     "base_uri": "https://localhost:8080/",
     "height": 289
    },
    "colab_type": "code",
    "executionInfo": {
     "elapsed": 6347,
     "status": "ok",
     "timestamp": 1575170746930,
     "user": {
      "displayName": "Thomas K John",
      "photoUrl": "",
      "userId": "10832060721107655920"
     },
     "user_tz": -330
    },
    "id": "z4On1PDjWbTo",
    "outputId": "9fcfc827-8b73-460f-a2c3-117201fdda92"
   },
   "outputs": [
    {
     "name": "stdout",
     "output_type": "stream",
     "text": [
      "+------+\n",
      "|number|\n",
      "+------+\n",
      "|     0|\n",
      "|     1|\n",
      "|     2|\n",
      "|     3|\n",
      "|     4|\n",
      "|     5|\n",
      "|     6|\n",
      "|     7|\n",
      "|     8|\n",
      "|     9|\n",
      "+------+\n",
      "only showing top 10 rows\n",
      "\n"
     ]
    }
   ],
   "source": [
    "myRange.show(10)"
   ]
  },
  {
   "cell_type": "code",
   "execution_count": 245,
   "metadata": {
    "colab": {
     "base_uri": "https://localhost:8080/",
     "height": 34
    },
    "colab_type": "code",
    "executionInfo": {
     "elapsed": 6338,
     "status": "ok",
     "timestamp": 1575170746932,
     "user": {
      "displayName": "Thomas K John",
      "photoUrl": "",
      "userId": "10832060721107655920"
     },
     "user_tz": -330
    },
    "id": "4JaT_kEEWbTs",
    "outputId": "3f2e423b-42cb-495a-fd13-a62c1e1e4748"
   },
   "outputs": [
    {
     "data": {
      "text/plain": [
       "DataFrame[number: bigint]"
      ]
     },
     "execution_count": 245,
     "metadata": {
      "tags": []
     },
     "output_type": "execute_result"
    }
   ],
   "source": [
    "divisBy2 = myRange.where(\"number % 2 = 0\")\n",
    "divisBy2"
   ]
  },
  {
   "cell_type": "markdown",
   "metadata": {
    "colab_type": "text",
    "id": "fZgcEANsWbT1"
   },
   "source": [
    "Notice that these return no output. <br>This is because we specified only an abstract transformation, and Spark will not act on transformations until we call an action."
   ]
  },
  {
   "cell_type": "markdown",
   "metadata": {
    "colab_type": "text",
    "id": "jfSI6KZEWbT2"
   },
   "source": [
    "### Actions\n",
    "Transformations allow us to build up our logical transformation plan. \n",
    "<br> To trigger the computation, we run an action.\n",
    "<br> An action instructs Spark to compute a result from a series of transformations. \n",
    "<br> The simplest action is show, which displays the records in the DataFrame\n",
    "\n",
    "#### There are 3 types of actions\n",
    "Actions to view data in the console\n",
    "<br>Actions to collect data \n",
    "<br>Actions to write to output data sources"
   ]
  },
  {
   "cell_type": "code",
   "execution_count": 246,
   "metadata": {
    "colab": {
     "base_uri": "https://localhost:8080/",
     "height": 459
    },
    "colab_type": "code",
    "executionInfo": {
     "elapsed": 6330,
     "status": "ok",
     "timestamp": 1575170746934,
     "user": {
      "displayName": "Thomas K John",
      "photoUrl": "",
      "userId": "10832060721107655920"
     },
     "user_tz": -330
    },
    "id": "zU81SXEHWbT3",
    "outputId": "9de775c2-aefc-41f9-c8ed-7fd98d53dc26",
    "scrolled": true
   },
   "outputs": [
    {
     "name": "stdout",
     "output_type": "stream",
     "text": [
      "+------+\n",
      "|number|\n",
      "+------+\n",
      "|     0|\n",
      "|     2|\n",
      "|     4|\n",
      "|     6|\n",
      "|     8|\n",
      "|    10|\n",
      "|    12|\n",
      "|    14|\n",
      "|    16|\n",
      "|    18|\n",
      "|    20|\n",
      "|    22|\n",
      "|    24|\n",
      "|    26|\n",
      "|    28|\n",
      "|    30|\n",
      "|    32|\n",
      "|    34|\n",
      "|    36|\n",
      "|    38|\n",
      "+------+\n",
      "only showing top 20 rows\n",
      "\n"
     ]
    }
   ],
   "source": [
    "divisBy2.show()"
   ]
  },
  {
   "cell_type": "code",
   "execution_count": 247,
   "metadata": {
    "colab": {
     "base_uri": "https://localhost:8080/",
     "height": 34
    },
    "colab_type": "code",
    "executionInfo": {
     "elapsed": 6399,
     "status": "ok",
     "timestamp": 1575170747017,
     "user": {
      "displayName": "Thomas K John",
      "photoUrl": "",
      "userId": "10832060721107655920"
     },
     "user_tz": -330
    },
    "id": "WuH59OxSWbT7",
    "outputId": "1894a2b5-61ad-4a8f-e072-643e45248eaa"
   },
   "outputs": [
    {
     "data": {
      "text/plain": [
       "50"
      ]
     },
     "execution_count": 247,
     "metadata": {
      "tags": []
     },
     "output_type": "execute_result"
    }
   ],
   "source": [
    "divisBy2.count()"
   ]
  },
  {
   "cell_type": "code",
   "execution_count": 248,
   "metadata": {
    "colab": {
     "base_uri": "https://localhost:8080/",
     "height": 71
    },
    "colab_type": "code",
    "executionInfo": {
     "elapsed": 6401,
     "status": "ok",
     "timestamp": 1575170747029,
     "user": {
      "displayName": "Thomas K John",
      "photoUrl": "",
      "userId": "10832060721107655920"
     },
     "user_tz": -330
    },
    "id": "aafp2YYqWbUA",
    "outputId": "2a15601e-0339-4a8d-884c-239ec1642488",
    "scrolled": true
   },
   "outputs": [
    {
     "data": {
      "text/plain": [
       "[Row(User_ID='1000001', Product_ID='P00069042', Gender='F', Age='0-17', Occupation='10', City_Category='A', Stay_In_Current_City_Years='2', Marital_Status='0', Product_Category_1='3', Product_Category_2='', Product_Category_3='', Purchase='8370'),\n",
       " Row(User_ID='1000001', Product_ID='P00248942', Gender='F', Age='0-17', Occupation='10', City_Category='A', Stay_In_Current_City_Years='2', Marital_Status='0', Product_Category_1='1', Product_Category_2='6', Product_Category_3='14', Purchase='15200')]"
      ]
     },
     "execution_count": 248,
     "metadata": {
      "tags": []
     },
     "output_type": "execute_result"
    }
   ],
   "source": [
    "trainDF.take(2)"
   ]
  },
  {
   "cell_type": "code",
   "execution_count": 249,
   "metadata": {
    "colab": {
     "base_uri": "https://localhost:8080/",
     "height": 187
    },
    "colab_type": "code",
    "executionInfo": {
     "elapsed": 6403,
     "status": "ok",
     "timestamp": 1575170747042,
     "user": {
      "displayName": "Thomas K John",
      "photoUrl": "",
      "userId": "10832060721107655920"
     },
     "user_tz": -330
    },
    "id": "8sdKsNcyWbUE",
    "outputId": "4bad4b3c-52de-4abb-b098-d51a4469b826",
    "scrolled": true
   },
   "outputs": [
    {
     "name": "stdout",
     "output_type": "stream",
     "text": [
      "+-------+----------+------+----+----------+-------------+--------------------------+--------------+------------------+------------------+------------------+--------+\n",
      "|User_ID|Product_ID|Gender|Age |Occupation|City_Category|Stay_In_Current_City_Years|Marital_Status|Product_Category_1|Product_Category_2|Product_Category_3|Purchase|\n",
      "+-------+----------+------+----+----------+-------------+--------------------------+--------------+------------------+------------------+------------------+--------+\n",
      "|1000001|P00069042 |F     |0-17|10        |A            |2                         |0             |3                 |                  |                  |8370    |\n",
      "|1000001|P00248942 |F     |0-17|10        |A            |2                         |0             |1                 |6                 |14                |15200   |\n",
      "|1000001|P00087842 |F     |0-17|10        |A            |2                         |0             |12                |                  |                  |1422    |\n",
      "|1000001|P00085442 |F     |0-17|10        |A            |2                         |0             |12                |14                |                  |1057    |\n",
      "+-------+----------+------+----+----------+-------------+--------------------------+--------------+------------------+------------------+------------------+--------+\n",
      "only showing top 4 rows\n",
      "\n"
     ]
    }
   ],
   "source": [
    "trainDF.show(4,truncate=False)"
   ]
  },
  {
   "cell_type": "code",
   "execution_count": 250,
   "metadata": {
    "colab": {
     "base_uri": "https://localhost:8080/",
     "height": 34
    },
    "colab_type": "code",
    "executionInfo": {
     "elapsed": 12643,
     "status": "ok",
     "timestamp": 1575170753294,
     "user": {
      "displayName": "Thomas K John",
      "photoUrl": "",
      "userId": "10832060721107655920"
     },
     "user_tz": -330
    },
    "id": "LzkYTX2BWbUG",
    "outputId": "444fbeb9-0ab6-4331-e088-fab578f2920e"
   },
   "outputs": [
    {
     "data": {
      "text/plain": [
       "550068"
      ]
     },
     "execution_count": 250,
     "metadata": {
      "tags": []
     },
     "output_type": "execute_result"
    }
   ],
   "source": [
    "trainDF.count()"
   ]
  },
  {
   "cell_type": "markdown",
   "metadata": {
    "colab_type": "text",
    "id": "gV5NU7pQWbUI"
   },
   "source": [
    "### 5. Reading a CSV file into a DataFrame "
   ]
  },
  {
   "cell_type": "code",
   "execution_count": 0,
   "metadata": {
    "colab": {},
    "colab_type": "code",
    "id": "nmkVRNmdWbUJ"
   },
   "outputs": [],
   "source": [
    "path =\"./train.csv\""
   ]
  },
  {
   "cell_type": "code",
   "execution_count": 0,
   "metadata": {
    "colab": {},
    "colab_type": "code",
    "id": "WOqcGsMfWbUM"
   },
   "outputs": [],
   "source": [
    "trainDF = spark.read.csv(path=path,header=True,schema=trainSchema,sep=\",\")"
   ]
  },
  {
   "cell_type": "code",
   "execution_count": 253,
   "metadata": {
    "colab": {
     "base_uri": "https://localhost:8080/",
     "height": 122
    },
    "colab_type": "code",
    "executionInfo": {
     "elapsed": 13436,
     "status": "ok",
     "timestamp": 1575170754116,
     "user": {
      "displayName": "Thomas K John",
      "photoUrl": "",
      "userId": "10832060721107655920"
     },
     "user_tz": -330
    },
    "id": "wTItDPmxWbUO",
    "outputId": "774b3577-8871-4305-a4b9-a4c95892aefe"
   },
   "outputs": [
    {
     "data": {
      "text/plain": [
       "[Row(User_ID='1000001', Product_ID='P00069042', Gender='F', Age='0-17', Occupation='10', City_Category='A', Stay_In_Current_City_Years='2', Marital_Status='0', Product_Category_1='3', Product_Category_2=None, Product_Category_3=None, Purchase='8370'),\n",
       " Row(User_ID='1000001', Product_ID='P00248942', Gender='F', Age='0-17', Occupation='10', City_Category='A', Stay_In_Current_City_Years='2', Marital_Status='0', Product_Category_1='1', Product_Category_2='6', Product_Category_3='14', Purchase='15200'),\n",
       " Row(User_ID='1000001', Product_ID='P00087842', Gender='F', Age='0-17', Occupation='10', City_Category='A', Stay_In_Current_City_Years='2', Marital_Status='0', Product_Category_1='12', Product_Category_2=None, Product_Category_3=None, Purchase='1422'),\n",
       " Row(User_ID='1000001', Product_ID='P00085442', Gender='F', Age='0-17', Occupation='10', City_Category='A', Stay_In_Current_City_Years='2', Marital_Status='0', Product_Category_1='12', Product_Category_2='14', Product_Category_3=None, Purchase='1057'),\n",
       " Row(User_ID='1000002', Product_ID='P00285442', Gender='M', Age='55+', Occupation='16', City_Category='C', Stay_In_Current_City_Years='4+', Marital_Status='0', Product_Category_1='8', Product_Category_2=None, Product_Category_3=None, Purchase='7969')]"
      ]
     },
     "execution_count": 253,
     "metadata": {
      "tags": []
     },
     "output_type": "execute_result"
    }
   ],
   "source": [
    "trainDF.take(5)"
   ]
  },
  {
   "cell_type": "code",
   "execution_count": 254,
   "metadata": {
    "colab": {
     "base_uri": "https://localhost:8080/",
     "height": 204
    },
    "colab_type": "code",
    "executionInfo": {
     "elapsed": 14646,
     "status": "ok",
     "timestamp": 1575170755337,
     "user": {
      "displayName": "Thomas K John",
      "photoUrl": "",
      "userId": "10832060721107655920"
     },
     "user_tz": -330
    },
    "id": "PJeEQgNCWbUR",
    "outputId": "847f8476-ffcd-463d-cd2c-52a97d1278b9"
   },
   "outputs": [
    {
     "name": "stdout",
     "output_type": "stream",
     "text": [
      "+-------+----------+------+----+----------+-------------+--------------------------+--------------+------------------+------------------+------------------+--------+\n",
      "|User_ID|Product_ID|Gender|Age |Occupation|City_Category|Stay_In_Current_City_Years|Marital_Status|Product_Category_1|Product_Category_2|Product_Category_3|Purchase|\n",
      "+-------+----------+------+----+----------+-------------+--------------------------+--------------+------------------+------------------+------------------+--------+\n",
      "|1000001|P00069042 |F     |0-17|10        |A            |2                         |0             |3                 |null              |null              |8370    |\n",
      "|1000001|P00248942 |F     |0-17|10        |A            |2                         |0             |1                 |6                 |14                |15200   |\n",
      "|1000001|P00087842 |F     |0-17|10        |A            |2                         |0             |12                |null              |null              |1422    |\n",
      "|1000001|P00085442 |F     |0-17|10        |A            |2                         |0             |12                |14                |null              |1057    |\n",
      "|1000002|P00285442 |M     |55+ |16        |C            |4+                        |0             |8                 |null              |null              |7969    |\n",
      "+-------+----------+------+----+----------+-------------+--------------------------+--------------+------------------+------------------+------------------+--------+\n",
      "only showing top 5 rows\n",
      "\n"
     ]
    }
   ],
   "source": [
    "trainDF.show(5,truncate=False)"
   ]
  },
  {
   "cell_type": "markdown",
   "metadata": {
    "colab_type": "text",
    "id": "cHAEyBksWbUU"
   },
   "source": [
    "#### Getting the  shape of the spark data frame\n",
    "* As such there is no shape command directly in spark we need to get it from the length of columns and \n",
    "  count of records"
   ]
  },
  {
   "cell_type": "code",
   "execution_count": 255,
   "metadata": {
    "colab": {
     "base_uri": "https://localhost:8080/",
     "height": 34
    },
    "colab_type": "code",
    "executionInfo": {
     "elapsed": 15444,
     "status": "ok",
     "timestamp": 1575170756146,
     "user": {
      "displayName": "Thomas K John",
      "photoUrl": "",
      "userId": "10832060721107655920"
     },
     "user_tz": -330
    },
    "id": "p3IjaLaeWbUU",
    "outputId": "bb77fc8d-a2ea-44b4-a1e8-1a996d5403be",
    "scrolled": true
   },
   "outputs": [
    {
     "name": "stdout",
     "output_type": "stream",
     "text": [
      "Total records count in train dataset is 550068\n"
     ]
    }
   ],
   "source": [
    "## To Count the number of rows in DataFrame\n",
    "print('Total records count in train dataset is {}'.format(trainDF.count()))"
   ]
  },
  {
   "cell_type": "code",
   "execution_count": 256,
   "metadata": {
    "colab": {
     "base_uri": "https://localhost:8080/",
     "height": 122
    },
    "colab_type": "code",
    "executionInfo": {
     "elapsed": 15433,
     "status": "ok",
     "timestamp": 1575170756146,
     "user": {
      "displayName": "Thomas K John",
      "photoUrl": "",
      "userId": "10832060721107655920"
     },
     "user_tz": -330
    },
    "id": "S_9rInVVWbUX",
    "outputId": "249470ec-13d5-4967-8b2b-a191b62fda19",
    "scrolled": false
   },
   "outputs": [
    {
     "name": "stdout",
     "output_type": "stream",
     "text": [
      "Total Columns count in train dataset is 12\n",
      "\n",
      "\n",
      "Columns in train dataset are: ['User_ID', 'Product_ID', 'Gender', 'Age', 'Occupation', 'City_Category', 'Stay_In_Current_City_Years', 'Marital_Status', 'Product_Category_1', 'Product_Category_2', 'Product_Category_3', 'Purchase'] \n",
      "\n"
     ]
    }
   ],
   "source": [
    "## Columns count and column names\n",
    "print(\"Total Columns count in train dataset is {}\".format(len(trainDF.columns)))\n",
    "print(\"\\n\\nColumns in train dataset are: {} \\n\".format(trainDF.columns))"
   ]
  },
  {
   "cell_type": "markdown",
   "metadata": {
    "colab_type": "text",
    "id": "9TInH_1FWbUa"
   },
   "source": [
    "### 6. Verify Schema"
   ]
  },
  {
   "cell_type": "code",
   "execution_count": 257,
   "metadata": {
    "colab": {
     "base_uri": "https://localhost:8080/",
     "height": 255
    },
    "colab_type": "code",
    "executionInfo": {
     "elapsed": 15422,
     "status": "ok",
     "timestamp": 1575170756146,
     "user": {
      "displayName": "Thomas K John",
      "photoUrl": "",
      "userId": "10832060721107655920"
     },
     "user_tz": -330
    },
    "id": "WoaeGWbTWbUa",
    "outputId": "31d351e0-3a19-4574-9901-85bcdb786a69"
   },
   "outputs": [
    {
     "name": "stdout",
     "output_type": "stream",
     "text": [
      "root\n",
      " |-- User_ID: string (nullable = true)\n",
      " |-- Product_ID: string (nullable = true)\n",
      " |-- Gender: string (nullable = true)\n",
      " |-- Age: string (nullable = true)\n",
      " |-- Occupation: string (nullable = true)\n",
      " |-- City_Category: string (nullable = true)\n",
      " |-- Stay_In_Current_City_Years: string (nullable = true)\n",
      " |-- Marital_Status: string (nullable = true)\n",
      " |-- Product_Category_1: string (nullable = true)\n",
      " |-- Product_Category_2: string (nullable = true)\n",
      " |-- Product_Category_3: string (nullable = true)\n",
      " |-- Purchase: string (nullable = true)\n",
      "\n"
     ]
    }
   ],
   "source": [
    "## Print Schema\n",
    "trainDF.printSchema()"
   ]
  },
  {
   "cell_type": "code",
   "execution_count": 258,
   "metadata": {
    "colab": {
     "base_uri": "https://localhost:8080/",
     "height": 221
    },
    "colab_type": "code",
    "executionInfo": {
     "elapsed": 15413,
     "status": "ok",
     "timestamp": 1575170756148,
     "user": {
      "displayName": "Thomas K John",
      "photoUrl": "",
      "userId": "10832060721107655920"
     },
     "user_tz": -330
    },
    "id": "TmbfxvenWbUe",
    "outputId": "c8622d45-3aef-4004-9223-11e7751d6d5b"
   },
   "outputs": [
    {
     "data": {
      "text/plain": [
       "[('User_ID', 'string'),\n",
       " ('Product_ID', 'string'),\n",
       " ('Gender', 'string'),\n",
       " ('Age', 'string'),\n",
       " ('Occupation', 'string'),\n",
       " ('City_Category', 'string'),\n",
       " ('Stay_In_Current_City_Years', 'string'),\n",
       " ('Marital_Status', 'string'),\n",
       " ('Product_Category_1', 'string'),\n",
       " ('Product_Category_2', 'string'),\n",
       " ('Product_Category_3', 'string'),\n",
       " ('Purchase', 'string')]"
      ]
     },
     "execution_count": 258,
     "metadata": {
      "tags": []
     },
     "output_type": "execute_result"
    }
   ],
   "source": [
    "trainDF.dtypes"
   ]
  },
  {
   "cell_type": "markdown",
   "metadata": {
    "colab_type": "text",
    "id": "1iivIshTWbUh"
   },
   "source": [
    "#### Getting the Columns from the SparkDataframe"
   ]
  },
  {
   "cell_type": "code",
   "execution_count": 259,
   "metadata": {
    "colab": {
     "base_uri": "https://localhost:8080/",
     "height": 221
    },
    "colab_type": "code",
    "executionInfo": {
     "elapsed": 15394,
     "status": "ok",
     "timestamp": 1575170756148,
     "user": {
      "displayName": "Thomas K John",
      "photoUrl": "",
      "userId": "10832060721107655920"
     },
     "user_tz": -330
    },
    "id": "Ym5LzGJ1WbUl",
    "outputId": "922a32ed-abe1-458b-846e-4ce292aa993e"
   },
   "outputs": [
    {
     "data": {
      "text/plain": [
       "['User_ID',\n",
       " 'Product_ID',\n",
       " 'Gender',\n",
       " 'Age',\n",
       " 'Occupation',\n",
       " 'City_Category',\n",
       " 'Stay_In_Current_City_Years',\n",
       " 'Marital_Status',\n",
       " 'Product_Category_1',\n",
       " 'Product_Category_2',\n",
       " 'Product_Category_3',\n",
       " 'Purchase']"
      ]
     },
     "execution_count": 259,
     "metadata": {
      "tags": []
     },
     "output_type": "execute_result"
    }
   ],
   "source": [
    "trainDF.columns"
   ]
  },
  {
   "cell_type": "code",
   "execution_count": 260,
   "metadata": {
    "colab": {
     "base_uri": "https://localhost:8080/",
     "height": 34
    },
    "colab_type": "code",
    "executionInfo": {
     "elapsed": 15381,
     "status": "ok",
     "timestamp": 1575170756148,
     "user": {
      "displayName": "Thomas K John",
      "photoUrl": "",
      "userId": "10832060721107655920"
     },
     "user_tz": -330
    },
    "id": "tlgp3E3EWbUo",
    "outputId": "3d0240b9-cab7-41bb-ae72-bc5db47bfa55"
   },
   "outputs": [
    {
     "data": {
      "text/plain": [
       "list"
      ]
     },
     "execution_count": 260,
     "metadata": {
      "tags": []
     },
     "output_type": "execute_result"
    }
   ],
   "source": [
    "type(trainDF.columns)"
   ]
  },
  {
   "cell_type": "markdown",
   "metadata": {
    "colab_type": "text",
    "id": "UFqOKhiGWbU2"
   },
   "source": [
    "### 7.To Show first n observations"
   ]
  },
  {
   "cell_type": "code",
   "execution_count": 261,
   "metadata": {
    "colab": {
     "base_uri": "https://localhost:8080/",
     "height": 71
    },
    "colab_type": "code",
    "executionInfo": {
     "elapsed": 15893,
     "status": "ok",
     "timestamp": 1575170756671,
     "user": {
      "displayName": "Thomas K John",
      "photoUrl": "",
      "userId": "10832060721107655920"
     },
     "user_tz": -330
    },
    "id": "CplnvHROWbU3",
    "outputId": "52af6dc3-834f-480b-b361-590dd0fe229f"
   },
   "outputs": [
    {
     "data": {
      "text/plain": [
       "[Row(User_ID='1000001', Product_ID='P00069042', Gender='F', Age='0-17', Occupation='10', City_Category='A', Stay_In_Current_City_Years='2', Marital_Status='0', Product_Category_1='3', Product_Category_2=None, Product_Category_3=None, Purchase='8370'),\n",
       " Row(User_ID='1000001', Product_ID='P00248942', Gender='F', Age='0-17', Occupation='10', City_Category='A', Stay_In_Current_City_Years='2', Marital_Status='0', Product_Category_1='1', Product_Category_2='6', Product_Category_3='14', Purchase='15200')]"
      ]
     },
     "execution_count": 261,
     "metadata": {
      "tags": []
     },
     "output_type": "execute_result"
    }
   ],
   "source": [
    "## Use head operation to see first n observations (say, 2 observations). \n",
    "## Head operation in PySpark is similar to head operation in Pandas.\n",
    "trainDF.head(2)"
   ]
  },
  {
   "cell_type": "code",
   "execution_count": 262,
   "metadata": {
    "colab": {
     "base_uri": "https://localhost:8080/",
     "height": 153
    },
    "colab_type": "code",
    "executionInfo": {
     "elapsed": 16980,
     "status": "ok",
     "timestamp": 1575170757768,
     "user": {
      "displayName": "Thomas K John",
      "photoUrl": "",
      "userId": "10832060721107655920"
     },
     "user_tz": -330
    },
    "id": "LXwDy2CKWbU5",
    "outputId": "4d45fcc6-7105-4c7a-ff2a-60ccbda29f56"
   },
   "outputs": [
    {
     "name": "stdout",
     "output_type": "stream",
     "text": [
      "+-------+----------+------+----+----------+-------------+--------------------------+--------------+------------------+------------------+------------------+--------+\n",
      "|User_ID|Product_ID|Gender| Age|Occupation|City_Category|Stay_In_Current_City_Years|Marital_Status|Product_Category_1|Product_Category_2|Product_Category_3|Purchase|\n",
      "+-------+----------+------+----+----------+-------------+--------------------------+--------------+------------------+------------------+------------------+--------+\n",
      "|1000001| P00069042|     F|0-17|        10|            A|                         2|             0|                 3|              null|              null|    8370|\n",
      "|1000001| P00248942|     F|0-17|        10|            A|                         2|             0|                 1|                 6|                14|   15200|\n",
      "+-------+----------+------+----+----------+-------------+--------------------------+--------------+------------------+------------------+------------------+--------+\n",
      "only showing top 2 rows\n",
      "\n"
     ]
    }
   ],
   "source": [
    "## Above results are comprised of row like format. \n",
    "## To see the result in more interactive manner (rows under the columns), Use the show operation. \n",
    "## Show operation on train and take first 5 rows of it. \n",
    "trainDF.show(2)\n"
   ]
  },
  {
   "cell_type": "markdown",
   "metadata": {
    "colab_type": "text",
    "id": "xeNrgWoJWbU-"
   },
   "source": [
    "### 8.Summary statistics"
   ]
  },
  {
   "cell_type": "code",
   "execution_count": 263,
   "metadata": {
    "colab": {
     "base_uri": "https://localhost:8080/",
     "height": 207
    },
    "colab_type": "code",
    "executionInfo": {
     "elapsed": 30979,
     "status": "ok",
     "timestamp": 1575170771778,
     "user": {
      "displayName": "Thomas K John",
      "photoUrl": "",
      "userId": "10832060721107655920"
     },
     "user_tz": -330
    },
    "id": "KbrDTJkJWbU-",
    "outputId": "28efaae1-bb20-4f3b-8b47-817f16123fd6",
    "scrolled": true
   },
   "outputs": [
    {
     "name": "stdout",
     "output_type": "stream",
     "text": [
      "+-------+------------------+----------+------+------+-----------------+-------------+--------------------------+-------------------+------------------+------------------+------------------+-----------------+\n",
      "|summary|User_ID           |Product_ID|Gender|Age   |Occupation       |City_Category|Stay_In_Current_City_Years|Marital_Status     |Product_Category_1|Product_Category_2|Product_Category_3|Purchase         |\n",
      "+-------+------------------+----------+------+------+-----------------+-------------+--------------------------+-------------------+------------------+------------------+------------------+-----------------+\n",
      "|count  |550068            |550068    |550068|550068|550068           |550068       |550068                    |550068             |550068            |376430            |166821            |550068           |\n",
      "|mean   |1003028.8424013031|null      |null  |null  |8.076706879876669|null         |1.468494139793958         |0.40965298835780306|5.404270017525106 |9.842329251122386 |12.668243206790512|9263.968712959126|\n",
      "|stddev |1727.5915855313747|null      |null  |null  |6.522660487341741|null         |0.9890866807573103        |0.4917701263173315 |3.936211369201365 |5.086589648693497 |4.125337631575274 |5023.065393820575|\n",
      "|min    |1000001           |P00000142 |F     |0-17  |0                |A            |0                         |0                  |1                 |10                |10                |10000            |\n",
      "|max    |1006040           |P0099942  |M     |55+   |9                |C            |4+                        |1                  |9                 |9                 |9                 |9999             |\n",
      "+-------+------------------+----------+------+------+-----------------+-------------+--------------------------+-------------------+------------------+------------------+------------------+-----------------+\n",
      "\n"
     ]
    }
   ],
   "source": [
    "## To get the summary statistics (mean, standard deviance, min ,max , count) of numerical columns in a DataFrame\n",
    "trainDF.describe().show(truncate=False)"
   ]
  },
  {
   "cell_type": "code",
   "execution_count": 264,
   "metadata": {
    "colab": {
     "base_uri": "https://localhost:8080/",
     "height": 187
    },
    "colab_type": "code",
    "executionInfo": {
     "elapsed": 32653,
     "status": "ok",
     "timestamp": 1575170773464,
     "user": {
      "displayName": "Thomas K John",
      "photoUrl": "",
      "userId": "10832060721107655920"
     },
     "user_tz": -330
    },
    "id": "mUgtaYp3WbVA",
    "outputId": "8271d01c-ad16-47f4-d64e-c29e09119cae",
    "scrolled": false
   },
   "outputs": [
    {
     "name": "stdout",
     "output_type": "stream",
     "text": [
      "+-------+-----------------+\n",
      "|summary|         Purchase|\n",
      "+-------+-----------------+\n",
      "|  count|           550068|\n",
      "|   mean|9263.968712959126|\n",
      "| stddev|5023.065393820575|\n",
      "|    min|            10000|\n",
      "|    max|             9999|\n",
      "+-------+-----------------+\n",
      "\n"
     ]
    }
   ],
   "source": [
    "## Check what happens when we specify the name of a categorical / String columns in describe operation.\n",
    "## describe operation is working for String type column but the output for mean, stddev are null and \n",
    "## min & max values are calculated based on ASCII value of categories.\n",
    "trainDF.describe(['Purchase']).show()"
   ]
  },
  {
   "cell_type": "markdown",
   "metadata": {
    "colab_type": "text",
    "id": "p-M1FrbvWbVC"
   },
   "source": [
    "### 9. a. Adding Columns"
   ]
  },
  {
   "cell_type": "code",
   "execution_count": 265,
   "metadata": {
    "colab": {
     "base_uri": "https://localhost:8080/",
     "height": 153
    },
    "colab_type": "code",
    "executionInfo": {
     "elapsed": 33998,
     "status": "ok",
     "timestamp": 1575170774819,
     "user": {
      "displayName": "Thomas K John",
      "photoUrl": "",
      "userId": "10832060721107655920"
     },
     "user_tz": -330
    },
    "id": "Zs598r8zWbVC",
    "outputId": "6f37befb-e1a1-4cba-adab-b1c96a48a437",
    "scrolled": true
   },
   "outputs": [
    {
     "name": "stdout",
     "output_type": "stream",
     "text": [
      "+-------+----------+------+----+----------+-------------+--------------------------+--------------+------------------+------------------+------------------+--------+---+\n",
      "|User_ID|Product_ID|Gender| Age|Occupation|City_Category|Stay_In_Current_City_Years|Marital_Status|Product_Category_1|Product_Category_2|Product_Category_3|Purchase|One|\n",
      "+-------+----------+------+----+----------+-------------+--------------------------+--------------+------------------+------------------+------------------+--------+---+\n",
      "|1000001| P00069042|     F|0-17|        10|            A|                         2|             0|                 3|              null|              null|    8370|  1|\n",
      "|1000001| P00248942|     F|0-17|        10|            A|                         2|             0|                 1|                 6|                14|   15200|  1|\n",
      "+-------+----------+------+----+----------+-------------+--------------------------+--------------+------------------+------------------+------------------+--------+---+\n",
      "only showing top 2 rows\n",
      "\n"
     ]
    }
   ],
   "source": [
    "## More Formal way\n",
    "from pyspark.sql.functions import lit\n",
    "trainDF.withColumn(\"One\", lit(1)).show(2)"
   ]
  },
  {
   "cell_type": "code",
   "execution_count": 266,
   "metadata": {
    "colab": {
     "base_uri": "https://localhost:8080/",
     "height": 187
    },
    "colab_type": "code",
    "executionInfo": {
     "elapsed": 34603,
     "status": "ok",
     "timestamp": 1575170775435,
     "user": {
      "displayName": "Thomas K John",
      "photoUrl": "",
      "userId": "10832060721107655920"
     },
     "user_tz": -330
    },
    "id": "7UIb4ifdWbVF",
    "outputId": "f6f7f80e-2aea-49d5-c177-a93e8921801e",
    "scrolled": false
   },
   "outputs": [
    {
     "name": "stdout",
     "output_type": "stream",
     "text": [
      "+-------+----------+------+----+----------+-------------+--------------------------+--------------+------------------+------------------+------------------+--------+----------------+\n",
      "|User_ID|Product_ID|Gender| Age|Occupation|City_Category|Stay_In_Current_City_Years|Marital_Status|Product_Category_1|Product_Category_2|Product_Category_3|Purchase|SameCategoryCode|\n",
      "+-------+----------+------+----+----------+-------------+--------------------------+--------------+------------------+------------------+------------------+--------+----------------+\n",
      "|1000001| P00069042|     F|0-17|        10|            A|                         2|             0|                 3|              null|              null|    8370|            null|\n",
      "|1000001| P00248942|     F|0-17|        10|            A|                         2|             0|                 1|                 6|                14|   15200|           false|\n",
      "|1000001| P00087842|     F|0-17|        10|            A|                         2|             0|                12|              null|              null|    1422|            null|\n",
      "|1000001| P00085442|     F|0-17|        10|            A|                         2|             0|                12|                14|              null|    1057|           false|\n",
      "+-------+----------+------+----+----------+-------------+--------------------------+--------------+------------------+------------------+------------------+--------+----------------+\n",
      "only showing top 4 rows\n",
      "\n"
     ]
    }
   ],
   "source": [
    "tempDF = trainDF.withColumn(\"SameCategoryCode\", \n",
    "trainDF[\"Product_Category_1\"] == trainDF[\"Product_Category_2\"])\n",
    "tempDF.show(4)"
   ]
  },
  {
   "cell_type": "markdown",
   "metadata": {
    "colab_type": "text",
    "id": "2HMjcDdTWbVH"
   },
   "source": [
    "### 9.b.Renaming Columns"
   ]
  },
  {
   "cell_type": "code",
   "execution_count": 267,
   "metadata": {
    "colab": {
     "base_uri": "https://localhost:8080/",
     "height": 173
    },
    "colab_type": "code",
    "executionInfo": {
     "elapsed": 34992,
     "status": "ok",
     "timestamp": 1575170775837,
     "user": {
      "displayName": "Thomas K John",
      "photoUrl": "",
      "userId": "10832060721107655920"
     },
     "user_tz": -330
    },
    "id": "n1ngep3NWbVJ",
    "outputId": "d5afee51-caa0-4929-c8de-d9ddccb78be0",
    "scrolled": false
   },
   "outputs": [
    {
     "name": "stdout",
     "output_type": "stream",
     "text": [
      "+-------+----------+------+----+----------+-------------+--------------------------+--------------+------------------+------------------+------------------+--------+---------------+\n",
      "|User_ID|Product_ID|Gender| Age|Occupation|City_Category|Stay_In_Current_City_Years|Marital_Status|Product_Category_1|Product_Category_2|Product_Category_3|Purchase|SimilarCategory|\n",
      "+-------+----------+------+----+----------+-------------+--------------------------+--------------+------------------+------------------+------------------+--------+---------------+\n",
      "|1000001| P00069042|     F|0-17|        10|            A|                         2|             0|                 3|              null|              null|    8370|           null|\n",
      "|1000001| P00248942|     F|0-17|        10|            A|                         2|             0|                 1|                 6|                14|   15200|          false|\n",
      "+-------+----------+------+----+----------+-------------+--------------------------+--------------+------------------+------------------+------------------+--------+---------------+\n",
      "only showing top 2 rows\n",
      "\n"
     ]
    }
   ],
   "source": [
    "tempDF.withColumnRenamed(\"SameCategoryCode\", \"SimilarCategory\").show(2)"
   ]
  },
  {
   "cell_type": "code",
   "execution_count": 268,
   "metadata": {
    "colab": {
     "base_uri": "https://localhost:8080/",
     "height": 173
    },
    "colab_type": "code",
    "executionInfo": {
     "elapsed": 36602,
     "status": "ok",
     "timestamp": 1575170777456,
     "user": {
      "displayName": "Thomas K John",
      "photoUrl": "",
      "userId": "10832060721107655920"
     },
     "user_tz": -330
    },
    "id": "3kRD8J1RWbVK",
    "outputId": "97605741-d353-4b40-a4c3-a5b5cf8287aa"
   },
   "outputs": [
    {
     "name": "stdout",
     "output_type": "stream",
     "text": [
      "+-------+----------+------+----+----------+-------------+--------------------------+--------------+------------------+------------------+------------------+--------+----------------+\n",
      "|User_ID|Product_ID|Gender| Age|Occupation|City_Category|Stay_In_Current_City_Years|Marital_Status|Product_Category_1|Product_Category_2|Product_Category_3|Purchase|SameCategoryCode|\n",
      "+-------+----------+------+----+----------+-------------+--------------------------+--------------+------------------+------------------+------------------+--------+----------------+\n",
      "|1000001| P00069042|     F|0-17|        10|            A|                         2|             0|                 3|              null|              null|    8370|            null|\n",
      "|1000001| P00248942|     F|0-17|        10|            A|                         2|             0|                 1|                 6|                14|   15200|           false|\n",
      "+-------+----------+------+----+----------+-------------+--------------------------+--------------+------------------+------------------+------------------+--------+----------------+\n",
      "only showing top 2 rows\n",
      "\n"
     ]
    }
   ],
   "source": [
    "tempDF.show(2)"
   ]
  },
  {
   "cell_type": "markdown",
   "metadata": {
    "colab_type": "text",
    "id": "YCnSm2VsWbVO"
   },
   "source": [
    "### 9.c.Removing Columns"
   ]
  },
  {
   "cell_type": "code",
   "execution_count": 269,
   "metadata": {
    "colab": {
     "base_uri": "https://localhost:8080/",
     "height": 173
    },
    "colab_type": "code",
    "executionInfo": {
     "elapsed": 36985,
     "status": "ok",
     "timestamp": 1575170777855,
     "user": {
      "displayName": "Thomas K John",
      "photoUrl": "",
      "userId": "10832060721107655920"
     },
     "user_tz": -330
    },
    "id": "UND_P6VMWbVO",
    "outputId": "57065f9b-27d2-42d4-e992-35cadc15e265",
    "scrolled": false
   },
   "outputs": [
    {
     "name": "stdout",
     "output_type": "stream",
     "text": [
      "+-------+----------+------+----+----------+-------------+--------------------------+--------------+------------------+------------------+------------------+--------+\n",
      "|User_ID|Product_ID|Gender| Age|Occupation|City_Category|Stay_In_Current_City_Years|Marital_Status|Product_Category_1|Product_Category_2|Product_Category_3|Purchase|\n",
      "+-------+----------+------+----+----------+-------------+--------------------------+--------------+------------------+------------------+------------------+--------+\n",
      "|1000001| P00069042|     F|0-17|        10|            A|                         2|             0|                 3|              null|              null|    8370|\n",
      "|1000001| P00248942|     F|0-17|        10|            A|                         2|             0|                 1|                 6|                14|   15200|\n",
      "+-------+----------+------+----+----------+-------------+--------------------------+--------------+------------------+------------------+------------------+--------+\n",
      "only showing top 2 rows\n",
      "\n"
     ]
    }
   ],
   "source": [
    "tempDF.drop(\"SameCategoryCode\").show(2)"
   ]
  },
  {
   "cell_type": "markdown",
   "metadata": {
    "colab_type": "text",
    "id": "v5UafTjhWbVQ"
   },
   "source": [
    "### 10. Changing a Column’s Type (cast)"
   ]
  },
  {
   "cell_type": "code",
   "execution_count": 270,
   "metadata": {
    "colab": {
     "base_uri": "https://localhost:8080/",
     "height": 292
    },
    "colab_type": "code",
    "executionInfo": {
     "elapsed": 36978,
     "status": "ok",
     "timestamp": 1575170777857,
     "user": {
      "displayName": "Thomas K John",
      "photoUrl": "",
      "userId": "10832060721107655920"
     },
     "user_tz": -330
    },
    "id": "KSFO4m7iWbVR",
    "outputId": "18412052-a7b8-4092-d4d8-8994655dc987",
    "scrolled": false
   },
   "outputs": [
    {
     "name": "stdout",
     "output_type": "stream",
     "text": [
      "root\n",
      " |-- User_ID: string (nullable = true)\n",
      " |-- Product_ID: string (nullable = true)\n",
      " |-- Gender: string (nullable = true)\n",
      " |-- Age: string (nullable = true)\n",
      " |-- Occupation: string (nullable = true)\n",
      " |-- City_Category: string (nullable = true)\n",
      " |-- Stay_In_Current_City_Years: string (nullable = true)\n",
      " |-- Marital_Status: string (nullable = true)\n",
      " |-- Product_Category_1: string (nullable = true)\n",
      " |-- Product_Category_2: string (nullable = true)\n",
      " |-- Product_Category_3: string (nullable = true)\n",
      " |-- Purchase: string (nullable = true)\n",
      " |-- SameCategoryCode: boolean (nullable = true)\n",
      "\n"
     ]
    }
   ],
   "source": [
    "tempDF.printSchema()"
   ]
  },
  {
   "cell_type": "code",
   "execution_count": 271,
   "metadata": {
    "colab": {
     "base_uri": "https://localhost:8080/",
     "height": 292
    },
    "colab_type": "code",
    "executionInfo": {
     "elapsed": 36970,
     "status": "ok",
     "timestamp": 1575170777858,
     "user": {
      "displayName": "Thomas K John",
      "photoUrl": "",
      "userId": "10832060721107655920"
     },
     "user_tz": -330
    },
    "id": "1L-FRxQ2WbVS",
    "outputId": "70dd9aa6-ecc2-4a60-a569-575174251133"
   },
   "outputs": [
    {
     "name": "stdout",
     "output_type": "stream",
     "text": [
      "root\n",
      " |-- User_ID: string (nullable = true)\n",
      " |-- Product_ID: string (nullable = true)\n",
      " |-- Gender: string (nullable = true)\n",
      " |-- Age: string (nullable = true)\n",
      " |-- Occupation: string (nullable = true)\n",
      " |-- City_Category: string (nullable = true)\n",
      " |-- Stay_In_Current_City_Years: string (nullable = true)\n",
      " |-- Marital_Status: string (nullable = true)\n",
      " |-- Product_Category_1: string (nullable = true)\n",
      " |-- Product_Category_2: string (nullable = true)\n",
      " |-- Product_Category_3: string (nullable = true)\n",
      " |-- Purchase: integer (nullable = true)\n",
      " |-- SameCategoryCode: boolean (nullable = true)\n",
      "\n"
     ]
    }
   ],
   "source": [
    "tempDF.withColumn(\"Purchase\",tempDF.Purchase.cast(\"int\")).printSchema()"
   ]
  },
  {
   "cell_type": "markdown",
   "metadata": {
    "colab_type": "text",
    "id": "fjAGx_D4WbVV"
   },
   "source": [
    "### 11. Splitting the data into Train and Test"
   ]
  },
  {
   "cell_type": "code",
   "execution_count": 272,
   "metadata": {
    "colab": {
     "base_uri": "https://localhost:8080/",
     "height": 71
    },
    "colab_type": "code",
    "executionInfo": {
     "elapsed": 41200,
     "status": "ok",
     "timestamp": 1575170782097,
     "user": {
      "displayName": "Thomas K John",
      "photoUrl": "",
      "userId": "10832060721107655920"
     },
     "user_tz": -330
    },
    "id": "UQnsYa7sWbVW",
    "outputId": "68ea8448-5368-4d92-a727-aef65045fb78"
   },
   "outputs": [
    {
     "name": "stdout",
     "output_type": "stream",
     "text": [
      "385465\n",
      "164603\n"
     ]
    }
   ],
   "source": [
    "trainDF,testDF = trainDF.randomSplit([0.7, 0.3], seed=1234)\n",
    "print(trainDF.count())\n",
    "print(testDF.count())"
   ]
  },
  {
   "cell_type": "markdown",
   "metadata": {
    "colab_type": "text",
    "id": "Te2JWxwxWbVX"
   },
   "source": [
    "### 12. Working with Nulls in Data"
   ]
  },
  {
   "cell_type": "code",
   "execution_count": 273,
   "metadata": {
    "colab": {
     "base_uri": "https://localhost:8080/",
     "height": 139
    },
    "colab_type": "code",
    "executionInfo": {
     "elapsed": 46524,
     "status": "ok",
     "timestamp": 1575170787430,
     "user": {
      "displayName": "Thomas K John",
      "photoUrl": "",
      "userId": "10832060721107655920"
     },
     "user_tz": -330
    },
    "id": "r5m4JeemWbVX",
    "outputId": "073225ba-0208-478c-99b7-a2f836cf88d9"
   },
   "outputs": [
    {
     "name": "stdout",
     "output_type": "stream",
     "text": [
      "+-------+----------+------+---+----------+-------------+--------------------------+--------------+------------------+------------------+------------------+--------+\n",
      "|User_ID|Product_ID|Gender|Age|Occupation|City_Category|Stay_In_Current_City_Years|Marital_Status|Product_Category_1|Product_Category_2|Product_Category_3|Purchase|\n",
      "+-------+----------+------+---+----------+-------------+--------------------------+--------------+------------------+------------------+------------------+--------+\n",
      "|      0|         0|     0|  0|         0|            0|                         0|             0|                 0|            121619|            268621|       0|\n",
      "+-------+----------+------+---+----------+-------------+--------------------------+--------------+------------------+------------------+------------------+--------+\n",
      "\n"
     ]
    }
   ],
   "source": [
    "from pyspark.sql.functions import isnan, when, count, col\n",
    "trainDF.select([count(when(isnan(c) | col(c).isNull(), c)).alias(c) for c in trainDF.columns]).show()"
   ]
  },
  {
   "cell_type": "markdown",
   "metadata": {
    "colab_type": "text",
    "id": "WduBdHj5WbVZ"
   },
   "source": [
    "#### To drop the all rows with null value?\n",
    "##### Use **dropna()** operation. \n",
    "  To drop row from the DataFrame it consider three options.\n",
    "* **how** – ‘any’ or ‘all’. If ‘any’, drop a row if it contains any nulls. If ‘all’, drop a row only if all its values are null.\n",
    "\n",
    "* **thresh** – int, default None If specified, drop rows that have less than thresh non-null values.This overwrites the how parameter.\n",
    "\n",
    "* **subset** – optional list of column names to consider.\n",
    "\n",
    "#### Drop null rows in train with default parameters and count the rows in output DataFrame. \n",
    "#### Default options are any, None, None for how, thresh, subset respectively."
   ]
  },
  {
   "cell_type": "code",
   "execution_count": 274,
   "metadata": {
    "colab": {
     "base_uri": "https://localhost:8080/",
     "height": 88
    },
    "colab_type": "code",
    "executionInfo": {
     "elapsed": 51957,
     "status": "ok",
     "timestamp": 1575170792871,
     "user": {
      "displayName": "Thomas K John",
      "photoUrl": "",
      "userId": "10832060721107655920"
     },
     "user_tz": -330
    },
    "id": "G2vQkOH2WbVZ",
    "outputId": "06600dee-c269-4022-c410-fda86d58340d"
   },
   "outputs": [
    {
     "name": "stdout",
     "output_type": "stream",
     "text": [
      "116844\n",
      "116844\n",
      "116844\n"
     ]
    }
   ],
   "source": [
    "print(trainDF.dropna().count())\n",
    "print(trainDF.na.drop().count())\n",
    "print(trainDF.na.drop(\"any\").count())"
   ]
  },
  {
   "cell_type": "markdown",
   "metadata": {
    "colab_type": "text",
    "id": "wF39pOyVWbVc",
    "scrolled": true
   },
   "source": [
    "#### To replace the null values in DataFrame with constant number\n",
    "#### Use **fillna()** operation. \n",
    "\n",
    " The fillna will take two parameters to fill the null values.\n",
    "* **value**:\n",
    "    - It will take a dictionary to specify which column will replace with which value.A value (int , float, string) for all columns.\n",
    "* **subset**: Specify some selected columns.\n",
    "\n"
   ]
  },
  {
   "cell_type": "code",
   "execution_count": 275,
   "metadata": {
    "colab": {
     "base_uri": "https://localhost:8080/",
     "height": 224
    },
    "colab_type": "code",
    "executionInfo": {
     "elapsed": 53186,
     "status": "ok",
     "timestamp": 1575170794108,
     "user": {
      "displayName": "Thomas K John",
      "photoUrl": "",
      "userId": "10832060721107655920"
     },
     "user_tz": -330
    },
    "id": "MmSXej2YWbVc",
    "outputId": "ac045404-0489-46cd-9aba-8f5e8922d0e7",
    "scrolled": true
   },
   "outputs": [
    {
     "name": "stdout",
     "output_type": "stream",
     "text": [
      "+-------+----------+------+----+----------+-------------+--------------------------+--------------+------------------+------------------+------------------+--------+\n",
      "|User_ID|Product_ID|Gender| Age|Occupation|City_Category|Stay_In_Current_City_Years|Marital_Status|Product_Category_1|Product_Category_2|Product_Category_3|Purchase|\n",
      "+-------+----------+------+----+----------+-------------+--------------------------+--------------+------------------+------------------+------------------+--------+\n",
      "|1000001| P00051842|     F|0-17|        10|            A|                         2|             0|                 4|                 8|              null|    2849|\n",
      "|1000001| P00059442|     F|0-17|        10|            A|                         2|             0|                 6|                 8|                16|   16622|\n",
      "|1000001| P00069042|     F|0-17|        10|            A|                         2|             0|                 3|              null|              null|    8370|\n",
      "|1000001| P00085442|     F|0-17|        10|            A|                         2|             0|                12|                14|              null|    1057|\n",
      "|1000001| P00085942|     F|0-17|        10|            A|                         2|             0|                 2|                 4|                 8|   12842|\n",
      "+-------+----------+------+----+----------+-------------+--------------------------+--------------+------------------+------------------+------------------+--------+\n",
      "only showing top 5 rows\n",
      "\n"
     ]
    }
   ],
   "source": [
    "##Fill ‘-1’ inplace of null values in train DataFrame.\n",
    "trainDF.fillna(-1).show(5)"
   ]
  },
  {
   "cell_type": "code",
   "execution_count": 276,
   "metadata": {
    "colab": {
     "base_uri": "https://localhost:8080/",
     "height": 54
    },
    "colab_type": "code",
    "executionInfo": {
     "elapsed": 55031,
     "status": "ok",
     "timestamp": 1575170795964,
     "user": {
      "displayName": "Thomas K John",
      "photoUrl": "",
      "userId": "10832060721107655920"
     },
     "user_tz": -330
    },
    "id": "fpo_2Q9BWbVh",
    "outputId": "4787858b-8eaa-4db4-c96d-7998466d6c8f"
   },
   "outputs": [
    {
     "data": {
      "text/plain": [
       "385465"
      ]
     },
     "execution_count": 276,
     "metadata": {
      "tags": []
     },
     "output_type": "execute_result"
    }
   ],
   "source": [
    "## Filling with different values for different columns\n",
    "fill_cols_vals = {\n",
    "\"Gender\": 'M',\n",
    "\"Purchase\" : 999999\n",
    "}\n",
    "trainDF.na.fill(fill_cols_vals).count()"
   ]
  },
  {
   "cell_type": "markdown",
   "metadata": {
    "colab_type": "text",
    "id": "PdTULdWRWbVj"
   },
   "source": [
    "### 13. Distinct Values"
   ]
  },
  {
   "cell_type": "code",
   "execution_count": 277,
   "metadata": {
    "colab": {
     "base_uri": "https://localhost:8080/",
     "height": 71
    },
    "colab_type": "code",
    "executionInfo": {
     "elapsed": 60210,
     "status": "ok",
     "timestamp": 1575170801151,
     "user": {
      "displayName": "Thomas K John",
      "photoUrl": "",
      "userId": "10832060721107655920"
     },
     "user_tz": -330
    },
    "id": "91ed_PuoWbVj",
    "outputId": "06e7d521-75f3-4257-df52-b1de57b796ba"
   },
   "outputs": [
    {
     "name": "stdout",
     "output_type": "stream",
     "text": [
      "Distinct values in Product_ID's in train dataset are 3573\n",
      "Distinct values in Product_ID's in test dataset are 3421\n"
     ]
    }
   ],
   "source": [
    "## To find the number of distinct product in train and test datasets\n",
    "## To calculate the number of distinct products in train and test datasets apply distinct operation.\n",
    "print(\"Distinct values in Product_ID's in train dataset are {}\".format(trainDF.select('Product_ID').distinct().count()))\n",
    "print(\"Distinct values in Product_ID's in test dataset are {}\".format(testDF.select('Product_ID').distinct().count()))"
   ]
  },
  {
   "cell_type": "markdown",
   "metadata": {
    "colab_type": "text",
    "id": "n_snNWoVWbVr"
   },
   "source": [
    "#### Differences in two columns"
   ]
  },
  {
   "cell_type": "code",
   "execution_count": 278,
   "metadata": {
    "colab": {
     "base_uri": "https://localhost:8080/",
     "height": 71
    },
    "colab_type": "code",
    "executionInfo": {
     "elapsed": 70092,
     "status": "ok",
     "timestamp": 1575170811043,
     "user": {
      "displayName": "Thomas K John",
      "photoUrl": "",
      "userId": "10832060721107655920"
     },
     "user_tz": -330
    },
    "id": "cB5WZ3DJWbVs",
    "outputId": "461d10d0-7bbb-4597-9086-5948de04347b"
   },
   "outputs": [
    {
     "name": "stdout",
     "output_type": "stream",
     "text": [
      "Count of Product_ID's there in test dataset but not train dataset are 58\n",
      "Count of Product_ID's there in train dataset but not test dataset are 210\n"
     ]
    }
   ],
   "source": [
    "## From the above we can see the train file has more categories than test file. \n",
    "## Let us check what are the categories for Product_ID, which are in test file but not in train file by \n",
    "## applying subtract operation.\n",
    "## We can do the same for all categorical features.\n",
    "diff_cat_in_test_train=testDF.select('Product_ID').subtract(trainDF.select('Product_ID'))\n",
    "print(\"Count of Product_ID's there in test dataset but not train dataset are {}\".format(diff_cat_in_test_train.count()))\n",
    "\n",
    "diff_cat_in_train_test=trainDF.select('Product_ID').subtract(testDF.select('Product_ID'))\n",
    "print(\"Count of Product_ID's there in train dataset but not test dataset are {}\".format(diff_cat_in_train_test.count()))"
   ]
  },
  {
   "cell_type": "markdown",
   "metadata": {
    "colab_type": "text",
    "id": "LFFAXlvHWbVv"
   },
   "source": [
    "### 14. Using Spark SQL \n",
    "With Spark SQL, you can register any DataFrame as a table or view (a temporary table) and query it using pure SQL. \n",
    "<br>There is no performance difference between writing SQL queries or writing DataFrame code, <br>they both “compile” to the same underlying plan that we specify in DataFrame code."
   ]
  },
  {
   "cell_type": "code",
   "execution_count": 0,
   "metadata": {
    "colab": {},
    "colab_type": "code",
    "id": "COcPc9wwWbVw"
   },
   "outputs": [],
   "source": [
    "## Create view/table\n",
    "trainDF.createOrReplaceTempView(\"trainDFTable\")"
   ]
  },
  {
   "cell_type": "code",
   "execution_count": 280,
   "metadata": {
    "colab": {
     "base_uri": "https://localhost:8080/",
     "height": 173
    },
    "colab_type": "code",
    "executionInfo": {
     "elapsed": 71402,
     "status": "ok",
     "timestamp": 1575170812369,
     "user": {
      "displayName": "Thomas K John",
      "photoUrl": "",
      "userId": "10832060721107655920"
     },
     "user_tz": -330
    },
    "id": "-WZyOzFOWbVx",
    "outputId": "0b56a8c9-62c4-485f-db6f-6bd83a016b8d"
   },
   "outputs": [
    {
     "name": "stdout",
     "output_type": "stream",
     "text": [
      "+-------+----------+------+----+----------+-------------+--------------------------+--------------+------------------+------------------+------------------+--------+\n",
      "|User_ID|Product_ID|Gender| Age|Occupation|City_Category|Stay_In_Current_City_Years|Marital_Status|Product_Category_1|Product_Category_2|Product_Category_3|Purchase|\n",
      "+-------+----------+------+----+----------+-------------+--------------------------+--------------+------------------+------------------+------------------+--------+\n",
      "|1000001| P00051842|     F|0-17|        10|            A|                         2|             0|                 4|                 8|              null|    2849|\n",
      "|1000001| P00059442|     F|0-17|        10|            A|                         2|             0|                 6|                 8|                16|   16622|\n",
      "+-------+----------+------+----+----------+-------------+--------------------------+--------------+------------------+------------------+------------------+--------+\n",
      "only showing top 2 rows\n",
      "\n"
     ]
    }
   ],
   "source": [
    "## Verify Dataframe\n",
    "trainDF.show(2)"
   ]
  },
  {
   "cell_type": "code",
   "execution_count": 281,
   "metadata": {
    "colab": {
     "base_uri": "https://localhost:8080/",
     "height": 71
    },
    "colab_type": "code",
    "executionInfo": {
     "elapsed": 72369,
     "status": "ok",
     "timestamp": 1575170813344,
     "user": {
      "displayName": "Thomas K John",
      "photoUrl": "",
      "userId": "10832060721107655920"
     },
     "user_tz": -330
    },
    "id": "hd7fjV0VWbVz",
    "outputId": "73795ec8-cc76-47aa-addd-3049ca1db5da"
   },
   "outputs": [
    {
     "data": {
      "text/plain": [
       "[Row(User_ID='1000001', Product_ID='P00051842', Gender='F', Age='0-17', Occupation='10', City_Category='A', Stay_In_Current_City_Years='2', Marital_Status='0', Product_Category_1='4', Product_Category_2='8', Product_Category_3=None, Purchase='2849'),\n",
       " Row(User_ID='1000001', Product_ID='P00059442', Gender='F', Age='0-17', Occupation='10', City_Category='A', Stay_In_Current_City_Years='2', Marital_Status='0', Product_Category_1='6', Product_Category_2='8', Product_Category_3='16', Purchase='16622')]"
      ]
     },
     "execution_count": 281,
     "metadata": {
      "tags": []
     },
     "output_type": "execute_result"
    }
   ],
   "source": [
    "## Verify Dataframe\n",
    "trainDF.take(2)"
   ]
  },
  {
   "cell_type": "code",
   "execution_count": 282,
   "metadata": {
    "colab": {
     "base_uri": "https://localhost:8080/",
     "height": 156
    },
    "colab_type": "code",
    "executionInfo": {
     "elapsed": 74008,
     "status": "ok",
     "timestamp": 1575170814993,
     "user": {
      "displayName": "Thomas K John",
      "photoUrl": "",
      "userId": "10832060721107655920"
     },
     "user_tz": -330
    },
    "id": "w-ne3n4UWbV2",
    "outputId": "2e47945e-d866-4bb1-9045-0c4a8030a201",
    "scrolled": true
   },
   "outputs": [
    {
     "name": "stdout",
     "output_type": "stream",
     "text": [
      "+-------+----------+------+----+----------+-------------+--------------------------+--------------+------------------+------------------+------------------+--------+\n",
      "|User_ID|Product_ID|Gender| Age|Occupation|City_Category|Stay_In_Current_City_Years|Marital_Status|Product_Category_1|Product_Category_2|Product_Category_3|Purchase|\n",
      "+-------+----------+------+----+----------+-------------+--------------------------+--------------+------------------+------------------+------------------+--------+\n",
      "|1000001| P00051842|     F|0-17|        10|            A|                         2|             0|                 4|                 8|              null|    2849|\n",
      "|1000001| P00059442|     F|0-17|        10|            A|                         2|             0|                 6|                 8|                16|   16622|\n",
      "+-------+----------+------+----+----------+-------------+--------------------------+--------------+------------------+------------------+------------------+--------+\n",
      "\n"
     ]
    }
   ],
   "source": [
    "## Verify Table\n",
    "spark.sql(\"SELECT * FROM trainDFTable LIMIT 2\").show()"
   ]
  },
  {
   "cell_type": "markdown",
   "metadata": {
    "colab_type": "text",
    "id": "X0GoKqtUWbV4"
   },
   "source": [
    "#### Column References"
   ]
  },
  {
   "cell_type": "markdown",
   "metadata": {
    "colab_type": "text",
    "id": "cEVR_ZYaWbV5"
   },
   "source": [
    "#### Select & SelectExpr"
   ]
  },
  {
   "cell_type": "code",
   "execution_count": 283,
   "metadata": {
    "colab": {
     "base_uri": "https://localhost:8080/",
     "height": 173
    },
    "colab_type": "code",
    "executionInfo": {
     "elapsed": 75231,
     "status": "ok",
     "timestamp": 1575170816235,
     "user": {
      "displayName": "Thomas K John",
      "photoUrl": "",
      "userId": "10832060721107655920"
     },
     "user_tz": -330
    },
    "id": "zXwAQiyxWbV5",
    "outputId": "71dbacb6-ff76-408d-a573-11b1173188c1",
    "scrolled": false
   },
   "outputs": [
    {
     "name": "stdout",
     "output_type": "stream",
     "text": [
      "+-------+-------+-------+-------+\n",
      "| userID|User_ID|User_ID|User_ID|\n",
      "+-------+-------+-------+-------+\n",
      "|1000001|1000001|1000001|1000001|\n",
      "|1000001|1000001|1000001|1000001|\n",
      "+-------+-------+-------+-------+\n",
      "only showing top 2 rows\n",
      "\n"
     ]
    }
   ],
   "source": [
    "## Multiple ways of referring a column in a dataframe\n",
    "from pyspark.sql.functions import expr, col, column\n",
    "\n",
    "trainDF.select(expr(\"User_ID AS userID\") , col(\"User_ID\"), \n",
    "               column(\"User_ID\"), \"User_ID\").show(2)"
   ]
  },
  {
   "cell_type": "code",
   "execution_count": 284,
   "metadata": {
    "colab": {
     "base_uri": "https://localhost:8080/",
     "height": 54
    },
    "colab_type": "code",
    "executionInfo": {
     "elapsed": 75223,
     "status": "ok",
     "timestamp": 1575170816236,
     "user": {
      "displayName": "Thomas K John",
      "photoUrl": "",
      "userId": "10832060721107655920"
     },
     "user_tz": -330
    },
    "id": "Mn9RaZWBWbV7",
    "outputId": "cf50a3af-2af1-4ed3-b9b3-759b133c4bba",
    "scrolled": true
   },
   "outputs": [
    {
     "data": {
      "text/plain": [
       "DataFrame[User_ID: string, User_ID: string]"
      ]
     },
     "execution_count": 284,
     "metadata": {
      "tags": []
     },
     "output_type": "execute_result"
    }
   ],
   "source": [
    "trainDF.select(col(\"User_ID\"), \"User_ID\")"
   ]
  },
  {
   "cell_type": "markdown",
   "metadata": {
    "colab_type": "text",
    "id": "nMSTNEnlWbV8"
   },
   "source": [
    "#### Pandas dot notation doesn't work here "
   ]
  },
  {
   "cell_type": "code",
   "execution_count": 0,
   "metadata": {
    "colab": {},
    "colab_type": "code",
    "id": "rL5CRI2nWbV-"
   },
   "outputs": [],
   "source": [
    "result = trainDF.User_ID"
   ]
  },
  {
   "cell_type": "markdown",
   "metadata": {
    "colab_type": "text",
    "id": "RPs2HCLgWbV_"
   },
   "source": [
    "This will save/assign a column name to the newly created variable"
   ]
  },
  {
   "cell_type": "code",
   "execution_count": 286,
   "metadata": {
    "colab": {
     "base_uri": "https://localhost:8080/",
     "height": 173
    },
    "colab_type": "code",
    "executionInfo": {
     "elapsed": 76093,
     "status": "ok",
     "timestamp": 1575170817124,
     "user": {
      "displayName": "Thomas K John",
      "photoUrl": "",
      "userId": "10832060721107655920"
     },
     "user_tz": -330
    },
    "id": "d6RyZAgZWbWA",
    "outputId": "63840e53-2c19-4b33-ec4f-fa718b5540f9"
   },
   "outputs": [
    {
     "name": "stdout",
     "output_type": "stream",
     "text": [
      "+-------+\n",
      "|User_ID|\n",
      "+-------+\n",
      "|1000001|\n",
      "|1000001|\n",
      "+-------+\n",
      "only showing top 2 rows\n",
      "\n"
     ]
    }
   ],
   "source": [
    "# select content from the above column\n",
    "trainDF.select(result).show(2)"
   ]
  },
  {
   "cell_type": "code",
   "execution_count": 287,
   "metadata": {
    "colab": {
     "base_uri": "https://localhost:8080/",
     "height": 173
    },
    "colab_type": "code",
    "executionInfo": {
     "elapsed": 77367,
     "status": "ok",
     "timestamp": 1575170818406,
     "user": {
      "displayName": "Thomas K John",
      "photoUrl": "",
      "userId": "10832060721107655920"
     },
     "user_tz": -330
    },
    "id": "Bw-uQyiJWbWB",
    "outputId": "ab476827-b9c1-43da-cf6c-a057924be0ff"
   },
   "outputs": [
    {
     "name": "stdout",
     "output_type": "stream",
     "text": [
      "+-------+\n",
      "| userID|\n",
      "+-------+\n",
      "|1000001|\n",
      "|1000001|\n",
      "+-------+\n",
      "only showing top 2 rows\n",
      "\n"
     ]
    }
   ],
   "source": [
    "trainDF.select(expr(\"User_ID AS userID\")).show(2)"
   ]
  },
  {
   "cell_type": "code",
   "execution_count": 288,
   "metadata": {
    "colab": {
     "base_uri": "https://localhost:8080/",
     "height": 173
    },
    "colab_type": "code",
    "executionInfo": {
     "elapsed": 78591,
     "status": "ok",
     "timestamp": 1575170819638,
     "user": {
      "displayName": "Thomas K John",
      "photoUrl": "",
      "userId": "10832060721107655920"
     },
     "user_tz": -330
    },
    "id": "ZHmLA5Q7WbWC",
    "outputId": "48387834-c93b-43e9-fbe7-ae7dab0718a6"
   },
   "outputs": [
    {
     "name": "stdout",
     "output_type": "stream",
     "text": [
      "+-------+\n",
      "| userID|\n",
      "+-------+\n",
      "|1000001|\n",
      "|1000001|\n",
      "+-------+\n",
      "only showing top 2 rows\n",
      "\n"
     ]
    }
   ],
   "source": [
    "spark.sql(\"SELECT User_ID AS userID FROM trainDFTable\").show(2)"
   ]
  },
  {
   "cell_type": "code",
   "execution_count": 289,
   "metadata": {
    "colab": {
     "base_uri": "https://localhost:8080/",
     "height": 173
    },
    "colab_type": "code",
    "executionInfo": {
     "elapsed": 79913,
     "status": "ok",
     "timestamp": 1575170820969,
     "user": {
      "displayName": "Thomas K John",
      "photoUrl": "",
      "userId": "10832060721107655920"
     },
     "user_tz": -330
    },
    "id": "UYUiWfZ2WbWE",
    "outputId": "8d453656-1eb1-410c-8e22-9f33572028bd"
   },
   "outputs": [
    {
     "name": "stdout",
     "output_type": "stream",
     "text": [
      "+-------+---------+\n",
      "| userID|productID|\n",
      "+-------+---------+\n",
      "|1000001|P00051842|\n",
      "|1000001|P00059442|\n",
      "+-------+---------+\n",
      "only showing top 2 rows\n",
      "\n"
     ]
    }
   ],
   "source": [
    "trainDF.selectExpr(\"User_ID AS userID\", \"Product_ID AS productID\").show(2)"
   ]
  },
  {
   "cell_type": "code",
   "execution_count": 290,
   "metadata": {
    "colab": {
     "base_uri": "https://localhost:8080/",
     "height": 173
    },
    "colab_type": "code",
    "executionInfo": {
     "elapsed": 81147,
     "status": "ok",
     "timestamp": 1575170822211,
     "user": {
      "displayName": "Thomas K John",
      "photoUrl": "",
      "userId": "10832060721107655920"
     },
     "user_tz": -330
    },
    "id": "9V4DIrObWbWF",
    "outputId": "ec3b15bb-1c6b-4425-e49f-f7119c2d256f",
    "scrolled": true
   },
   "outputs": [
    {
     "name": "stdout",
     "output_type": "stream",
     "text": [
      "+-------+----------+----+\n",
      "|User_ID|Product_ID| Age|\n",
      "+-------+----------+----+\n",
      "|1000001| P00051842|0-17|\n",
      "|1000001| P00059442|0-17|\n",
      "+-------+----------+----+\n",
      "only showing top 2 rows\n",
      "\n"
     ]
    }
   ],
   "source": [
    "trainDF.select(\"User_ID\", \"Product_ID\", \"Age\").show(2)"
   ]
  },
  {
   "cell_type": "markdown",
   "metadata": {
    "colab_type": "text",
    "id": "YYd3x7nAWbWG"
   },
   "source": [
    "#### Converting to Spark Types (Literals)\n",
    "Sometimes we need to pass explicit values into Spark that aren’t a new column but are just a value in all the rows. This might be a constant value or something we’ll need to compare to later on. The way we do this is through literals. \n",
    "This is basically a translation from a given programming language’s literal value to one that Spark understands. \n",
    "Literals are expressions and can be used in the same way."
   ]
  },
  {
   "cell_type": "code",
   "execution_count": 291,
   "metadata": {
    "colab": {
     "base_uri": "https://localhost:8080/",
     "height": 173
    },
    "colab_type": "code",
    "executionInfo": {
     "elapsed": 82383,
     "status": "ok",
     "timestamp": 1575170823455,
     "user": {
      "displayName": "Thomas K John",
      "photoUrl": "",
      "userId": "10832060721107655920"
     },
     "user_tz": -330
    },
    "id": "Pzir3OcJWbWG",
    "outputId": "e2c880a1-c70e-4b70-bb2b-517fd8c842d6"
   },
   "outputs": [
    {
     "name": "stdout",
     "output_type": "stream",
     "text": [
      "+-------+----------+------+----+----------+-------------+--------------------------+--------------+------------------+------------------+------------------+--------+---+\n",
      "|User_ID|Product_ID|Gender| Age|Occupation|City_Category|Stay_In_Current_City_Years|Marital_Status|Product_Category_1|Product_Category_2|Product_Category_3|Purchase|One|\n",
      "+-------+----------+------+----+----------+-------------+--------------------------+--------------+------------------+------------------+------------------+--------+---+\n",
      "|1000001| P00051842|     F|0-17|        10|            A|                         2|             0|                 4|                 8|              null|    2849|  1|\n",
      "|1000001| P00059442|     F|0-17|        10|            A|                         2|             0|                 6|                 8|                16|   16622|  1|\n",
      "+-------+----------+------+----+----------+-------------+--------------------------+--------------+------------------+------------------+------------------+--------+---+\n",
      "only showing top 2 rows\n",
      "\n"
     ]
    }
   ],
   "source": [
    "from pyspark.sql.functions import lit\n",
    "trainDF.select(\"*\", lit(1).alias('One')).show(2)"
   ]
  },
  {
   "cell_type": "code",
   "execution_count": 292,
   "metadata": {
    "colab": {
     "base_uri": "https://localhost:8080/",
     "height": 156
    },
    "colab_type": "code",
    "executionInfo": {
     "elapsed": 84197,
     "status": "ok",
     "timestamp": 1575170825278,
     "user": {
      "displayName": "Thomas K John",
      "photoUrl": "",
      "userId": "10832060721107655920"
     },
     "user_tz": -330
    },
    "id": "EVBLboCXWbWH",
    "outputId": "71c074f2-1ea5-4c6b-fcb8-6d768b28c3a4",
    "scrolled": true
   },
   "outputs": [
    {
     "name": "stdout",
     "output_type": "stream",
     "text": [
      "+-------+----------+------+----+----------+-------------+--------------------------+--------------+------------------+------------------+------------------+--------+---+\n",
      "|User_ID|Product_ID|Gender| Age|Occupation|City_Category|Stay_In_Current_City_Years|Marital_Status|Product_Category_1|Product_Category_2|Product_Category_3|Purchase|One|\n",
      "+-------+----------+------+----+----------+-------------+--------------------------+--------------+------------------+------------------+------------------+--------+---+\n",
      "|1000001| P00051842|     F|0-17|        10|            A|                         2|             0|                 4|                 8|              null|    2849|  1|\n",
      "|1000001| P00059442|     F|0-17|        10|            A|                         2|             0|                 6|                 8|                16|   16622|  1|\n",
      "+-------+----------+------+----+----------+-------------+--------------------------+--------------+------------------+------------------+------------------+--------+---+\n",
      "\n"
     ]
    }
   ],
   "source": [
    "## In SQL, literals are just the specific value.\n",
    "trainDF.createOrReplaceTempView('trainDFTable')\n",
    "spark.sql(\"SELECT *, 1 as One FROM trainDFTable LIMIT 2\").show()"
   ]
  },
  {
   "cell_type": "code",
   "execution_count": 293,
   "metadata": {
    "colab": {
     "base_uri": "https://localhost:8080/",
     "height": 292
    },
    "colab_type": "code",
    "executionInfo": {
     "elapsed": 84190,
     "status": "ok",
     "timestamp": 1575170825280,
     "user": {
      "displayName": "Thomas K John",
      "photoUrl": "",
      "userId": "10832060721107655920"
     },
     "user_tz": -330
    },
    "id": "qso3sqxEWbWJ",
    "outputId": "a236ceb8-e775-4c4e-abee-cce426e3087d",
    "scrolled": false
   },
   "outputs": [
    {
     "name": "stdout",
     "output_type": "stream",
     "text": [
      "root\n",
      " |-- User_ID: string (nullable = true)\n",
      " |-- Product_ID: string (nullable = true)\n",
      " |-- Gender: string (nullable = true)\n",
      " |-- Age: string (nullable = true)\n",
      " |-- Occupation: string (nullable = true)\n",
      " |-- City_Category: string (nullable = true)\n",
      " |-- Stay_In_Current_City_Years: string (nullable = true)\n",
      " |-- Marital_Status: string (nullable = true)\n",
      " |-- Product_Category_1: string (nullable = true)\n",
      " |-- Product_Category_2: string (nullable = true)\n",
      " |-- Product_Category_3: string (nullable = true)\n",
      " |-- Purchase: integer (nullable = true)\n",
      " |-- SameCategoryCode: boolean (nullable = true)\n",
      "\n"
     ]
    }
   ],
   "source": [
    "from pyspark.sql.functions import col\n",
    "tempDF.withColumn(\"Purchase\",col('Purchase').cast(\"integer\")).printSchema()"
   ]
  },
  {
   "cell_type": "markdown",
   "metadata": {
    "colab_type": "text",
    "id": "9DgdEX_CWbWK"
   },
   "source": [
    "#### Pair wise Frequencies - Crosstab"
   ]
  },
  {
   "cell_type": "code",
   "execution_count": 294,
   "metadata": {
    "colab": {
     "base_uri": "https://localhost:8080/",
     "height": 241
    },
    "colab_type": "code",
    "executionInfo": {
     "elapsed": 86679,
     "status": "ok",
     "timestamp": 1575170827778,
     "user": {
      "displayName": "Thomas K John",
      "photoUrl": "",
      "userId": "10832060721107655920"
     },
     "user_tz": -330
    },
    "id": "fQ2_MhdzWbWK",
    "outputId": "1dc87642-e54c-48da-e3a8-6aaffd293b41",
    "scrolled": false
   },
   "outputs": [
    {
     "name": "stdout",
     "output_type": "stream",
     "text": [
      "+----------+-----+------+\n",
      "|Age_Gender|    F|     M|\n",
      "+----------+-----+------+\n",
      "|      0-17| 3548|  7027|\n",
      "|     46-50| 9191| 22722|\n",
      "|     18-25|17192| 52744|\n",
      "|     36-45|19017| 57967|\n",
      "|       55+| 3583| 11541|\n",
      "|     51-55| 6962| 20053|\n",
      "|     26-35|35670|118248|\n",
      "+----------+-----+------+\n",
      "\n"
     ]
    }
   ],
   "source": [
    "## To calculate pair wise frequency of categorical columns\n",
    "## Use crosstab operation on DataFrame to calculate the pair wise frequency of columns. \n",
    "## Apply crosstab operation on ‘Age’ and ‘Gender’ columns of train DataFrame.\n",
    "trainDF.crosstab('Age', 'Gender').show()"
   ]
  },
  {
   "cell_type": "code",
   "execution_count": 295,
   "metadata": {
    "colab": {
     "base_uri": "https://localhost:8080/",
     "height": 360
    },
    "colab_type": "code",
    "executionInfo": {
     "elapsed": 89153,
     "status": "ok",
     "timestamp": 1575170830261,
     "user": {
      "displayName": "Thomas K John",
      "photoUrl": "",
      "userId": "10832060721107655920"
     },
     "user_tz": -330
    },
    "id": "Fe7dZK-FWbWM",
    "outputId": "c58ea4f5-8ec0-4730-8126-a01c8fe780d3"
   },
   "outputs": [
    {
     "name": "stdout",
     "output_type": "stream",
     "text": [
      "+-----+------+------+\n",
      "|  Age|Gender| count|\n",
      "+-----+------+------+\n",
      "|51-55|     F|  6962|\n",
      "|18-25|     M| 52744|\n",
      "| 0-17|     F|  3548|\n",
      "|46-50|     M| 22722|\n",
      "|18-25|     F| 17192|\n",
      "|  55+|     M| 11541|\n",
      "|  55+|     F|  3583|\n",
      "|36-45|     M| 57967|\n",
      "|26-35|     F| 35670|\n",
      "| 0-17|     M|  7027|\n",
      "|36-45|     F| 19017|\n",
      "|51-55|     M| 20053|\n",
      "|26-35|     M|118248|\n",
      "|46-50|     F|  9191|\n",
      "+-----+------+------+\n",
      "\n"
     ]
    }
   ],
   "source": [
    "trainDF.groupBy('Age', 'Gender').count().show()"
   ]
  },
  {
   "cell_type": "code",
   "execution_count": 296,
   "metadata": {
    "colab": {
     "base_uri": "https://localhost:8080/",
     "height": 241
    },
    "colab_type": "code",
    "executionInfo": {
     "elapsed": 91807,
     "status": "ok",
     "timestamp": 1575170832924,
     "user": {
      "displayName": "Thomas K John",
      "photoUrl": "",
      "userId": "10832060721107655920"
     },
     "user_tz": -330
    },
    "id": "lP_7tmTrWbWO",
    "outputId": "67b9d1e7-fef4-44a7-afa2-461404e3e105",
    "scrolled": true
   },
   "outputs": [
    {
     "name": "stdout",
     "output_type": "stream",
     "text": [
      "+-----+-----+------+\n",
      "|  Age|    F|     M|\n",
      "+-----+-----+------+\n",
      "|18-25|17192| 52744|\n",
      "|26-35|35670|118248|\n",
      "| 0-17| 3548|  7027|\n",
      "|46-50| 9191| 22722|\n",
      "|51-55| 6962| 20053|\n",
      "|36-45|19017| 57967|\n",
      "|  55+| 3583| 11541|\n",
      "+-----+-----+------+\n",
      "\n"
     ]
    }
   ],
   "source": [
    "spark.sql(\"\"\"select Age,\n",
    "    sum(case when Gender = 'F' then 1 else 0 end) F,\n",
    "    sum(case when Gender = 'M' then 1 else 0 end) M\n",
    "from trainDFTable\n",
    "group by Age\"\"\").show()\n",
    "\n",
    "# spark.sql(\"\"\"select Age,\n",
    "#     count(*) total,\n",
    "#     sum(case when Gender = 'F' then 1 else 0 end) F,\n",
    "#     sum(case when Gender = 'M' then 1 else 0 end) M\n",
    "# from trainDFTable\n",
    "# group by Age\"\"\").show()"
   ]
  },
  {
   "cell_type": "markdown",
   "metadata": {
    "colab_type": "text",
    "id": "ec1iVuaBWbWQ"
   },
   "source": [
    "#### Removing Duplicates"
   ]
  },
  {
   "cell_type": "code",
   "execution_count": 297,
   "metadata": {
    "colab": {
     "base_uri": "https://localhost:8080/",
     "height": 360
    },
    "colab_type": "code",
    "executionInfo": {
     "elapsed": 94218,
     "status": "ok",
     "timestamp": 1575170835345,
     "user": {
      "displayName": "Thomas K John",
      "photoUrl": "",
      "userId": "10832060721107655920"
     },
     "user_tz": -330
    },
    "id": "hDET-WsIWbWQ",
    "outputId": "ab05257a-2ebe-40e7-bab4-5f6acfd22068",
    "scrolled": true
   },
   "outputs": [
    {
     "name": "stdout",
     "output_type": "stream",
     "text": [
      "+-----+------+\n",
      "|  Age|Gender|\n",
      "+-----+------+\n",
      "|51-55|     F|\n",
      "|18-25|     M|\n",
      "| 0-17|     F|\n",
      "|46-50|     M|\n",
      "|18-25|     F|\n",
      "|  55+|     M|\n",
      "|  55+|     F|\n",
      "|36-45|     M|\n",
      "|26-35|     F|\n",
      "| 0-17|     M|\n",
      "|36-45|     F|\n",
      "|51-55|     M|\n",
      "|26-35|     M|\n",
      "|46-50|     F|\n",
      "+-----+------+\n",
      "\n"
     ]
    }
   ],
   "source": [
    "##To get the DataFrame without any duplicate rows of given a DataFrame\n",
    "##Use dropDuplicates operation to drop the duplicate rows of a DataFrame. \n",
    "## In this command, performing this on two columns Age and Gender of train dataset and \n",
    "## Get the all unique rows for these two columns.\n",
    "trainDF.select('Age','Gender').dropDuplicates().show()"
   ]
  },
  {
   "cell_type": "markdown",
   "metadata": {
    "colab_type": "text",
    "id": "5yH6IbYgWbWR"
   },
   "source": [
    "#### Filtering the rows"
   ]
  },
  {
   "cell_type": "code",
   "execution_count": 298,
   "metadata": {
    "colab": {
     "base_uri": "https://localhost:8080/",
     "height": 122
    },
    "colab_type": "code",
    "executionInfo": {
     "elapsed": 103193,
     "status": "ok",
     "timestamp": 1575170844328,
     "user": {
      "displayName": "Thomas K John",
      "photoUrl": "",
      "userId": "10832060721107655920"
     },
     "user_tz": -330
    },
    "id": "0Rd_HgZrWbWR",
    "outputId": "aab36784-082e-48be-df1c-1215faf0c6a7",
    "scrolled": true
   },
   "outputs": [
    {
     "name": "stdout",
     "output_type": "stream",
     "text": [
      "Count of rows where Purchase Amount more than 15000 are 77137\n",
      "Count of rows where Purchase Amount more than 15000 are 77137\n",
      "Count of rows where Purchase Amount more than 15000 are 77137\n",
      "Count of rows where Purchase Amount more than 15000 are 77137\n",
      "Count of rows where Purchase Amount more than 15000 are 77137\n"
     ]
    }
   ],
   "source": [
    "## To filter the rows in train dataset which has Purchases more than 15000\n",
    "## apply the filter operation on Purchase column in train DataFrame \n",
    "## to filter out the rows with values more than 15000. \n",
    "print(\"Count of rows where Purchase Amount more than 15000 are {}\".format(trainDF.filter(trainDF.Purchase > 15000).count()))\n",
    "print(\"Count of rows where Purchase Amount more than 15000 are {}\".format(trainDF.filter(col(\"Purchase\") > 15000).count()))\n",
    "print(\"Count of rows where Purchase Amount more than 15000 are {}\".format(trainDF.filter(column(\"Purchase\") > 15000).count()))\n",
    "print(\"Count of rows where Purchase Amount more than 15000 are {}\".format(trainDF.filter(expr(\"Purchase\") > 15000).count()))\n",
    "print(\"Count of rows where Purchase Amount more than 15000 are {}\".format(trainDF.filter(trainDF[\"Purchase\"] > 15000).count()))"
   ]
  },
  {
   "cell_type": "code",
   "execution_count": 299,
   "metadata": {
    "colab": {
     "base_uri": "https://localhost:8080/",
     "height": 139
    },
    "colab_type": "code",
    "executionInfo": {
     "elapsed": 104734,
     "status": "ok",
     "timestamp": 1575170845878,
     "user": {
      "displayName": "Thomas K John",
      "photoUrl": "",
      "userId": "10832060721107655920"
     },
     "user_tz": -330
    },
    "id": "7cK_VK14WbWT",
    "outputId": "d9effa22-5315-43ec-b37d-5d924949b1f7"
   },
   "outputs": [
    {
     "name": "stdout",
     "output_type": "stream",
     "text": [
      "+-----+\n",
      "|Count|\n",
      "+-----+\n",
      "|77137|\n",
      "+-----+\n",
      "\n"
     ]
    }
   ],
   "source": [
    "spark.sql(\"\"\"\n",
    "SELECT \n",
    "COUNT(*) AS Count\n",
    "FROM trainDFTable\n",
    "WHERE Purchase > 15000\"\"\").show()"
   ]
  },
  {
   "cell_type": "code",
   "execution_count": 300,
   "metadata": {
    "colab": {
     "base_uri": "https://localhost:8080/",
     "height": 54
    },
    "colab_type": "code",
    "executionInfo": {
     "elapsed": 106728,
     "status": "ok",
     "timestamp": 1575170847883,
     "user": {
      "displayName": "Thomas K John",
      "photoUrl": "",
      "userId": "10832060721107655920"
     },
     "user_tz": -330
    },
    "id": "99XtBWWHWbWV",
    "outputId": "fa0dfbfb-018b-4104-b7ee-0f6a2ef7f776",
    "scrolled": true
   },
   "outputs": [
    {
     "data": {
      "text/plain": [
       "15034"
      ]
     },
     "execution_count": 300,
     "metadata": {
      "tags": []
     },
     "output_type": "execute_result"
    }
   ],
   "source": [
    "trainDF.where(\"Purchase > 15000\").where(\"Gender = 'F'\").count()"
   ]
  },
  {
   "cell_type": "code",
   "execution_count": 301,
   "metadata": {
    "colab": {
     "base_uri": "https://localhost:8080/",
     "height": 54
    },
    "colab_type": "code",
    "executionInfo": {
     "elapsed": 109431,
     "status": "ok",
     "timestamp": 1575170850594,
     "user": {
      "displayName": "Thomas K John",
      "photoUrl": "",
      "userId": "10832060721107655920"
     },
     "user_tz": -330
    },
    "id": "K3ipIOIaWbWW",
    "outputId": "205c9490-6375-4597-c7ac-87fe353e8f6e"
   },
   "outputs": [
    {
     "data": {
      "text/plain": [
       "15034"
      ]
     },
     "execution_count": 301,
     "metadata": {
      "tags": []
     },
     "output_type": "execute_result"
    }
   ],
   "source": [
    "trainDF.filter(\"Purchase > 15000\").where(\"Gender = 'F'\").count()"
   ]
  },
  {
   "cell_type": "code",
   "execution_count": 302,
   "metadata": {
    "colab": {
     "base_uri": "https://localhost:8080/",
     "height": 54
    },
    "colab_type": "code",
    "executionInfo": {
     "elapsed": 109935,
     "status": "ok",
     "timestamp": 1575170851107,
     "user": {
      "displayName": "Thomas K John",
      "photoUrl": "",
      "userId": "10832060721107655920"
     },
     "user_tz": -330
    },
    "id": "i4hzKaDqWbWW",
    "outputId": "8af1459e-9438-4e24-a3db-59f698544a7f"
   },
   "outputs": [
    {
     "data": {
      "text/plain": [
       "15034"
      ]
     },
     "execution_count": 302,
     "metadata": {
      "tags": []
     },
     "output_type": "execute_result"
    }
   ],
   "source": [
    "trainDF.where((col(\"Purchase\") > 15000) & (col(\"Gender\") == 'F')).count()"
   ]
  },
  {
   "cell_type": "code",
   "execution_count": 303,
   "metadata": {
    "colab": {
     "base_uri": "https://localhost:8080/",
     "height": 54
    },
    "colab_type": "code",
    "executionInfo": {
     "elapsed": 111511,
     "status": "ok",
     "timestamp": 1575170852692,
     "user": {
      "displayName": "Thomas K John",
      "photoUrl": "",
      "userId": "10832060721107655920"
     },
     "user_tz": -330
    },
    "id": "gbhGP0gpWbWY",
    "outputId": "f97a3660-4ddd-496e-99ba-d523d83b38b8"
   },
   "outputs": [
    {
     "data": {
      "text/plain": [
       "15034"
      ]
     },
     "execution_count": 303,
     "metadata": {
      "tags": []
     },
     "output_type": "execute_result"
    }
   ],
   "source": [
    "trainDF.filter((col(\"Purchase\") > 15000) & (col(\"Gender\") == 'F')).count()"
   ]
  },
  {
   "cell_type": "code",
   "execution_count": 304,
   "metadata": {
    "colab": {
     "base_uri": "https://localhost:8080/",
     "height": 54
    },
    "colab_type": "code",
    "executionInfo": {
     "elapsed": 113786,
     "status": "ok",
     "timestamp": 1575170854975,
     "user": {
      "displayName": "Thomas K John",
      "photoUrl": "",
      "userId": "10832060721107655920"
     },
     "user_tz": -330
    },
    "id": "GEpaQWX8WbWZ",
    "outputId": "d4df1807-e90b-4b6e-e513-988239657d58"
   },
   "outputs": [
    {
     "data": {
      "text/plain": [
       "15034"
      ]
     },
     "execution_count": 304,
     "metadata": {
      "tags": []
     },
     "output_type": "execute_result"
    }
   ],
   "source": [
    "spark.sql(\"SELECT * FROM trainDFTable WHERE Purchase > 15000 AND Gender = 'F'\").count()"
   ]
  },
  {
   "cell_type": "markdown",
   "metadata": {
    "colab_type": "text",
    "id": "hnF0In4gWbWa"
   },
   "source": [
    "### 15. Aggregations"
   ]
  },
  {
   "cell_type": "markdown",
   "metadata": {
    "colab_type": "text",
    "id": "x8-elqmNWbWa"
   },
   "source": [
    "#### Count Distinct"
   ]
  },
  {
   "cell_type": "code",
   "execution_count": 305,
   "metadata": {
    "colab": {
     "base_uri": "https://localhost:8080/",
     "height": 139
    },
    "colab_type": "code",
    "executionInfo": {
     "elapsed": 116131,
     "status": "ok",
     "timestamp": 1575170857329,
     "user": {
      "displayName": "Thomas K John",
      "photoUrl": "",
      "userId": "10832060721107655920"
     },
     "user_tz": -330
    },
    "id": "ltwB2zVtWbWa",
    "outputId": "e373ea73-6415-4b05-e5e1-1e5082c637fc",
    "scrolled": true
   },
   "outputs": [
    {
     "name": "stdout",
     "output_type": "stream",
     "text": [
      "+-------------------+\n",
      "|count(DISTINCT Age)|\n",
      "+-------------------+\n",
      "|                  7|\n",
      "+-------------------+\n",
      "\n"
     ]
    }
   ],
   "source": [
    "from pyspark.sql.functions import countDistinct\n",
    "trainDF.select(countDistinct(\"Age\")).show()"
   ]
  },
  {
   "cell_type": "markdown",
   "metadata": {
    "colab_type": "text",
    "id": "1z0j1-NXWbWc"
   },
   "source": [
    "#### Approximate Count Distinct\n",
    "* **Parameters:**\n",
    "    * col - Name of the column\n",
    "    * rsd – maximum estimation error allowed (default = 0.05)."
   ]
  },
  {
   "cell_type": "code",
   "execution_count": 306,
   "metadata": {
    "colab": {
     "base_uri": "https://localhost:8080/",
     "height": 139
    },
    "colab_type": "code",
    "executionInfo": {
     "elapsed": 118109,
     "status": "ok",
     "timestamp": 1575170859314,
     "user": {
      "displayName": "Thomas K John",
      "photoUrl": "",
      "userId": "10832060721107655920"
     },
     "user_tz": -330
    },
    "id": "Cf-Dx4D2WbWd",
    "outputId": "2733fd38-cd6b-4f05-eeb2-661c077d7425"
   },
   "outputs": [
    {
     "name": "stdout",
     "output_type": "stream",
     "text": [
      "+--------------------------+\n",
      "|approx_count_distinct(Age)|\n",
      "+--------------------------+\n",
      "|                         7|\n",
      "+--------------------------+\n",
      "\n"
     ]
    }
   ],
   "source": [
    "from pyspark.sql.functions import approx_count_distinct\n",
    "trainDF.select(approx_count_distinct(col=\"Age\", rsd=0.1)).show()"
   ]
  },
  {
   "cell_type": "markdown",
   "metadata": {
    "colab_type": "text",
    "id": "4oJThMdyWbWe"
   },
   "source": [
    "#### First and Last"
   ]
  },
  {
   "cell_type": "code",
   "execution_count": 307,
   "metadata": {
    "colab": {
     "base_uri": "https://localhost:8080/",
     "height": 139
    },
    "colab_type": "code",
    "executionInfo": {
     "elapsed": 120116,
     "status": "ok",
     "timestamp": 1575170861330,
     "user": {
      "displayName": "Thomas K John",
      "photoUrl": "",
      "userId": "10832060721107655920"
     },
     "user_tz": -330
    },
    "id": "yvxXm42eWbWe",
    "outputId": "2c4f958a-0013-4752-cf99-1f0dc2240adf",
    "scrolled": true
   },
   "outputs": [
    {
     "name": "stdout",
     "output_type": "stream",
     "text": [
      "+------------------------+-----------------------+\n",
      "|first(Product_ID, false)|last(Product_ID, false)|\n",
      "+------------------------+-----------------------+\n",
      "|               P00051842|              P00349442|\n",
      "+------------------------+-----------------------+\n",
      "\n"
     ]
    }
   ],
   "source": [
    "from pyspark.sql.functions import first, last\n",
    "trainDF.select(first(\"Product_ID\"), last(\"Product_ID\")).show()"
   ]
  },
  {
   "cell_type": "markdown",
   "metadata": {
    "colab_type": "text",
    "id": "8X1j2tQcWbWf"
   },
   "source": [
    "#### Min and Max"
   ]
  },
  {
   "cell_type": "code",
   "execution_count": 308,
   "metadata": {
    "colab": {
     "base_uri": "https://localhost:8080/",
     "height": 139
    },
    "colab_type": "code",
    "executionInfo": {
     "elapsed": 122248,
     "status": "ok",
     "timestamp": 1575170863469,
     "user": {
      "displayName": "Thomas K John",
      "photoUrl": "",
      "userId": "10832060721107655920"
     },
     "user_tz": -330
    },
    "id": "lheWsfI_WbWg",
    "outputId": "3335855a-bd7c-4e89-9cfd-1a08276678cd",
    "scrolled": true
   },
   "outputs": [
    {
     "name": "stdout",
     "output_type": "stream",
     "text": [
      "+-------------+-------------+\n",
      "|min(Purchase)|max(Purchase)|\n",
      "+-------------+-------------+\n",
      "|        10000|         9999|\n",
      "+-------------+-------------+\n",
      "\n"
     ]
    }
   ],
   "source": [
    "from pyspark.sql.functions import min, max\n",
    "trainDF.select(min(\"Purchase\"), max(\"Purchase\")).show()"
   ]
  },
  {
   "cell_type": "markdown",
   "metadata": {
    "colab_type": "text",
    "id": "oitc9D_3WbWj"
   },
   "source": [
    "#### Sum"
   ]
  },
  {
   "cell_type": "code",
   "execution_count": 309,
   "metadata": {
    "colab": {
     "base_uri": "https://localhost:8080/",
     "height": 139
    },
    "colab_type": "code",
    "executionInfo": {
     "elapsed": 123950,
     "status": "ok",
     "timestamp": 1575170865180,
     "user": {
      "displayName": "Thomas K John",
      "photoUrl": "",
      "userId": "10832060721107655920"
     },
     "user_tz": -330
    },
    "id": "XM9AairHWbWj",
    "outputId": "43dbb351-c3c8-44a5-cc75-d4ed21c15ab5"
   },
   "outputs": [
    {
     "name": "stdout",
     "output_type": "stream",
     "text": [
      "+-------------+\n",
      "|sum(Purchase)|\n",
      "+-------------+\n",
      "|3.566654792E9|\n",
      "+-------------+\n",
      "\n"
     ]
    }
   ],
   "source": [
    "from pyspark.sql.functions import sum\n",
    "trainDF.select(sum(\"Purchase\")).show()"
   ]
  },
  {
   "cell_type": "markdown",
   "metadata": {
    "colab_type": "text",
    "id": "vkmDNOezWbWk"
   },
   "source": [
    "#### sumDistinct"
   ]
  },
  {
   "cell_type": "code",
   "execution_count": 310,
   "metadata": {
    "colab": {
     "base_uri": "https://localhost:8080/",
     "height": 139
    },
    "colab_type": "code",
    "executionInfo": {
     "elapsed": 126865,
     "status": "ok",
     "timestamp": 1575170868104,
     "user": {
      "displayName": "Thomas K John",
      "photoUrl": "",
      "userId": "10832060721107655920"
     },
     "user_tz": -330
    },
    "id": "1HiKems_WbWl",
    "outputId": "09bab307-07b2-46e0-e668-ccf974d4411b"
   },
   "outputs": [
    {
     "name": "stdout",
     "output_type": "stream",
     "text": [
      "+----------------------+\n",
      "|sum(DISTINCT Purchase)|\n",
      "+----------------------+\n",
      "|          1.98153395E8|\n",
      "+----------------------+\n",
      "\n"
     ]
    }
   ],
   "source": [
    "from pyspark.sql.functions import sumDistinct\n",
    "trainDF.select(sumDistinct(\"Purchase\")).show()"
   ]
  },
  {
   "cell_type": "markdown",
   "metadata": {
    "colab_type": "text",
    "id": "dllKnECKWbWn"
   },
   "source": [
    "#### Avg"
   ]
  },
  {
   "cell_type": "code",
   "execution_count": 311,
   "metadata": {
    "colab": {
     "base_uri": "https://localhost:8080/",
     "height": 139
    },
    "colab_type": "code",
    "executionInfo": {
     "elapsed": 128808,
     "status": "ok",
     "timestamp": 1575170870056,
     "user": {
      "displayName": "Thomas K John",
      "photoUrl": "",
      "userId": "10832060721107655920"
     },
     "user_tz": -330
    },
    "id": "lgXKt2lSWbWo",
    "outputId": "25b3c9c9-33eb-4a90-9c76-9ce2140eb428"
   },
   "outputs": [
    {
     "name": "stdout",
     "output_type": "stream",
     "text": [
      "+--------------------------------------+-----------------+-----------------+\n",
      "|(total_purchases / total_transactions)|    avg_purchases|   mean_purchases|\n",
      "+--------------------------------------+-----------------+-----------------+\n",
      "|                     9252.862885086843|9252.862885086843|9252.862885086843|\n",
      "+--------------------------------------+-----------------+-----------------+\n",
      "\n"
     ]
    }
   ],
   "source": [
    "from pyspark.sql.functions import sum, count, avg, expr\n",
    "\n",
    "trainDF.select(\n",
    "    count(\"Purchase\").alias(\"total_transactions\"),\n",
    "    sum(\"Purchase\").alias(\"total_purchases\"),\n",
    "    avg(\"Purchase\").alias(\"avg_purchases\"),\n",
    "    expr(\"mean(Purchase)\").alias(\"mean_purchases\"))\\\n",
    "  .selectExpr(\n",
    "    \"total_purchases/total_transactions\",\n",
    "    \"avg_purchases\",\n",
    "    \"mean_purchases\").show()"
   ]
  },
  {
   "cell_type": "markdown",
   "metadata": {
    "colab_type": "text",
    "id": "Anm2wdEhWbWp"
   },
   "source": [
    "#### Variance and Standard Deviation"
   ]
  },
  {
   "cell_type": "code",
   "execution_count": 312,
   "metadata": {
    "colab": {
     "base_uri": "https://localhost:8080/",
     "height": 139
    },
    "colab_type": "code",
    "executionInfo": {
     "elapsed": 132153,
     "status": "ok",
     "timestamp": 1575170873411,
     "user": {
      "displayName": "Thomas K John",
      "photoUrl": "",
      "userId": "10832060721107655920"
     },
     "user_tz": -330
    },
    "id": "_lt3zwtOWbWp",
    "outputId": "8bb6efe8-ea2f-46a7-d8c7-0101a470c47a",
    "scrolled": true
   },
   "outputs": [
    {
     "name": "stdout",
     "output_type": "stream",
     "text": [
      "+--------------------+--------------------+--------------------+---------------------+\n",
      "|   var_pop(Purchase)|  var_samp(Purchase)|stddev_pop(Purchase)|stddev_samp(Purchase)|\n",
      "+--------------------+--------------------+--------------------+---------------------+\n",
      "|2.5196570178942546E7|2.5196635545799576E7|   5019.618529225358|    5019.625040359048|\n",
      "+--------------------+--------------------+--------------------+---------------------+\n",
      "\n"
     ]
    }
   ],
   "source": [
    "from pyspark.sql.functions import var_pop, stddev_pop\n",
    "from pyspark.sql.functions import var_samp, stddev_samp\n",
    "\n",
    "trainDF.select(var_pop(\"Purchase\"), var_samp(\"Purchase\"),\n",
    "  stddev_pop(\"Purchase\"), stddev_samp(\"Purchase\")).show()"
   ]
  },
  {
   "cell_type": "code",
   "execution_count": 313,
   "metadata": {
    "colab": {
     "base_uri": "https://localhost:8080/",
     "height": 139
    },
    "colab_type": "code",
    "executionInfo": {
     "elapsed": 134685,
     "status": "ok",
     "timestamp": 1575170875961,
     "user": {
      "displayName": "Thomas K John",
      "photoUrl": "",
      "userId": "10832060721107655920"
     },
     "user_tz": -330
    },
    "id": "jrMPnvEEWbWq",
    "outputId": "1ada9fdb-f09e-48c7-f32c-e3c5b076ec53",
    "scrolled": true
   },
   "outputs": [
    {
     "name": "stdout",
     "output_type": "stream",
     "text": [
      "+---------------------------------+----------------------------------+------------------------------------+-------------------------------------+\n",
      "|var_pop(CAST(Purchase AS DOUBLE))|var_samp(CAST(Purchase AS DOUBLE))|stddev_pop(CAST(Purchase AS DOUBLE))|stddev_samp(CAST(Purchase AS DOUBLE))|\n",
      "+---------------------------------+----------------------------------+------------------------------------+-------------------------------------+\n",
      "|             2.5196570178942546E7|              2.5196635545799576E7|                   5019.618529225358|                    5019.625040359048|\n",
      "+---------------------------------+----------------------------------+------------------------------------+-------------------------------------+\n",
      "\n"
     ]
    }
   ],
   "source": [
    "spark.sql(\"\"\"SELECT var_pop(Purchase), var_samp(Purchase),\n",
    "             stddev_pop(Purchase), stddev_samp(Purchase)\n",
    "             FROM trainDFTable\"\"\").show()"
   ]
  },
  {
   "cell_type": "markdown",
   "metadata": {
    "colab_type": "text",
    "id": "69Mi1xhbWbWr"
   },
   "source": [
    "#### skewness and kurtosis"
   ]
  },
  {
   "cell_type": "code",
   "execution_count": 314,
   "metadata": {
    "colab": {
     "base_uri": "https://localhost:8080/",
     "height": 139
    },
    "colab_type": "code",
    "executionInfo": {
     "elapsed": 139192,
     "status": "ok",
     "timestamp": 1575170880477,
     "user": {
      "displayName": "Thomas K John",
      "photoUrl": "",
      "userId": "10832060721107655920"
     },
     "user_tz": -330
    },
    "id": "USVvEEyNWbWs",
    "outputId": "50051d04-11bc-4446-f40c-a2c1ae487643",
    "scrolled": true
   },
   "outputs": [
    {
     "name": "stdout",
     "output_type": "stream",
     "text": [
      "+------------------+-------------------+\n",
      "|skewness(Purchase)| kurtosis(Purchase)|\n",
      "+------------------+-------------------+\n",
      "|0.6011891058033598|-0.3332972102207403|\n",
      "+------------------+-------------------+\n",
      "\n"
     ]
    }
   ],
   "source": [
    "from pyspark.sql.functions import skewness, kurtosis\n",
    "trainDF.select(skewness(\"Purchase\"), kurtosis(\"Purchase\")).show()"
   ]
  },
  {
   "cell_type": "code",
   "execution_count": 315,
   "metadata": {
    "colab": {
     "base_uri": "https://localhost:8080/",
     "height": 139
    },
    "colab_type": "code",
    "executionInfo": {
     "elapsed": 143687,
     "status": "ok",
     "timestamp": 1575170884983,
     "user": {
      "displayName": "Thomas K John",
      "photoUrl": "",
      "userId": "10832060721107655920"
     },
     "user_tz": -330
    },
    "id": "ybI8ipjNWbWs",
    "outputId": "923803fc-0c5c-4d71-b16a-19abcfef1df0",
    "scrolled": true
   },
   "outputs": [
    {
     "name": "stdout",
     "output_type": "stream",
     "text": [
      "+----------------------------------+----------------------------------+\n",
      "|skewness(CAST(Purchase AS DOUBLE))|kurtosis(CAST(Purchase AS DOUBLE))|\n",
      "+----------------------------------+----------------------------------+\n",
      "|                0.6011891058033598|               -0.3332972102207403|\n",
      "+----------------------------------+----------------------------------+\n",
      "\n"
     ]
    }
   ],
   "source": [
    "spark.sql(\"\"\"SELECT skewness(Purchase), kurtosis(Purchase)\n",
    "             FROM trainDFTable\"\"\").show()"
   ]
  },
  {
   "cell_type": "markdown",
   "metadata": {
    "colab_type": "text",
    "id": "ESTEdjSUWbWy"
   },
   "source": [
    "#### Covariance and Correlation"
   ]
  },
  {
   "cell_type": "code",
   "execution_count": 316,
   "metadata": {
    "colab": {
     "base_uri": "https://localhost:8080/",
     "height": 139
    },
    "colab_type": "code",
    "executionInfo": {
     "elapsed": 146994,
     "status": "ok",
     "timestamp": 1575170888297,
     "user": {
      "displayName": "Thomas K John",
      "photoUrl": "",
      "userId": "10832060721107655920"
     },
     "user_tz": -330
    },
    "id": "1-2BnzapWbWz",
    "outputId": "657872cd-bf85-4833-e4ff-456e3a29e1b1"
   },
   "outputs": [
    {
     "name": "stdout",
     "output_type": "stream",
     "text": [
      "+----------------------------------+----------------------------------------+---------------------------------------+\n",
      "|corr(Product_Category_1, Purchase)|covar_samp(Product_Category_1, Purchase)|covar_pop(Product_Category_1, Purchase)|\n",
      "+----------------------------------+----------------------------------------+---------------------------------------+\n",
      "|               -0.3441352558130045|                      -6799.583767801264|                      -6799.56612785012|\n",
      "+----------------------------------+----------------------------------------+---------------------------------------+\n",
      "\n"
     ]
    }
   ],
   "source": [
    "from pyspark.sql.functions import corr, covar_pop, covar_samp\n",
    "trainDF.select(corr(\"Product_Category_1\", \"Purchase\"), covar_samp(\"Product_Category_1\", \"Purchase\"),\n",
    "    covar_pop(\"Product_Category_1\", \"Purchase\")).show()"
   ]
  },
  {
   "cell_type": "code",
   "execution_count": 317,
   "metadata": {
    "colab": {
     "base_uri": "https://localhost:8080/",
     "height": 139
    },
    "colab_type": "code",
    "executionInfo": {
     "elapsed": 149877,
     "status": "ok",
     "timestamp": 1575170891189,
     "user": {
      "displayName": "Thomas K John",
      "photoUrl": "",
      "userId": "10832060721107655920"
     },
     "user_tz": -330
    },
    "id": "FFjuxFSJWbWz",
    "outputId": "a51e7842-0501-4204-d0f7-5c3a9388b485",
    "scrolled": true
   },
   "outputs": [
    {
     "name": "stdout",
     "output_type": "stream",
     "text": [
      "+------------------------------------------------------------------+------------------------------------------------------------------------+-----------------------------------------------------------------------+\n",
      "|corr(CAST(Product_Category_1 AS DOUBLE), CAST(Purchase AS DOUBLE))|covar_samp(CAST(Product_Category_1 AS DOUBLE), CAST(Purchase AS DOUBLE))|covar_pop(CAST(Product_Category_1 AS DOUBLE), CAST(Purchase AS DOUBLE))|\n",
      "+------------------------------------------------------------------+------------------------------------------------------------------------+-----------------------------------------------------------------------+\n",
      "|                                               -0.3441352558130045|                                                      -6799.583767801264|                                                      -6799.56612785012|\n",
      "+------------------------------------------------------------------+------------------------------------------------------------------------+-----------------------------------------------------------------------+\n",
      "\n"
     ]
    }
   ],
   "source": [
    "spark.sql(\"\"\"SELECT corr(Product_Category_1, Purchase), covar_samp(Product_Category_1, Purchase),\n",
    "             covar_pop(Product_Category_1, Purchase)\n",
    "             FROM trainDFTable\"\"\").show()"
   ]
  },
  {
   "cell_type": "markdown",
   "metadata": {
    "colab_type": "text",
    "id": "ITpt_ENRWbW2"
   },
   "source": [
    "#### Complex Aggregations"
   ]
  },
  {
   "cell_type": "code",
   "execution_count": 318,
   "metadata": {
    "colab": {
     "base_uri": "https://localhost:8080/",
     "height": 139
    },
    "colab_type": "code",
    "executionInfo": {
     "elapsed": 152606,
     "status": "ok",
     "timestamp": 1575170893926,
     "user": {
      "displayName": "Thomas K John",
      "photoUrl": "",
      "userId": "10832060721107655920"
     },
     "user_tz": -330
    },
    "id": "0psmGqnLWbW2",
    "outputId": "3f5fdf3f-42ad-4549-94d1-60d414fe961a"
   },
   "outputs": [
    {
     "name": "stdout",
     "output_type": "stream",
     "text": [
      "+--------------------+--------------------+\n",
      "|    collect_set(Age)|   collect_list(Age)|\n",
      "+--------------------+--------------------+\n",
      "|[55+, 51-55, 0-17...|[0-17, 0-17, 0-17...|\n",
      "+--------------------+--------------------+\n",
      "\n"
     ]
    }
   ],
   "source": [
    "from pyspark.sql.functions import collect_set, collect_list\n",
    "trainDF.agg(collect_set(\"Age\"), collect_list(\"Age\")).show()"
   ]
  },
  {
   "cell_type": "code",
   "execution_count": 319,
   "metadata": {
    "colab": {
     "base_uri": "https://localhost:8080/",
     "height": 139
    },
    "colab_type": "code",
    "executionInfo": {
     "elapsed": 154831,
     "status": "ok",
     "timestamp": 1575170896160,
     "user": {
      "displayName": "Thomas K John",
      "photoUrl": "",
      "userId": "10832060721107655920"
     },
     "user_tz": -330
    },
    "id": "zppwpYaeWbW3",
    "outputId": "76748eba-2f9b-49d8-f2ed-575b5cdd3d87",
    "scrolled": true
   },
   "outputs": [
    {
     "name": "stdout",
     "output_type": "stream",
     "text": [
      "+--------------------+--------------------+\n",
      "|    collect_set(Age)|   collect_list(Age)|\n",
      "+--------------------+--------------------+\n",
      "|[55+, 51-55, 0-17...|[0-17, 0-17, 0-17...|\n",
      "+--------------------+--------------------+\n",
      "\n"
     ]
    }
   ],
   "source": [
    "spark.sql(\"\"\"SELECT collect_set(Age), collect_list(Age) FROM trainDFTable\"\"\").show()"
   ]
  },
  {
   "cell_type": "markdown",
   "metadata": {
    "colab_type": "text",
    "id": "-78UheM0WbW6"
   },
   "source": [
    "#### Grouping"
   ]
  },
  {
   "cell_type": "code",
   "execution_count": 320,
   "metadata": {
    "colab": {
     "base_uri": "https://localhost:8080/",
     "height": 360
    },
    "colab_type": "code",
    "executionInfo": {
     "elapsed": 157517,
     "status": "ok",
     "timestamp": 1575170898854,
     "user": {
      "displayName": "Thomas K John",
      "photoUrl": "",
      "userId": "10832060721107655920"
     },
     "user_tz": -330
    },
    "id": "ZWHYE5ONWbW6",
    "outputId": "fa6b8ab3-6706-4d46-965f-68fb008e8d6a"
   },
   "outputs": [
    {
     "name": "stdout",
     "output_type": "stream",
     "text": [
      "+-----+------+------+\n",
      "|  Age|Gender| count|\n",
      "+-----+------+------+\n",
      "|51-55|     F|  6962|\n",
      "|18-25|     M| 52744|\n",
      "| 0-17|     F|  3548|\n",
      "|46-50|     M| 22722|\n",
      "|18-25|     F| 17192|\n",
      "|  55+|     M| 11541|\n",
      "|  55+|     F|  3583|\n",
      "|36-45|     M| 57967|\n",
      "|26-35|     F| 35670|\n",
      "| 0-17|     M|  7027|\n",
      "|36-45|     F| 19017|\n",
      "|51-55|     M| 20053|\n",
      "|26-35|     M|118248|\n",
      "|46-50|     F|  9191|\n",
      "+-----+------+------+\n",
      "\n"
     ]
    }
   ],
   "source": [
    "trainDF.groupBy(\"Age\", \"Gender\").count().show()"
   ]
  },
  {
   "cell_type": "code",
   "execution_count": 321,
   "metadata": {
    "colab": {
     "base_uri": "https://localhost:8080/",
     "height": 360
    },
    "colab_type": "code",
    "executionInfo": {
     "elapsed": 159926,
     "status": "ok",
     "timestamp": 1575170901272,
     "user": {
      "displayName": "Thomas K John",
      "photoUrl": "",
      "userId": "10832060721107655920"
     },
     "user_tz": -330
    },
    "id": "Nzm3rN6TWbW6",
    "outputId": "b45bff77-ca1e-4b62-dfa3-3014b0053068"
   },
   "outputs": [
    {
     "name": "stdout",
     "output_type": "stream",
     "text": [
      "+-----+------+------------------+\n",
      "|  Age|Gender|Age Group Purchase|\n",
      "+-----+------+------------------+\n",
      "|51-55|     F|       6.2724479E7|\n",
      "|18-25|     M|      4.96745484E8|\n",
      "| 0-17|     F|       2.9605153E7|\n",
      "|46-50|     M|      2.13164876E8|\n",
      "|18-25|     F|      1.43115866E8|\n",
      "|  55+|     M|      1.08894726E8|\n",
      "|  55+|     F|       3.2342305E7|\n",
      "|36-45|     M|      5.48151866E8|\n",
      "|26-35|     F|      3.11812355E8|\n",
      "| 0-17|     M|       6.4693751E7|\n",
      "|36-45|     F|       1.7023059E8|\n",
      "|51-55|     M|      1.94432303E8|\n",
      "|26-35|     M|     1.109729324E9|\n",
      "|46-50|     F|       8.1011714E7|\n",
      "+-----+------+------------------+\n",
      "\n"
     ]
    }
   ],
   "source": [
    "trainDF.select(\"Age\",\"Gender\",\"Purchase\").groupBy(\"Age\",\"Gender\").agg(sum(\"Purchase\").alias(\"Age Group Purchase\")).show()"
   ]
  },
  {
   "cell_type": "markdown",
   "metadata": {
    "colab_type": "text",
    "id": "YSe4qCGtWbW8"
   },
   "source": [
    "#### Grouping with Expressions"
   ]
  },
  {
   "cell_type": "code",
   "execution_count": 322,
   "metadata": {
    "colab": {
     "base_uri": "https://localhost:8080/",
     "height": 241
    },
    "colab_type": "code",
    "executionInfo": {
     "elapsed": 162540,
     "status": "ok",
     "timestamp": 1575170903894,
     "user": {
      "displayName": "Thomas K John",
      "photoUrl": "",
      "userId": "10832060721107655920"
     },
     "user_tz": -330
    },
    "id": "qotZKc5fWbW8",
    "outputId": "835c949e-42cc-4efe-b731-daf1565b4f34",
    "scrolled": true
   },
   "outputs": [
    {
     "name": "stdout",
     "output_type": "stream",
     "text": [
      "+-----+------+---------------+\n",
      "|  Age|  quan|count(Purchase)|\n",
      "+-----+------+---------------+\n",
      "|18-25| 69936|          69936|\n",
      "|26-35|153918|         153918|\n",
      "| 0-17| 10575|          10575|\n",
      "|46-50| 31913|          31913|\n",
      "|51-55| 27015|          27015|\n",
      "|36-45| 76984|          76984|\n",
      "|  55+| 15124|          15124|\n",
      "+-----+------+---------------+\n",
      "\n"
     ]
    }
   ],
   "source": [
    "trainDF.groupBy(\"Age\").agg(\n",
    "  count(\"Purchase\").alias(\"quan\"),\n",
    "  expr(\"count(Purchase)\")).show()"
   ]
  },
  {
   "cell_type": "code",
   "execution_count": 323,
   "metadata": {
    "colab": {
     "base_uri": "https://localhost:8080/",
     "height": 241
    },
    "colab_type": "code",
    "executionInfo": {
     "elapsed": 165098,
     "status": "ok",
     "timestamp": 1575170906460,
     "user": {
      "displayName": "Thomas K John",
      "photoUrl": "",
      "userId": "10832060721107655920"
     },
     "user_tz": -330
    },
    "id": "lg1dufHfWbW9",
    "outputId": "f694027a-a376-42f9-fff9-1bd985aaedff"
   },
   "outputs": [
    {
     "name": "stdout",
     "output_type": "stream",
     "text": [
      "+-----+-----------------+--------------------+\n",
      "|  Age|    avg(Purchase)|stddev_pop(Purchase)|\n",
      "+-----+-----------------+--------------------+\n",
      "|18-25|9149.241449325098|    5030.73260424529|\n",
      "|26-35|9235.707837939683|   5001.417464297852|\n",
      "| 0-17|8917.154042553191|   5108.509402410989|\n",
      "|46-50| 9218.08009275217|   4973.931293087956|\n",
      "|51-55|9519.036905422914|   5074.569101301074|\n",
      "|36-45|9331.581315598047|   5025.818032593724|\n",
      "|  55+|9338.602948955302|   5026.226769074877|\n",
      "+-----+-----------------+--------------------+\n",
      "\n"
     ]
    }
   ],
   "source": [
    "trainDF.groupBy(\"Age\").agg(expr(\"avg(Purchase)\"),expr(\"stddev_pop(Purchase)\")).show()"
   ]
  },
  {
   "cell_type": "code",
   "execution_count": 324,
   "metadata": {
    "colab": {
     "base_uri": "https://localhost:8080/",
     "height": 241
    },
    "colab_type": "code",
    "executionInfo": {
     "elapsed": 167493,
     "status": "ok",
     "timestamp": 1575170908863,
     "user": {
      "displayName": "Thomas K John",
      "photoUrl": "",
      "userId": "10832060721107655920"
     },
     "user_tz": -330
    },
    "id": "WM7NqrksWbW-",
    "outputId": "5ac9059f-e0a1-4993-9feb-443b852d85c5",
    "scrolled": false
   },
   "outputs": [
    {
     "name": "stdout",
     "output_type": "stream",
     "text": [
      "+-----+-----------------+\n",
      "|  Age|    avg(Purchase)|\n",
      "+-----+-----------------+\n",
      "|18-25|9149.241449325098|\n",
      "|26-35|9235.707837939683|\n",
      "| 0-17|8917.154042553191|\n",
      "|46-50| 9218.08009275217|\n",
      "|51-55|9519.036905422914|\n",
      "|36-45|9331.581315598047|\n",
      "|  55+|9338.602948955302|\n",
      "+-----+-----------------+\n",
      "\n"
     ]
    }
   ],
   "source": [
    "## To find the mean of each age group in train dataset - Average purchases in each age group\n",
    "trainDF.groupby('Age').agg({'Purchase': 'mean'}).show()"
   ]
  },
  {
   "cell_type": "code",
   "execution_count": 325,
   "metadata": {
    "colab": {
     "base_uri": "https://localhost:8080/",
     "height": 241
    },
    "colab_type": "code",
    "executionInfo": {
     "elapsed": 169951,
     "status": "ok",
     "timestamp": 1575170911329,
     "user": {
      "displayName": "Thomas K John",
      "photoUrl": "",
      "userId": "10832060721107655920"
     },
     "user_tz": -330
    },
    "id": "_OlHkjMEWbW-",
    "outputId": "1baedb19-2634-40e5-d72b-2452fb01ba80"
   },
   "outputs": [
    {
     "name": "stdout",
     "output_type": "stream",
     "text": [
      "+-----+-------------+\n",
      "|  Age|sum(Purchase)|\n",
      "+-----+-------------+\n",
      "|18-25|  6.3986135E8|\n",
      "|26-35|1.421541679E9|\n",
      "| 0-17|  9.4298904E7|\n",
      "|46-50|  2.9417659E8|\n",
      "|51-55| 2.57156782E8|\n",
      "|36-45| 7.18382456E8|\n",
      "|  55+| 1.41237031E8|\n",
      "+-----+-------------+\n",
      "\n"
     ]
    }
   ],
   "source": [
    "trainDF.groupby('Age').agg({'Purchase': 'sum'}).show()"
   ]
  },
  {
   "cell_type": "code",
   "execution_count": 326,
   "metadata": {
    "colab": {
     "base_uri": "https://localhost:8080/",
     "height": 224
    },
    "colab_type": "code",
    "executionInfo": {
     "elapsed": 176348,
     "status": "ok",
     "timestamp": 1575170917733,
     "user": {
      "displayName": "Thomas K John",
      "photoUrl": "",
      "userId": "10832060721107655920"
     },
     "user_tz": -330
    },
    "id": "09meuiFkWbXD",
    "outputId": "d2db5b56-26dd-4114-fdbf-d1fb9fef8c1f",
    "scrolled": true
   },
   "outputs": [
    {
     "name": "stdout",
     "output_type": "stream",
     "text": [
      "+-----+------------------+-----------------------+-------------------+-------------+----------------+---------------+-------------------------------+-----------------------+--------+-----------+-----------------------+---------------+\n",
      "|  Age|sum(City_Category)|sum(Product_Category_3)|sum(Marital_Status)|sum(Purchase)|    sum(User_ID)|sum(Occupation)|sum(Stay_In_Current_City_Years)|sum(Product_Category_1)|sum(Age)|sum(Gender)|sum(Product_Category_2)|sum(Product_ID)|\n",
      "+-----+------------------+-----------------------+-------------------+-------------+----------------+---------------+-------------------------------+-----------------------+--------+-----------+-----------------------+---------------+\n",
      "|18-25|              null|               271580.0|            14766.0|  6.3986135E8| 7.0132128001E10|       471577.0|                        81943.0|               357761.0|    null|       null|               459321.0|           null|\n",
      "|26-35|              null|               592171.0|            60567.0|1.421541679E9|1.54397060368E11|      1215449.0|                       193282.0|               818600.0|    null|       null|              1035321.0|           null|\n",
      "| 0-17|              null|                40615.0|                0.0|  9.4298904E7| 1.0603748031E10|        92620.0|                        14302.0|                53926.0|    null|       null|                67544.0|           null|\n",
      "|46-50|              null|               121904.0|            23037.0|  2.9417659E8| 3.2014981722E10|       271471.0|                        36142.0|               183249.0|    null|       null|               220038.0|           null|\n",
      "|51-55|              null|               103419.0|            19378.0| 2.57156782E8| 2.7095772638E10|       238234.0|                        31051.0|               155666.0|    null|       null|               188292.0|           null|\n",
      "+-----+------------------+-----------------------+-------------------+-------------+----------------+---------------+-------------------------------+-----------------------+--------+-----------+-----------------------+---------------+\n",
      "only showing top 5 rows\n",
      "\n"
     ]
    }
   ],
   "source": [
    "## Apply sum, min, max, count with groupby to get different summary insight for each group. \n",
    "exprs = {x: \"sum\" for x in trainDF.columns}\n",
    "trainDF.groupBy(\"Age\").agg(exprs).show(5)"
   ]
  },
  {
   "cell_type": "markdown",
   "metadata": {
    "colab_type": "text",
    "id": "2v-eJq-BWbXE"
   },
   "source": [
    "### 16. User-Defined Functions"
   ]
  },
  {
   "cell_type": "markdown",
   "metadata": {
    "colab_type": "text",
    "id": "fnBy0d7XWbXE"
   },
   "source": [
    "##### a. simple UDF function for finding the cube of a number"
   ]
  },
  {
   "cell_type": "code",
   "execution_count": 327,
   "metadata": {
    "colab": {
     "base_uri": "https://localhost:8080/",
     "height": 54
    },
    "colab_type": "code",
    "executionInfo": {
     "elapsed": 176340,
     "status": "ok",
     "timestamp": 1575170917736,
     "user": {
      "displayName": "Thomas K John",
      "photoUrl": "",
      "userId": "10832060721107655920"
     },
     "user_tz": -330
    },
    "id": "3WL8sSDJWbXF",
    "outputId": "584dc6dc-5fea-4236-fd2c-e61b502f4c6f"
   },
   "outputs": [
    {
     "data": {
      "text/plain": [
       "8.0"
      ]
     },
     "execution_count": 327,
     "metadata": {
      "tags": []
     },
     "output_type": "execute_result"
    }
   ],
   "source": [
    "udfExampleDF = spark.range(5).toDF(\"num\")\n",
    "\n",
    "def power3(double_value):\n",
    "    return double_value ** 3\n",
    "\n",
    "power3(2.0)"
   ]
  },
  {
   "cell_type": "markdown",
   "metadata": {
    "colab_type": "text",
    "id": "9qSiAapdWbXI"
   },
   "source": [
    "Once the function is created, we need to register them with Spark so that we can used\n",
    "them on all of our worker machines. Spark will serialize the function on the driver, and transfer it over the network to all executor processes. This happens regardless of language.\n",
    "\n",
    "<br>Once we go to use the function, there are essentially two different things that occur. If the function is written in Scala or Java then we can use that function within the JVM. This means there will be little performance penalty aside from the fact that we can’t take advantage of code generation capabilities that Spark has for built-in functions.\n",
    "\n",
    "<br>If the function is written in Python, something quite different happens. \n",
    "Spark will start up a python process on the worker, serialize all of the data to a format that python can understand (remember it was in the JVM before), execute the function row by row on that data in the python process, before finally returning the results of the row operations to the JVM and Spark."
   ]
  },
  {
   "cell_type": "code",
   "execution_count": 0,
   "metadata": {
    "colab": {},
    "colab_type": "code",
    "id": "TgparYP7WbXJ"
   },
   "outputs": [],
   "source": [
    "from pyspark.sql.functions import udf\n",
    "power3udf = udf(power3)"
   ]
  },
  {
   "cell_type": "code",
   "execution_count": 329,
   "metadata": {
    "colab": {
     "base_uri": "https://localhost:8080/",
     "height": 207
    },
    "colab_type": "code",
    "executionInfo": {
     "elapsed": 176326,
     "status": "ok",
     "timestamp": 1575170917737,
     "user": {
      "displayName": "Thomas K John",
      "photoUrl": "",
      "userId": "10832060721107655920"
     },
     "user_tz": -330
    },
    "id": "Bh97g0GxWbXJ",
    "outputId": "7914d3b1-2cb4-440b-bc48-2fc47a5910c8"
   },
   "outputs": [
    {
     "name": "stdout",
     "output_type": "stream",
     "text": [
      "+-----------+\n",
      "|power3(num)|\n",
      "+-----------+\n",
      "|          0|\n",
      "|          1|\n",
      "|          8|\n",
      "|         27|\n",
      "|         64|\n",
      "+-----------+\n",
      "\n"
     ]
    }
   ],
   "source": [
    "from pyspark.sql.functions import col\n",
    "udfExampleDF.select(power3udf(col(\"num\"))).show()"
   ]
  },
  {
   "cell_type": "markdown",
   "metadata": {
    "colab_type": "text",
    "id": "aP1_T7SfWbXM"
   },
   "source": [
    "##### b. Binning of Purchase column"
   ]
  },
  {
   "cell_type": "code",
   "execution_count": 0,
   "metadata": {
    "colab": {},
    "colab_type": "code",
    "id": "rEPaWG94WbXM"
   },
   "outputs": [],
   "source": [
    "def binning_purchase(purchase):\n",
    "    \"\"\"\n",
    "    args:\n",
    "        Accepts Purchase amount and returns the correspondin bin\n",
    "    return:\n",
    "        bin number (Bin01,02,....) type=String\n",
    "    0       - 500       -> Bin01\n",
    "    501     - 1000      -> Bin02\n",
    "    1001    - 2000      -> Bin03\n",
    "    2001    - 4000      -> Bin04\n",
    "    4001    - 6000      -> Bin05\n",
    "    6001    - 8000      -> Bin06\n",
    "    8001    - 10000     -> Bin07\n",
    "    10001   - 20000     -> Bin08\n",
    "    20001   - 30000     -> Bin09\n",
    "    \"\"\"\n",
    "    if float(purchase) > 0:\n",
    "        purchase = float(purchase)\n",
    "    else:\n",
    "        purchase = float(0)\n",
    "    \n",
    "    if purchase <= 500: return str(\"Bin01\")\n",
    "    elif (purchase > 500 and purchase <= 1000): return str(\"Bin02\")\n",
    "    elif (purchase > 1000 and purchase <= 2000): return str(\"Bin03\")\n",
    "    elif (purchase > 2000 and purchase <= 4000): return str(\"Bin04\")\n",
    "    elif (purchase > 4000 and purchase <= 6000): return str(\"Bin05\")\n",
    "    elif (purchase > 6000 and purchase <= 8000): return str(\"Bin06\")\n",
    "    elif (purchase > 8000 and purchase <= 10000): return str(\"Bin07\")\n",
    "    elif (purchase > 10000 and purchase <= 20000): return str(\"Bin08\")\n",
    "    else:\n",
    "        return str(\"Bin09\")\n",
    "    \n",
    "    "
   ]
  },
  {
   "cell_type": "code",
   "execution_count": 0,
   "metadata": {
    "colab": {},
    "colab_type": "code",
    "id": "cMaEG3OnWbXN"
   },
   "outputs": [],
   "source": [
    "bin_purchase_udf = udf(binning_purchase)"
   ]
  },
  {
   "cell_type": "code",
   "execution_count": 332,
   "metadata": {
    "colab": {
     "base_uri": "https://localhost:8080/",
     "height": 207
    },
    "colab_type": "code",
    "executionInfo": {
     "elapsed": 177927,
     "status": "ok",
     "timestamp": 1575170919364,
     "user": {
      "displayName": "Thomas K John",
      "photoUrl": "",
      "userId": "10832060721107655920"
     },
     "user_tz": -330
    },
    "id": "boQqnWI4WbXP",
    "outputId": "3a7fb067-a68d-41c2-c61e-850c5fc767c1"
   },
   "outputs": [
    {
     "name": "stdout",
     "output_type": "stream",
     "text": [
      "+--------+---------------+\n",
      "|Purchase|Binned_Purchase|\n",
      "+--------+---------------+\n",
      "|    2849|          Bin04|\n",
      "|   16622|          Bin08|\n",
      "|    8370|          Bin07|\n",
      "|    1057|          Bin03|\n",
      "+--------+---------------+\n",
      "only showing top 4 rows\n",
      "\n"
     ]
    }
   ],
   "source": [
    "trainDF.withColumn('Binned_Purchase',bin_purchase_udf('Purchase')).select(\"Purchase\",\"Binned_Purchase\").show(4)"
   ]
  },
  {
   "cell_type": "markdown",
   "metadata": {
    "colab_type": "text",
    "id": "OV3AoAQ5WbXQ"
   },
   "source": [
    "## 17. Joins\n",
    "\n",
    "#### Dataset\n",
    "* The data is obtained from Surfeous,a recommender system prototype that uses social annotations (e.g., tags) and contextual models to find restaurants that best suit the user preferences.It is a publicly available dataset in UCI.It has threee tables restaurants,consumers and user rating.The tables we choose are from them which are fitered for our scenario\n",
    "\n",
    "\n",
    "#### Data dictionary :\n",
    "* __RestGenInfo.csv__ contains :\n",
    "    * placeID - Uniqued Id of restaurants\n",
    "    * latitude - Location detail \n",
    "    * longitude - Location detail\n",
    "    * name - Name of the restaurant\n",
    "    * state - Name of the state \n",
    "    * alcohol - Constraints on having alcoholic beverages\n",
    "    * smoking_area - Information for smokers\n",
    "    * price - Pricing type of restaurant\n",
    "    * franchise - Does the restaurant have frachise\n",
    "    * area - open or close type of restaurant\n",
    "\n",
    "* __Cuisine.csv__ contains :\n",
    "    * placeID - Uniqued Id of restaurants\n",
    "    * Rcuisine - Different styles of food\n",
    "\n",
    "    \n",
    "* __PaymentMode.csv__ contains :\n",
    "    * placeID - Uniqued Id of restaurants\n",
    "    * Rpayment - Different modes of payment\n",
    "\n",
    "    \n",
    "* __parking.csv__ contains :\n",
    "     * placeID - Uniqued Id of restaurants\n",
    "     * parking_lot - Different types of parking available"
   ]
  },
  {
   "cell_type": "markdown",
   "metadata": {
    "colab_type": "text",
    "id": "7Rk9j0RFWbXQ"
   },
   "source": [
    "#### Read the data as a dataframe"
   ]
  },
  {
   "cell_type": "code",
   "execution_count": 0,
   "metadata": {
    "colab": {},
    "colab_type": "code",
    "id": "EJa7i93SbjWf"
   },
   "outputs": [],
   "source": [
    "#from google.colab import files\n",
    "#files.upload()"
   ]
  },
  {
   "cell_type": "code",
   "execution_count": 0,
   "metadata": {
    "colab": {},
    "colab_type": "code",
    "id": "zawsxnoubqs_"
   },
   "outputs": [],
   "source": [
    "#from google.colab import files\n",
    "#files.upload()"
   ]
  },
  {
   "cell_type": "code",
   "execution_count": 0,
   "metadata": {
    "colab": {},
    "colab_type": "code",
    "id": "REtpDYeMbuRi"
   },
   "outputs": [],
   "source": [
    "#from google.colab import files\n",
    "#files.upload()"
   ]
  },
  {
   "cell_type": "code",
   "execution_count": 0,
   "metadata": {
    "colab": {},
    "colab_type": "code",
    "id": "Pe3J8Vvpbw35"
   },
   "outputs": [],
   "source": [
    "#from google.colab import files\n",
    "#files.upload()"
   ]
  },
  {
   "cell_type": "code",
   "execution_count": 0,
   "metadata": {
    "colab": {},
    "colab_type": "code",
    "id": "PaYgLdSlWbXQ"
   },
   "outputs": [],
   "source": [
    "restoGen = spark.read.csv('./RestGenInfo.csv', header=True, inferSchema=True,nullValue='?')\n",
    "cuisine = spark.read.csv('./Cuisine.csv', header=True, inferSchema=True)\n",
    "paymentMode = spark.read.csv('./PaymentMode.csv', header=True, inferSchema=True)\n",
    "parking = spark.read.csv('./parking.csv', header=True, inferSchema=True)"
   ]
  },
  {
   "cell_type": "code",
   "execution_count": 338,
   "metadata": {
    "colab": {
     "base_uri": "https://localhost:8080/",
     "height": 34
    },
    "colab_type": "code",
    "executionInfo": {
     "elapsed": 178737,
     "status": "ok",
     "timestamp": 1575170920234,
     "user": {
      "displayName": "Thomas K John",
      "photoUrl": "",
      "userId": "10832060721107655920"
     },
     "user_tz": -330
    },
    "id": "15JsDSONWbXR",
    "outputId": "dd417f07-66a0-42a6-a7df-ad79bf2da819"
   },
   "outputs": [
    {
     "data": {
      "text/plain": [
       "130"
      ]
     },
     "execution_count": 338,
     "metadata": {
      "tags": []
     },
     "output_type": "execute_result"
    }
   ],
   "source": [
    "restoGen.select(\"placeID\").distinct().count()"
   ]
  },
  {
   "cell_type": "code",
   "execution_count": 339,
   "metadata": {
    "colab": {
     "base_uri": "https://localhost:8080/",
     "height": 34
    },
    "colab_type": "code",
    "executionInfo": {
     "elapsed": 179129,
     "status": "ok",
     "timestamp": 1575170920638,
     "user": {
      "displayName": "Thomas K John",
      "photoUrl": "",
      "userId": "10832060721107655920"
     },
     "user_tz": -330
    },
    "id": "AYPvx3nrWbXR",
    "outputId": "0b779109-58ba-47ae-d257-d5fb3cde39ad"
   },
   "outputs": [
    {
     "data": {
      "text/plain": [
       "769"
      ]
     },
     "execution_count": 339,
     "metadata": {
      "tags": []
     },
     "output_type": "execute_result"
    }
   ],
   "source": [
    "cuisine.select(\"placeID\").distinct().count()"
   ]
  },
  {
   "cell_type": "markdown",
   "metadata": {
    "colab_type": "text",
    "id": "cHMXfNgvWbXS"
   },
   "source": [
    "#### Check for any null values in the data"
   ]
  },
  {
   "cell_type": "code",
   "execution_count": 0,
   "metadata": {
    "colab": {},
    "colab_type": "code",
    "id": "Tz4mpRKMcK94"
   },
   "outputs": [],
   "source": [
    "from pyspark.sql.functions import *"
   ]
  },
  {
   "cell_type": "code",
   "execution_count": 341,
   "metadata": {
    "colab": {
     "base_uri": "https://localhost:8080/",
     "height": 425
    },
    "colab_type": "code",
    "executionInfo": {
     "elapsed": 180339,
     "status": "ok",
     "timestamp": 1575170921866,
     "user": {
      "displayName": "Thomas K John",
      "photoUrl": "",
      "userId": "10832060721107655920"
     },
     "user_tz": -330
    },
    "id": "e6hfeaEIWbXS",
    "outputId": "0dc3bf09-1830-4ed1-fca4-4a3e150f3d20"
   },
   "outputs": [
    {
     "name": "stdout",
     "output_type": "stream",
     "text": [
      "+-------+--------+---------+----+-----+-------+------------+-----+---------+----+\n",
      "|placeID|latitude|longitude|name|state|alcohol|smoking_area|price|franchise|area|\n",
      "+-------+--------+---------+----+-----+-------+------------+-----+---------+----+\n",
      "|      0|       0|        0|   0|   18|      0|           0|    0|        0|   0|\n",
      "+-------+--------+---------+----+-----+-------+------------+-----+---------+----+\n",
      "\n",
      "+-------+--------+\n",
      "|placeID|Rcuisine|\n",
      "+-------+--------+\n",
      "|      0|       0|\n",
      "+-------+--------+\n",
      "\n",
      "+-------+--------+\n",
      "|placeID|Rpayment|\n",
      "+-------+--------+\n",
      "|      0|       0|\n",
      "+-------+--------+\n",
      "\n",
      "+-------+-----------+\n",
      "|placeID|parking_lot|\n",
      "+-------+-----------+\n",
      "|      0|          0|\n",
      "+-------+-----------+\n",
      "\n"
     ]
    }
   ],
   "source": [
    "restoGen.select([count(when(isnan(c)| col(c).isNull(), 1)).alias(c) for c in restoGen.columns]).show()\n",
    "cuisine.select([count(when(isnan(c)| col(c).isNull(), 1)).alias(c) for c in cuisine.columns]).show()\n",
    "paymentMode.select([count(when(isnan(c)| col(c).isNull(), 1)).alias(c) for c in paymentMode.columns]).show()\n",
    "parking.select([count(when(isnan(c)| col(c).isNull(), 1)).alias(c) for c in parking.columns]).show()"
   ]
  },
  {
   "cell_type": "code",
   "execution_count": 0,
   "metadata": {
    "colab": {},
    "colab_type": "code",
    "id": "M5p2umS-WbXU"
   },
   "outputs": [],
   "source": [
    "restoGen = restoGen.dropna()"
   ]
  },
  {
   "cell_type": "code",
   "execution_count": 343,
   "metadata": {
    "colab": {
     "base_uri": "https://localhost:8080/",
     "height": 34
    },
    "colab_type": "code",
    "executionInfo": {
     "elapsed": 180322,
     "status": "ok",
     "timestamp": 1575170921868,
     "user": {
      "displayName": "Thomas K John",
      "photoUrl": "",
      "userId": "10832060721107655920"
     },
     "user_tz": -330
    },
    "id": "ILljkcd5WbXU",
    "outputId": "16616cbd-2f7a-40c1-ec69-6189f65b2143"
   },
   "outputs": [
    {
     "data": {
      "text/plain": [
       "112"
      ]
     },
     "execution_count": 343,
     "metadata": {
      "tags": []
     },
     "output_type": "execute_result"
    }
   ],
   "source": [
    "restoGen.select('placeID').distinct().count()"
   ]
  },
  {
   "cell_type": "code",
   "execution_count": 344,
   "metadata": {
    "colab": {
     "base_uri": "https://localhost:8080/",
     "height": 34
    },
    "colab_type": "code",
    "executionInfo": {
     "elapsed": 180714,
     "status": "ok",
     "timestamp": 1575170922271,
     "user": {
      "displayName": "Thomas K John",
      "photoUrl": "",
      "userId": "10832060721107655920"
     },
     "user_tz": -330
    },
    "id": "Q2pUoTCeWbXU",
    "outputId": "fdc299d9-ccf4-4e98-cf05-9329a64eb72e"
   },
   "outputs": [
    {
     "data": {
      "text/plain": [
       "769"
      ]
     },
     "execution_count": 344,
     "metadata": {
      "tags": []
     },
     "output_type": "execute_result"
    }
   ],
   "source": [
    "cuisine.select('placeID').distinct().count()"
   ]
  },
  {
   "cell_type": "code",
   "execution_count": 345,
   "metadata": {
    "colab": {
     "base_uri": "https://localhost:8080/",
     "height": 34
    },
    "colab_type": "code",
    "executionInfo": {
     "elapsed": 181785,
     "status": "ok",
     "timestamp": 1575170923353,
     "user": {
      "displayName": "Thomas K John",
      "photoUrl": "",
      "userId": "10832060721107655920"
     },
     "user_tz": -330
    },
    "id": "Ik6vWXUhWbXV",
    "outputId": "4a16e3aa-a6b9-4b9c-d9ab-a2e46ec33722"
   },
   "outputs": [
    {
     "data": {
      "text/plain": [
       "616"
      ]
     },
     "execution_count": 345,
     "metadata": {
      "tags": []
     },
     "output_type": "execute_result"
    }
   ],
   "source": [
    "paymentMode.select('placeID').distinct().count()"
   ]
  },
  {
   "cell_type": "code",
   "execution_count": 346,
   "metadata": {
    "colab": {
     "base_uri": "https://localhost:8080/",
     "height": 34
    },
    "colab_type": "code",
    "executionInfo": {
     "elapsed": 182184,
     "status": "ok",
     "timestamp": 1575170923763,
     "user": {
      "displayName": "Thomas K John",
      "photoUrl": "",
      "userId": "10832060721107655920"
     },
     "user_tz": -330
    },
    "id": "ziJyrge_WbXW",
    "outputId": "8a718436-10d2-4ba4-fe9b-214f98693b73"
   },
   "outputs": [
    {
     "data": {
      "text/plain": [
       "675"
      ]
     },
     "execution_count": 346,
     "metadata": {
      "tags": []
     },
     "output_type": "execute_result"
    }
   ],
   "source": [
    "parking.select('placeID').distinct().count()"
   ]
  },
  {
   "cell_type": "code",
   "execution_count": 347,
   "metadata": {
    "colab": {
     "base_uri": "https://localhost:8080/",
     "height": 34
    },
    "colab_type": "code",
    "executionInfo": {
     "elapsed": 182568,
     "status": "ok",
     "timestamp": 1575170924157,
     "user": {
      "displayName": "Thomas K John",
      "photoUrl": "",
      "userId": "10832060721107655920"
     },
     "user_tz": -330
    },
    "id": "s9PF1LPcWbXY",
    "outputId": "c6335a27-c7d0-4796-9fda-bea0ce1a0103"
   },
   "outputs": [
    {
     "data": {
      "text/plain": [
       "59"
      ]
     },
     "execution_count": 347,
     "metadata": {
      "tags": []
     },
     "output_type": "execute_result"
    }
   ],
   "source": [
    "cuisine.select('Rcuisine').distinct().count()"
   ]
  },
  {
   "cell_type": "code",
   "execution_count": 0,
   "metadata": {
    "colab": {},
    "colab_type": "code",
    "id": "b_ISCAkVWbXZ"
   },
   "outputs": [],
   "source": [
    "restoGen.createOrReplaceTempView('restoGenTable')\n",
    "cuisine.createOrReplaceTempView('cuisineTable')\n",
    "paymentMode.createOrReplaceTempView('paymentModeTable')\n",
    "parking.createOrReplaceTempView('parkingTable')"
   ]
  },
  {
   "cell_type": "code",
   "execution_count": 349,
   "metadata": {
    "colab": {
     "base_uri": "https://localhost:8080/",
     "height": 289
    },
    "colab_type": "code",
    "executionInfo": {
     "elapsed": 183443,
     "status": "ok",
     "timestamp": 1575170925052,
     "user": {
      "displayName": "Thomas K John",
      "photoUrl": "",
      "userId": "10832060721107655920"
     },
     "user_tz": -330
    },
    "id": "TBTZ_O6mWbXZ",
    "outputId": "1e4f4f75-cf0d-4c8d-9e5e-861784e47f30"
   },
   "outputs": [
    {
     "name": "stdout",
     "output_type": "stream",
     "text": [
      "+--------------+-------------------+------+\n",
      "|numberOfHotels|           Rpayment|  area|\n",
      "+--------------+-------------------+------+\n",
      "|            92|               cash|closed|\n",
      "|            44|               VISA|closed|\n",
      "|            40|MasterCard-Eurocard|closed|\n",
      "|            24|   American_Express|closed|\n",
      "|            11|   bank_debit_cards|closed|\n",
      "|            11|               cash|  open|\n",
      "|             3|               VISA|  open|\n",
      "|             2|MasterCard-Eurocard|  open|\n",
      "|             1|   bank_debit_cards|  open|\n",
      "|             1|      Carte_Blanche|closed|\n",
      "|             1|   American_Express|  open|\n",
      "+--------------+-------------------+------+\n",
      "\n"
     ]
    }
   ],
   "source": [
    " ##The  count of restaurants(as numberOfHotels) for each payment modes and area also order based on numberOfHotels in descending order.\n",
    "    \n",
    "spark.sql('''select  count(*) as numberOfHotels, Rpayment, area from\n",
    "restoGenTable a join paymentModeTable b \n",
    "where a.placeID = b.placeID group by Rpayment, area \n",
    "order by numberOfHotels desc''').show()"
   ]
  },
  {
   "cell_type": "markdown",
   "metadata": {
    "colab_type": "text",
    "id": "97Yju_jTWbXa"
   },
   "source": [
    "#### Inner Join"
   ]
  },
  {
   "cell_type": "code",
   "execution_count": 350,
   "metadata": {
    "colab": {
     "base_uri": "https://localhost:8080/",
     "height": 187
    },
    "colab_type": "code",
    "executionInfo": {
     "elapsed": 183433,
     "status": "ok",
     "timestamp": 1575170925053,
     "user": {
      "displayName": "Thomas K John",
      "photoUrl": "",
      "userId": "10832060721107655920"
     },
     "user_tz": -330
    },
    "id": "GO74XQKhWbXa",
    "outputId": "14260157-58e4-42d7-9349-b52a5ca6cc1c"
   },
   "outputs": [
    {
     "name": "stdout",
     "output_type": "stream",
     "text": [
      "+-------+----------+------------+--------------------+-------+-----------------+-------------+------+---------+------+-------+-------------------+\n",
      "|placeID|  latitude|   longitude|                name|  state|          alcohol| smoking_area| price|franchise|  area|placeID|           Rpayment|\n",
      "+-------+----------+------------+--------------------+-------+-----------------+-------------+------+---------+------+-------+-------------------+\n",
      "| 135106|22.1497088|-100.9760928|El Rinc�n de San ...|    SLP|        Wine-Beer|  only at bar|medium|        f|  open| 135106|               cash|\n",
      "| 135106|22.1497088|-100.9760928|El Rinc�n de San ...|    SLP|        Wine-Beer|  only at bar|medium|        f|  open| 135106|               VISA|\n",
      "| 135106|22.1497088|-100.9760928|El Rinc�n de San ...|    SLP|        Wine-Beer|  only at bar|medium|        f|  open| 135106|MasterCard-Eurocard|\n",
      "| 135088|18.8760113| -99.2198896|   Cafeteria cenidet|Morelos|No_Alcohol_Served|not permitted|   low|        f|closed| 135088|               cash|\n",
      "+-------+----------+------------+--------------------+-------+-----------------+-------------+------+---------+------+-------+-------------------+\n",
      "only showing top 4 rows\n",
      "\n"
     ]
    }
   ],
   "source": [
    "inner_join = restoGen.join(paymentMode, restoGen.placeID == paymentMode.placeID,how='inner') \n",
    "inner_join.show(4)"
   ]
  },
  {
   "cell_type": "code",
   "execution_count": 351,
   "metadata": {
    "colab": {
     "base_uri": "https://localhost:8080/",
     "height": 289
    },
    "colab_type": "code",
    "executionInfo": {
     "elapsed": 183819,
     "status": "ok",
     "timestamp": 1575170925451,
     "user": {
      "displayName": "Thomas K John",
      "photoUrl": "",
      "userId": "10832060721107655920"
     },
     "user_tz": -330
    },
    "id": "aot-1pBqWbXc",
    "outputId": "ea4cf88c-f944-408e-8a3b-f3fea4d36b6b"
   },
   "outputs": [
    {
     "name": "stdout",
     "output_type": "stream",
     "text": [
      "+------+-------------------+--------------+\n",
      "|  area|           Rpayment|NumberofHotels|\n",
      "+------+-------------------+--------------+\n",
      "|  open|   American_Express|             1|\n",
      "|  open|   bank_debit_cards|             1|\n",
      "|closed|   bank_debit_cards|            11|\n",
      "|  open|               cash|            11|\n",
      "|closed|   American_Express|            24|\n",
      "|closed|               VISA|            44|\n",
      "|closed|      Carte_Blanche|             1|\n",
      "|  open|               VISA|             3|\n",
      "|closed|               cash|            92|\n",
      "|closed|MasterCard-Eurocard|            40|\n",
      "|  open|MasterCard-Eurocard|             2|\n",
      "+------+-------------------+--------------+\n",
      "\n"
     ]
    }
   ],
   "source": [
    "count_of_hotels = inner_join.select('Rpayment','area').groupby('area','Rpayment').count()\n",
    "\n",
    "count_of_hotels = count_of_hotels.withColumnRenamed('count','NumberofHotels')\n",
    "count_of_hotels.show()"
   ]
  },
  {
   "cell_type": "code",
   "execution_count": 352,
   "metadata": {
    "colab": {
     "base_uri": "https://localhost:8080/",
     "height": 289
    },
    "colab_type": "code",
    "executionInfo": {
     "elapsed": 185086,
     "status": "ok",
     "timestamp": 1575170926731,
     "user": {
      "displayName": "Thomas K John",
      "photoUrl": "",
      "userId": "10832060721107655920"
     },
     "user_tz": -330
    },
    "id": "NYhC4TFRWbXe",
    "outputId": "d278c352-a54a-4120-baa8-47eabc2f6cd5",
    "scrolled": true
   },
   "outputs": [
    {
     "name": "stdout",
     "output_type": "stream",
     "text": [
      "+------+-------------------+--------------+\n",
      "|  area|           Rpayment|NumberofHotels|\n",
      "+------+-------------------+--------------+\n",
      "|closed|               cash|            92|\n",
      "|closed|               VISA|            44|\n",
      "|closed|MasterCard-Eurocard|            40|\n",
      "|closed|   American_Express|            24|\n",
      "|closed|   bank_debit_cards|            11|\n",
      "|  open|               cash|            11|\n",
      "|  open|               VISA|             3|\n",
      "|  open|MasterCard-Eurocard|             2|\n",
      "|  open|   bank_debit_cards|             1|\n",
      "|  open|   American_Express|             1|\n",
      "|closed|      Carte_Blanche|             1|\n",
      "+------+-------------------+--------------+\n",
      "\n"
     ]
    }
   ],
   "source": [
    "count_of_hotels.orderBy(count_of_hotels.NumberofHotels.desc()).show()"
   ]
  },
  {
   "cell_type": "markdown",
   "metadata": {
    "colab_type": "text",
    "id": "a26buygdWbXf"
   },
   "source": [
    "#### Left outer"
   ]
  },
  {
   "cell_type": "code",
   "execution_count": 353,
   "metadata": {
    "colab": {
     "base_uri": "https://localhost:8080/",
     "height": 1000
    },
    "colab_type": "code",
    "executionInfo": {
     "elapsed": 186454,
     "status": "ok",
     "timestamp": 1575170928111,
     "user": {
      "displayName": "Thomas K John",
      "photoUrl": "",
      "userId": "10832060721107655920"
     },
     "user_tz": -330
    },
    "id": "eHQKV_BkWbXf",
    "outputId": "fe6688e6-426e-41a9-dc52-cf2b251458af"
   },
   "outputs": [
    {
     "name": "stdout",
     "output_type": "stream",
     "text": [
      "The number of Disintct Cuisines Available at that =   59\n",
      "+-------+----------+------------+--------------------+----------+-----------------+-------------+------+---------+------+-------+---------+\n",
      "|placeID|  latitude|   longitude|                name|     state|          alcohol| smoking_area| price|franchise|  area|placeID| Rcuisine|\n",
      "+-------+----------+------------+--------------------+----------+-----------------+-------------+------+---------+------+-------+---------+\n",
      "| 132560|23.7523041| -99.1669133|  puesto de gorditas|Tamaulipas|No_Alcohol_Served|    permitted|   low|        f|  open| 132560| Regional|\n",
      "| 132572|22.1416471|-100.9927118|        Cafe Chaires|       SLP|No_Alcohol_Served|not permitted|   low|        f|closed| 132572|Cafeteria|\n",
      "| 132583|18.9222904|  -99.234332|    McDonalds Centro|   Morelos|No_Alcohol_Served|not permitted|   low|        t|closed| 132583| American|\n",
      "| 132608|23.7588052| -99.1651297|Hamburguesas La p...|Tamaulipas|No_Alcohol_Served|    permitted|   low|        t|  open| 132608|  Mexican|\n",
      "| 132609|23.7602683| -99.1658646|Pollo_Frito_Bueno...|Tamaulipas|No_Alcohol_Served|not permitted|   low|        t|closed| 132609|Fast_Food|\n",
      "| 132613|23.7529035|  -99.165076|       carnitas_mata|Tamaulipas|No_Alcohol_Served|    permitted|medium|        t|closed| 132613|  Mexican|\n",
      "| 132626|23.7375834| -99.1351318|la perica hamburg...|Tamaulipas|No_Alcohol_Served|         none|medium|        t|closed| 132626|  Italian|\n",
      "| 132630|23.7529305| -99.1644725|          palomo tec|Tamaulipas|No_Alcohol_Served|         none|   low|        f|closed| 132630|  Mexican|\n",
      "| 132654|23.7355234| -99.1295877|Carnitas Mata  Ca...|Tamaulipas|No_Alcohol_Served|         none|   low|        f|closed|   null|     null|\n",
      "| 132660|23.7529428| -99.1646791|carnitas mata cal...|Tamaulipas|No_Alcohol_Served|         none|   low|        f|closed|   null|     null|\n",
      "| 132663|23.7525107| -99.1669536|           tacos abi|Tamaulipas|No_Alcohol_Served|         none|   low|        f|closed| 132663|  Mexican|\n",
      "| 132665|23.7367977| -99.1342413|  TACOS CORRECAMINOS|Tamaulipas|No_Alcohol_Served|         none|   low|        f|closed| 132665|  Mexican|\n",
      "| 132667|23.7526973| -99.1633594|little pizza Emil...|Tamaulipas|No_Alcohol_Served|         none|   low|        t|closed| 132667| Armenian|\n",
      "| 132668| 23.738212| -99.1519547|      TACOS EL GUERO|Tamaulipas|No_Alcohol_Served|         none|   low|        f|closed| 132668|  Mexican|\n",
      "| 132706|23.7292162| -99.1323571|  Gorditas Dona Tota|Tamaulipas|No_Alcohol_Served|not permitted|medium|        t|closed| 132706|  Mexican|\n",
      "| 132723|22.1489337| -101.019845|   Gordas de morales|       SLP|         Full_Bar|      section|medium|        f|closed| 132723|  Mexican|\n",
      "| 132732|23.7543569|  -99.171288|  Taqueria EL amigo |Tamaulipas|No_Alcohol_Served|         none|   low|        f|  open| 132732|  Mexican|\n",
      "| 132733|23.7527071| -99.1625655|       Little Cesarz|Tamaulipas|No_Alcohol_Served|not permitted|medium|        t|closed| 132733| Pizzeria|\n",
      "| 132740|23.7521965| -99.1666317|Carreton de Flaut...|Tamaulipas|No_Alcohol_Served|    permitted|   low|        f|  open| 132740|  Mexican|\n",
      "| 132754|22.1477379|-100.9906163|     Cabana Huasteca|       SLP|No_Alcohol_Served|         none|medium|        f|closed| 132754|  Mexican|\n",
      "+-------+----------+------------+--------------------+----------+-----------------+-------------+------+---------+------+-------+---------+\n",
      "only showing top 20 rows\n",
      "\n",
      "The number of cusines used in the Restaurants\n",
      "+--------------------------------------+\n",
      "| Distinct Cusines  used in Restaurants|\n",
      "+--------------------------------------+\n",
      "|                                    22|\n",
      "+--------------------------------------+\n",
      "\n",
      "The Cusinies available are \n",
      "+----------------+\n",
      "|        Rcuisine|\n",
      "+----------------+\n",
      "|   International|\n",
      "|       Cafeteria|\n",
      "|         Mexican|\n",
      "|          Bakery|\n",
      "|             Bar|\n",
      "|        Armenian|\n",
      "|         Chinese|\n",
      "|            null|\n",
      "|       Fast_Food|\n",
      "|        Japanese|\n",
      "|          Family|\n",
      "|      Vietnamese|\n",
      "|         Burgers|\n",
      "|Breakfast-Brunch|\n",
      "|         Italian|\n",
      "|        Pizzeria|\n",
      "|            Game|\n",
      "|         Seafood|\n",
      "|        Regional|\n",
      "| Bar_Pub_Brewery|\n",
      "+----------------+\n",
      "only showing top 20 rows\n",
      "\n"
     ]
    }
   ],
   "source": [
    "##  Count the number of Cuisines that are used by the Restaurants\n",
    "print(\"The number of Disintct Cuisines Available at that =  \",cuisine.select('Rcuisine').distinct().count())\n",
    "left_join = restoGen.join(cuisine,how = 'left',on=restoGen.placeID==cuisine.placeID)\n",
    "left_join.show()\n",
    "print(\"The number of cusines used in the Restaurants\")\n",
    "left_join.select(countDistinct('Rcuisine').alias(\" Distinct Cusines  used in Restaurants\")).show()\n",
    "print(\"The Cusinies available are \")\n",
    "left_join.select('Rcuisine').distinct().alias(\"Cusines  used in Restaurants\").show()"
   ]
  },
  {
   "cell_type": "code",
   "execution_count": 354,
   "metadata": {
    "colab": {
     "base_uri": "https://localhost:8080/",
     "height": 119
    },
    "colab_type": "code",
    "executionInfo": {
     "elapsed": 187292,
     "status": "ok",
     "timestamp": 1575170928959,
     "user": {
      "displayName": "Thomas K John",
      "photoUrl": "",
      "userId": "10832060721107655920"
     },
     "user_tz": -330
    },
    "id": "OEKkTVlZWbXg",
    "outputId": "1a00aeaa-7fc3-4713-c662-c837bd46f03b"
   },
   "outputs": [
    {
     "name": "stdout",
     "output_type": "stream",
     "text": [
      "+--------------------+-------------+\n",
      "|                name|  parking_lot|\n",
      "+--------------------+-------------+\n",
      "|La Posada del Virrey|valet parking|\n",
      "+--------------------+-------------+\n",
      "\n"
     ]
    }
   ],
   "source": [
    "## Count the distinct restaurant names which has valet parking\n",
    "spark.sql('''select distinct name ,parking_lot from restoGenTable a join parkingTable b where a.placeID = b.placeID and \n",
    "          b.parking_lot = 'valet parking' ''').show()"
   ]
  },
  {
   "cell_type": "markdown",
   "metadata": {
    "colab_type": "text",
    "id": "MiHo6CmTWbXh"
   },
   "source": [
    "#### Right Join"
   ]
  },
  {
   "cell_type": "code",
   "execution_count": 355,
   "metadata": {
    "colab": {
     "base_uri": "https://localhost:8080/",
     "height": 119
    },
    "colab_type": "code",
    "executionInfo": {
     "elapsed": 187682,
     "status": "ok",
     "timestamp": 1575170929362,
     "user": {
      "displayName": "Thomas K John",
      "photoUrl": "",
      "userId": "10832060721107655920"
     },
     "user_tz": -330
    },
    "id": "im3VjHN_WbXh",
    "outputId": "3c8e414e-e6f8-40bc-9b9e-0f67c8ac486a"
   },
   "outputs": [
    {
     "name": "stdout",
     "output_type": "stream",
     "text": [
      "+--------------------+-------------+\n",
      "|                name|  parking_lot|\n",
      "+--------------------+-------------+\n",
      "|La Posada del Virrey|valet parking|\n",
      "+--------------------+-------------+\n",
      "\n"
     ]
    }
   ],
   "source": [
    "right_join = restoGen.join(other=parking,on=parking.placeID==restoGen.placeID,how='right')\n",
    "names_of_restaurants = right_join.select('name','parking_lot').filter(parking.parking_lot=='valet parking')\n",
    "names_of_restaurants.distinct().filter(names_of_restaurants.name!='null').show()"
   ]
  },
  {
   "cell_type": "markdown",
   "metadata": {
    "colab_type": "text",
    "id": "fkLr-WqrWbXi"
   },
   "source": [
    "#### Full outer Join"
   ]
  },
  {
   "cell_type": "code",
   "execution_count": 356,
   "metadata": {
    "colab": {
     "base_uri": "https://localhost:8080/",
     "height": 459
    },
    "colab_type": "code",
    "executionInfo": {
     "elapsed": 188137,
     "status": "ok",
     "timestamp": 1575170929827,
     "user": {
      "displayName": "Thomas K John",
      "photoUrl": "",
      "userId": "10832060721107655920"
     },
     "user_tz": -330
    },
    "id": "ikZ5TFFvWbXi",
    "outputId": "04e9ea3a-7bfd-4495-993d-a6f6bf055135"
   },
   "outputs": [
    {
     "name": "stdout",
     "output_type": "stream",
     "text": [
      "+-------+-----------+--------+\n",
      "|placeID|parking_lot|Rpayment|\n",
      "+-------+-----------+--------+\n",
      "| 133018|       none|    null|\n",
      "| 132478|       none|    null|\n",
      "| 132478|        fee|    null|\n",
      "| 132663|       none|    null|\n",
      "| 135108|       none|    null|\n",
      "| 134979|       none|    null|\n",
      "| 133010|        yes|    null|\n",
      "| 132479|     street|    null|\n",
      "| 132831|       none|    null|\n",
      "| 132292|     public|    null|\n",
      "| 132292|     street|    null|\n",
      "| 133012|       none|    null|\n",
      "| 132661|       none|    null|\n",
      "| 132484|        yes|    null|\n",
      "| 132326|        yes|    null|\n",
      "| 132326|     public|    null|\n",
      "| 132881|       none|    null|\n",
      "| 135019|       none|    null|\n",
      "| 132999|       none|    null|\n",
      "| 132568|       none|    null|\n",
      "+-------+-----------+--------+\n",
      "only showing top 20 rows\n",
      "\n"
     ]
    }
   ],
   "source": [
    "### Identify the placeID where the paymentMode for parking  is not available\n",
    "spark.sql(\"\"\"SELECT parkingTable.placeID,parkingTable.parking_lot,paymentModeTable.Rpayment\n",
    "FROM parkingTable\n",
    "FULL OUTER JOIN paymentModeTable ON parkingTable.placeID=paymentModeTable.placeID WHERE paymentModeTable.Rpayment is NULL\"\"\").show(20)\n"
   ]
  },
  {
   "cell_type": "markdown",
   "metadata": {
    "colab_type": "text",
    "id": "48Ed1xKAWbXj"
   },
   "source": [
    "#### Some more Queries"
   ]
  },
  {
   "cell_type": "markdown",
   "metadata": {
    "colab_type": "text",
    "id": "7fNMptgSWbXl"
   },
   "source": [
    "#### 1. The restaurant names and their corresponding restaurant cuisine styles, price, location details(latitude, longitude) and smoking_area informations only for those which are located in Morelos state and have closed roofing, also order based on price"
   ]
  },
  {
   "cell_type": "code",
   "execution_count": 357,
   "metadata": {
    "colab": {
     "base_uri": "https://localhost:8080/",
     "height": 272
    },
    "colab_type": "code",
    "executionInfo": {
     "elapsed": 189364,
     "status": "ok",
     "timestamp": 1575170931065,
     "user": {
      "displayName": "Thomas K John",
      "photoUrl": "",
      "userId": "10832060721107655920"
     },
     "user_tz": -330
    },
    "id": "Fazj7_z7WbXm",
    "outputId": "228c9560-534f-42fe-831a-cd2e08f99157"
   },
   "outputs": [
    {
     "name": "stdout",
     "output_type": "stream",
     "text": [
      "+----------------------------------------------------+---------------+------+----------+-----------+-------------+\n",
      "|name                                                |Rcuisine       |price |latitude  |longitude  |smoking_area |\n",
      "+----------------------------------------------------+---------------+------+----------+-----------+-------------+\n",
      "|Restaurant Las Mananitas                            |International  |high  |18.928798 |-99.239513 |none         |\n",
      "|Restaurant and Bar and Clothesline Carlos N Charlies|Bar_Pub_Brewery|high  |18.948657 |-99.235361 |section      |\n",
      "|Restaurant and Bar and Clothesline Carlos N Charlies|Bar            |high  |18.948657 |-99.235361 |section      |\n",
      "|Restaurant Bar Coty y Pablo                         |Bar            |low   |18.875011 |-99.159422 |none         |\n",
      "|Cafeteria cenidet                                   |Cafeteria      |low   |18.8760113|-99.2198896|not permitted|\n",
      "|McDonalds Centro                                    |American       |low   |18.9222904|-99.234332 |not permitted|\n",
      "|Subway                                              |Fast_Food      |low   |18.933537 |-99.222497 |not permitted|\n",
      "|Kiku Cuernavaca                                     |Japanese       |medium|18.915421 |-99.184871 |none         |\n",
      "|Mariscos Tia Licha                                  |Family         |medium|18.9257734|-99.2326355|not permitted|\n",
      "|Mikasa                                              |Japanese       |medium|18.9101777|-99.2315438|none         |\n",
      "+----------------------------------------------------+---------------+------+----------+-----------+-------------+\n",
      "\n"
     ]
    }
   ],
   "source": [
    "spark.sql('''select distinct name, Rcuisine, price, latitude, longitude, smoking_area from \n",
    "restoGenTable a join cuisineTable b \n",
    "where a.placeID = b.placeID and a.state = 'Morelos' and a.area = 'closed' \n",
    "order by price''').show(truncate = False)"
   ]
  },
  {
   "cell_type": "markdown",
   "metadata": {
    "colab_type": "text",
    "id": "fNoDkwQVWbXn"
   },
   "source": [
    " #### 2. The distinct count of restaurants(as numberOfHotels) for each payment modes and area and order based on numberOfHotels in descending order. "
   ]
  },
  {
   "cell_type": "code",
   "execution_count": 358,
   "metadata": {
    "colab": {
     "base_uri": "https://localhost:8080/",
     "height": 289
    },
    "colab_type": "code",
    "executionInfo": {
     "elapsed": 190180,
     "status": "ok",
     "timestamp": 1575170931893,
     "user": {
      "displayName": "Thomas K John",
      "photoUrl": "",
      "userId": "10832060721107655920"
     },
     "user_tz": -330
    },
    "id": "dw5qI4p_WbXn",
    "outputId": "0f83e90d-0479-4a04-8afa-4c95e61bebff"
   },
   "outputs": [
    {
     "name": "stdout",
     "output_type": "stream",
     "text": [
      "+--------------+-------------------+------+\n",
      "|numberOfHotels|           Rpayment|  area|\n",
      "+--------------+-------------------+------+\n",
      "|            92|               cash|closed|\n",
      "|            44|               VISA|closed|\n",
      "|            40|MasterCard-Eurocard|closed|\n",
      "|            24|   American_Express|closed|\n",
      "|            11|   bank_debit_cards|closed|\n",
      "|            11|               cash|  open|\n",
      "|             3|               VISA|  open|\n",
      "|             2|MasterCard-Eurocard|  open|\n",
      "|             1|   bank_debit_cards|  open|\n",
      "|             1|      Carte_Blanche|closed|\n",
      "|             1|   American_Express|  open|\n",
      "+--------------+-------------------+------+\n",
      "\n"
     ]
    }
   ],
   "source": [
    "spark.sql('''select distinct count(*) as numberOfHotels, Rpayment, area from\n",
    "restoGenTable a join paymentModeTable b \n",
    "where a.placeID = b.placeID group by Rpayment, area \n",
    "order by numberOfHotels desc''').show()"
   ]
  },
  {
   "cell_type": "markdown",
   "metadata": {
    "colab_type": "raw",
    "id": "HNWWEjddWbXo"
   },
   "source": [
    "spark.sql(\"\"\"SELECT * FROM TableA\n",
    "FULL OUTER JOIN TableB\n",
    "ON TableA.name = TableB.name\"\"\").show()"
   ]
  },
  {
   "cell_type": "markdown",
   "metadata": {
    "colab_type": "raw",
    "id": "n2Dg0CgrWbXo"
   },
   "source": [
    "right_join = ta.join(tb, ta.name == tb.name,how='right') # Could also use 'right_outer'\n",
    "right_join.show()"
   ]
  },
  {
   "cell_type": "markdown",
   "metadata": {
    "colab_type": "raw",
    "id": "I4IEPv_0WbXo"
   },
   "source": [
    "spark.sql(\"\"\"SELECT * FROM TableA\n",
    "RIGHT OUTER JOIN TableB\n",
    "ON TableA.name = TableB.name\"\"\").show()"
   ]
  },
  {
   "cell_type": "markdown",
   "metadata": {
    "colab_type": "raw",
    "id": "46l1MZWqWbXp"
   },
   "source": [
    "left_join = ta.join(tb, ta.name == tb.name,how='left') # Could also use 'left_outer'\n",
    "left_join.show()"
   ]
  },
  {
   "cell_type": "markdown",
   "metadata": {
    "colab_type": "raw",
    "id": "0yNKFAqhWbXp"
   },
   "source": [
    "spark.sql(\"\"\"SELECT * FROM TableA\n",
    "LEFT OUTER JOIN TableB\n",
    "ON TableA.name = TableB.name\"\"\").show()"
   ]
  },
  {
   "cell_type": "markdown",
   "metadata": {
    "colab_type": "text",
    "id": "u1BAd3SHWbXp"
   },
   "source": [
    "#### Natural Joins\n",
    "Natural joins make implicit guesses at the columns on which you would like to join. \n",
    "It finds matching columns and returns the results. \n",
    "Left, right, and outer natural joins are all supported.\n",
    "\n",
    "WARNING:\n",
    "Implicit is always dangerous! \n",
    "The following query will give us incorrect results because \n",
    "the two DataFrames/tables share a column name (id), but it means different things in the datasets. \n",
    "You should always use this join with caution."
   ]
  },
  {
   "cell_type": "code",
   "execution_count": 359,
   "metadata": {
    "colab": {
     "base_uri": "https://localhost:8080/",
     "height": 289
    },
    "colab_type": "code",
    "executionInfo": {
     "elapsed": 190177,
     "status": "ok",
     "timestamp": 1575170931900,
     "user": {
      "displayName": "Thomas K John",
      "photoUrl": "",
      "userId": "10832060721107655920"
     },
     "user_tz": -330
    },
    "id": "u32erlO_WbXp",
    "outputId": "2868a007-ec7b-469d-b4ec-622b4fafa0ca",
    "scrolled": true
   },
   "outputs": [
    {
     "name": "stdout",
     "output_type": "stream",
     "text": [
      "+-------+----------+------------+--------------------+-------+-----------------+-------------+------+---------+------+-------------------+\n",
      "|placeID|  latitude|   longitude|                name|  state|          alcohol| smoking_area| price|franchise|  area|           Rpayment|\n",
      "+-------+----------+------------+--------------------+-------+-----------------+-------------+------+---------+------+-------------------+\n",
      "| 135106|22.1497088|-100.9760928|El Rinc�n de San ...|    SLP|        Wine-Beer|  only at bar|medium|        f|  open|               cash|\n",
      "| 135106|22.1497088|-100.9760928|El Rinc�n de San ...|    SLP|        Wine-Beer|  only at bar|medium|        f|  open|               VISA|\n",
      "| 135106|22.1497088|-100.9760928|El Rinc�n de San ...|    SLP|        Wine-Beer|  only at bar|medium|        f|  open|MasterCard-Eurocard|\n",
      "| 135088|18.8760113| -99.2198896|   Cafeteria cenidet|Morelos|No_Alcohol_Served|not permitted|   low|        f|closed|               cash|\n",
      "| 135086| 22.141421| -101.013955|Mcdonalds Parque ...|    SLP|No_Alcohol_Served|not permitted|medium|        t|closed|               cash|\n",
      "| 135086| 22.141421| -101.013955|Mcdonalds Parque ...|    SLP|No_Alcohol_Served|not permitted|medium|        t|closed|               VISA|\n",
      "| 135086| 22.141421| -101.013955|Mcdonalds Parque ...|    SLP|No_Alcohol_Served|not permitted|medium|        t|closed|MasterCard-Eurocard|\n",
      "| 135085| 22.150802|  -100.98268|Tortas Locas Hipo...|    SLP|No_Alcohol_Served|not permitted|medium|        f|closed|               cash|\n",
      "| 135082| 22.151448| -100.915099|la Estrella de Dimas|    SLP|No_Alcohol_Served|         none|medium|        f|closed|               cash|\n",
      "| 135081| 22.164842| -100.960493|             El Club|    SLP|No_Alcohol_Served|         none|medium|        f|closed|               cash|\n",
      "+-------+----------+------------+--------------------+-------+-----------------+-------------+------+---------+------+-------------------+\n",
      "only showing top 10 rows\n",
      "\n"
     ]
    }
   ],
   "source": [
    "#spark.sql(\"\"\"SELECT * FROM TableA NATURAL JOIN TableB\"\"\").show()\n",
    "\n",
    "spark.sql('''select  * from restoGenTable a NATURAL JOIN paymentModeTable b ''').show(10)"
   ]
  },
  {
   "cell_type": "markdown",
   "metadata": {
    "colab_type": "text",
    "id": "VzJVNcldWbXq"
   },
   "source": [
    "#### Cross (Cartesian) Joins\n",
    "Cross-joins in simplest terms are inner joins that do not specify a predicate. \n",
    "Cross joins will join every single row in the left DataFrame to ever single row in the right DataFrame. \n",
    "This will cause an absolute explosion in the number of rows contained in the resulting DataFrame. \n",
    "If you have 1,000 rows in each DataFrame, the cross-join of these will result in 1,000,000 (1,000 x 1,000) rows. \n",
    "For this reason, you must very explicitly state that you want a cross-join by using the cross join keyword:"
   ]
  },
  {
   "cell_type": "markdown",
   "metadata": {
    "colab_type": "raw",
    "id": "OQqbaBI5WbXq",
    "scrolled": true
   },
   "source": [
    "tableA.crossJoin(tableB).show()"
   ]
  },
  {
   "cell_type": "markdown",
   "metadata": {
    "colab_type": "raw",
    "id": "IS5HGVpRWbXq",
    "scrolled": true
   },
   "source": [
    "spark.sql(\"\"\"SELECT * FROM TableA CROSS JOIN TableB\"\"\").show()"
   ]
  },
  {
   "cell_type": "markdown",
   "metadata": {
    "colab_type": "text",
    "id": "jubMjq3IWbXq"
   },
   "source": [
    "#### Random Samples"
   ]
  },
  {
   "cell_type": "code",
   "execution_count": 360,
   "metadata": {
    "colab": {
     "base_uri": "https://localhost:8080/",
     "height": 54
    },
    "colab_type": "code",
    "executionInfo": {
     "elapsed": 193994,
     "status": "ok",
     "timestamp": 1575170935728,
     "user": {
      "displayName": "Thomas K John",
      "photoUrl": "",
      "userId": "10832060721107655920"
     },
     "user_tz": -330
    },
    "id": "f-EYqBFtWbXq",
    "outputId": "fca83c72-ee97-47f1-a333-14f11d24d91c"
   },
   "outputs": [
    {
     "name": "stdout",
     "output_type": "stream",
     "text": [
      "76916 76981\n"
     ]
    }
   ],
   "source": [
    "## To create a sample DataFrame from the base DataFrame\n",
    "## Use sample operation to take sample of a DataFrame. \n",
    "## The sample method on DataFrame will return a DataFrame containing the sample of base DataFrame. \n",
    "## The sample method takes 3 parameters.\n",
    "## withReplacement = True or False to select a observation with or without replacement.\n",
    "## fraction = x, where x = .5 shows that we want to have 50% data in sample DataFrame.\n",
    "## seed to reproduce the result\n",
    "sampleDF1 = trainDF.sample(False, 0.2, 1234)\n",
    "sampleDF2 = trainDF.sample(False, 0.2, 4321)\n",
    "print(sampleDF1.count(), sampleDF2.count())"
   ]
  },
  {
   "cell_type": "markdown",
   "metadata": {
    "colab_type": "text",
    "id": "21t00NqkWbXr"
   },
   "source": [
    "#### Map Transformation"
   ]
  },
  {
   "cell_type": "code",
   "execution_count": 361,
   "metadata": {
    "colab": {
     "base_uri": "https://localhost:8080/",
     "height": 122
    },
    "colab_type": "code",
    "executionInfo": {
     "elapsed": 195236,
     "status": "ok",
     "timestamp": 1575170937010,
     "user": {
      "displayName": "Thomas K John",
      "photoUrl": "",
      "userId": "10832060721107655920"
     },
     "user_tz": -330
    },
    "id": "19aDoReOWbXr",
    "outputId": "60590555-e431-4917-9d93-204f48056258",
    "scrolled": true
   },
   "outputs": [
    {
     "data": {
      "text/plain": [
       "[(Row(User_ID='1000001'), 1),\n",
       " (Row(User_ID='1000001'), 1),\n",
       " (Row(User_ID='1000001'), 1),\n",
       " (Row(User_ID='1000001'), 1),\n",
       " (Row(User_ID='1000001'), 1)]"
      ]
     },
     "execution_count": 361,
     "metadata": {
      "tags": []
     },
     "output_type": "execute_result"
    }
   ],
   "source": [
    "## To apply map operation on DataFrame columns\n",
    "## Apply a function on each row of DataFrame using map operation. \n",
    "## After applying this function, we get the result in the form of RDD. \n",
    "## Apply a map operation on User_ID column of train and print the first 5 elements of mapped RDD(x,1) \n",
    "## ----- Applying lambda function.\n",
    "\n",
    "trainDF.select('User_ID').rdd.map(lambda x:(x,1)).take(5)"
   ]
  },
  {
   "cell_type": "markdown",
   "metadata": {
    "colab_type": "text",
    "id": "XxICvJ9NWbXs"
   },
   "source": [
    "*__Prior to Spark 2.0, spark_df.map would alias to spark_df.rdd.map(). \n",
    "With Spark 2.0, you must explicitly call .rdd first.__*"
   ]
  },
  {
   "cell_type": "markdown",
   "metadata": {
    "colab_type": "text",
    "id": "xMLPBzboWbXt"
   },
   "source": [
    "#### Sorting Rows"
   ]
  },
  {
   "cell_type": "code",
   "execution_count": 362,
   "metadata": {
    "colab": {
     "base_uri": "https://localhost:8080/",
     "height": 224
    },
    "colab_type": "code",
    "executionInfo": {
     "elapsed": 197241,
     "status": "ok",
     "timestamp": 1575170939023,
     "user": {
      "displayName": "Thomas K John",
      "photoUrl": "",
      "userId": "10832060721107655920"
     },
     "user_tz": -330
    },
    "id": "mtSC8ZVzWbXt",
    "outputId": "900276c5-bee9-49fc-a799-e5a5fffa4dee",
    "scrolled": true
   },
   "outputs": [
    {
     "name": "stdout",
     "output_type": "stream",
     "text": [
      "+-------+----------+------+-----+----------+-------------+--------------------------+--------------+------------------+------------------+------------------+--------+\n",
      "|User_ID|Product_ID|Gender|  Age|Occupation|City_Category|Stay_In_Current_City_Years|Marital_Status|Product_Category_1|Product_Category_2|Product_Category_3|Purchase|\n",
      "+-------+----------+------+-----+----------+-------------+--------------------------+--------------+------------------+------------------+------------------+--------+\n",
      "|1000264| P00144042|     M|36-45|         0|            B|                         1|             1|                 2|                 3|                 4|    9999|\n",
      "|1000181| P00003242|     M|18-25|        17|            C|                         1|             0|                 8|                15|              null|    9999|\n",
      "|1000058| P00189642|     M|26-35|         2|            B|                         3|             0|                 8|                13|              null|    9999|\n",
      "|1000195| P00001642|     M|26-35|        12|            B|                        4+|             1|                 8|                16|              null|    9999|\n",
      "|1000118| P00111542|     M|36-45|        17|            C|                        4+|             0|                 2|                17|              null|    9999|\n",
      "+-------+----------+------+-----+----------+-------------+--------------------------+--------------+------------------+------------------+------------------+--------+\n",
      "only showing top 5 rows\n",
      "\n"
     ]
    }
   ],
   "source": [
    "## To sort the DataFrame based on column(s)\n",
    "## Use orderBy operation on DataFrame to get sorted output based on some column. \n",
    "## The orderBy operation take two arguments.\n",
    "## List of columns.\n",
    "## ascending = True or False for getting the results in ascending or descending order(list in case of more than two columns )\n",
    "## Sort the train DataFrame based on ‘Purchase’.\n",
    "trainDF.orderBy(trainDF.Purchase.desc()).show(5)"
   ]
  },
  {
   "cell_type": "markdown",
   "metadata": {
    "colab_type": "text",
    "id": "lirNzd-nWbXv"
   },
   "source": [
    "#### Repartition and Coalesce\n",
    "Another important optimization opportunity is to partition the data according to some frequently filtered columns\n",
    "which controls the physical layout of data across the cluster including the partitioning scheme and the number of\n",
    "partitions.\n",
    "\n",
    "Repartition will incur a full shuffle of the data, regardless of whether or not one is necessary. This means that you should typically only repartition when the future number of partitions is greater than your current number of\n",
    "partitions or when you are looking to partition by a set of columns."
   ]
  },
  {
   "cell_type": "code",
   "execution_count": 363,
   "metadata": {
    "colab": {
     "base_uri": "https://localhost:8080/",
     "height": 34
    },
    "colab_type": "code",
    "executionInfo": {
     "elapsed": 197234,
     "status": "ok",
     "timestamp": 1575170939025,
     "user": {
      "displayName": "Thomas K John",
      "photoUrl": "",
      "userId": "10832060721107655920"
     },
     "user_tz": -330
    },
    "id": "qlqiawC_WbXv",
    "outputId": "929e951b-fb0b-4490-faab-301890402f7a"
   },
   "outputs": [
    {
     "data": {
      "text/plain": [
       "2"
      ]
     },
     "execution_count": 363,
     "metadata": {
      "tags": []
     },
     "output_type": "execute_result"
    }
   ],
   "source": [
    "## Find existing partitions count\n",
    "trainDF.rdd.getNumPartitions()\n",
    "## Do the repartition\n",
    "## trainDF.repartition(5)\n",
    "\n",
    "## Repartition based on a column\n",
    "## If we know we are going to be filtering by a certain column often, \n",
    "## it can be worth repartitioning based on that column.\n",
    "## trainDF.repartition(col(“Purchase”))\n",
    "\n",
    "## We can optionally specify the number of partitions we would like too.\n",
    "## trainDF.repartition(5, col(“Purchase”))\n",
    "\n",
    "## Coalesce on the other hand will not incur a full shuffle and will try to combine partitions. \n",
    "## This operation will shuffle our data into 5 partitions based on the Purchase, \n",
    "## then coalesce them (without a full shuffle).\n",
    "## trainDF.repartition(5, col(\"Purchase\")).coalesce(2)"
   ]
  },
  {
   "cell_type": "markdown",
   "metadata": {
    "colab_type": "text",
    "id": "jn9pTX6hWbXv"
   },
   "source": [
    "### Miscellaneous"
   ]
  },
  {
   "cell_type": "markdown",
   "metadata": {
    "colab_type": "text",
    "id": "S2ClhqdmWbXv"
   },
   "source": [
    "#### Unions"
   ]
  },
  {
   "cell_type": "code",
   "execution_count": 364,
   "metadata": {
    "colab": {
     "base_uri": "https://localhost:8080/",
     "height": 836
    },
    "colab_type": "code",
    "executionInfo": {
     "elapsed": 197603,
     "status": "ok",
     "timestamp": 1575170939405,
     "user": {
      "displayName": "Thomas K John",
      "photoUrl": "",
      "userId": "10832060721107655920"
     },
     "user_tz": -330
    },
    "id": "mze5-1UvWbXv",
    "outputId": "10f3aa87-ad2d-46c2-8a0f-4c14a5acffd3"
   },
   "outputs": [
    {
     "name": "stdout",
     "output_type": "stream",
     "text": [
      "Before\n",
      "DataFrame-1\n",
      "+---+-------+---+\n",
      "| id|   name|age|\n",
      "+---+-------+---+\n",
      "|  1|   Alex| 25|\n",
      "|  3|  Carol| 53|\n",
      "|  5|  Emily| 25|\n",
      "|  7|Gabriel| 32|\n",
      "|  9|   Ilma| 35|\n",
      "| 11|    Kim| 45|\n",
      "+---+-------+---+\n",
      "\n",
      "None\n",
      "DataFrame-2\n",
      "+---+------+---+\n",
      "| id|  name|age|\n",
      "+---+------+---+\n",
      "|  2|   Ben| 66|\n",
      "|  4|Daniel| 28|\n",
      "|  6| Frank| 64|\n",
      "|  8|Harley| 29|\n",
      "| 10|  Jack| 35|\n",
      "| 12|Litmya| 45|\n",
      "+---+------+---+\n",
      "\n",
      "None\n",
      "After\n",
      "DataFrame-1\n",
      "+---+-------+---+\n",
      "| id|   name|age|\n",
      "+---+-------+---+\n",
      "|  1|   Alex| 25|\n",
      "|  3|  Carol| 53|\n",
      "|  5|  Emily| 25|\n",
      "|  7|Gabriel| 32|\n",
      "|  9|   Ilma| 35|\n",
      "| 11|    Kim| 45|\n",
      "|  2|    Ben| 66|\n",
      "|  4| Daniel| 28|\n",
      "|  6|  Frank| 64|\n",
      "|  8| Harley| 29|\n",
      "| 10|   Jack| 35|\n",
      "| 12| Litmya| 45|\n",
      "+---+-------+---+\n",
      "\n",
      "None\n"
     ]
    }
   ],
   "source": [
    "df1 = spark.createDataFrame([[1, 'Alex', 25],[3, 'Carol', 53],[5, 'Emily', 25],[7, 'Gabriel', 32],[9, 'Ilma', 35],[11, 'Kim', 45]], ['id', 'name', 'age'])\n",
    "df2 = spark.createDataFrame([[2, 'Ben', 66],[4, 'Daniel', 28],[6, 'Frank', 64],[8, 'Harley', 29],[10, 'Jack', 35],[12, 'Litmya', 45]], ['id', 'name', 'age'])\n",
    "print(\"Before\")\n",
    "print(\"DataFrame-1\")\n",
    "print(df1.show())\n",
    "print(\"DataFrame-2\")\n",
    "print(df2.show())\n",
    "print(\"After\")\n",
    "df1 = df1.union(df2)\n",
    "print(\"DataFrame-1\")\n",
    "print(df1.show())"
   ]
  },
  {
   "cell_type": "markdown",
   "metadata": {
    "colab_type": "text",
    "id": "SZ1YXE9IWbXx"
   },
   "source": [
    "#### Unions and condtional append"
   ]
  },
  {
   "cell_type": "code",
   "execution_count": 365,
   "metadata": {
    "colab": {
     "base_uri": "https://localhost:8080/",
     "height": 360
    },
    "colab_type": "code",
    "executionInfo": {
     "elapsed": 197597,
     "status": "ok",
     "timestamp": 1575170939407,
     "user": {
      "displayName": "Thomas K John",
      "photoUrl": "",
      "userId": "10832060721107655920"
     },
     "user_tz": -330
    },
    "id": "IXOx45r9WbXx",
    "outputId": "14afb73d-b587-466c-f537-790d8d4a8a0b"
   },
   "outputs": [
    {
     "name": "stdout",
     "output_type": "stream",
     "text": [
      "+---+-------+---+\n",
      "| id|   name|age|\n",
      "+---+-------+---+\n",
      "|  1|   Alex| 25|\n",
      "|  3|  Carol| 53|\n",
      "|  5|  Emily| 25|\n",
      "|  7|Gabriel| 32|\n",
      "|  9|   Ilma| 35|\n",
      "| 11|    Kim| 45|\n",
      "|  4| Daniel| 28|\n",
      "|  8| Harley| 29|\n",
      "| 10|   Jack| 35|\n",
      "| 12| Litmya| 45|\n",
      "|  4| Daniel| 28|\n",
      "|  8| Harley| 29|\n",
      "| 10|   Jack| 35|\n",
      "| 12| Litmya| 45|\n",
      "+---+-------+---+\n",
      "\n"
     ]
    }
   ],
   "source": [
    "df1.union(df2).where(\"age < 60\").show()"
   ]
  },
  {
   "cell_type": "markdown",
   "metadata": {
    "colab_type": "text",
    "id": "QhNqkKQKWbXx"
   },
   "source": [
    "#### String Manipulations"
   ]
  },
  {
   "cell_type": "code",
   "execution_count": 366,
   "metadata": {
    "colab": {
     "base_uri": "https://localhost:8080/",
     "height": 173
    },
    "colab_type": "code",
    "executionInfo": {
     "elapsed": 200053,
     "status": "ok",
     "timestamp": 1575170941871,
     "user": {
      "displayName": "Thomas K John",
      "photoUrl": "",
      "userId": "10832060721107655920"
     },
     "user_tz": -330
    },
    "id": "9Z1iMZYdWbXx",
    "outputId": "7c79693d-69ff-422c-862d-1ccca845cd29"
   },
   "outputs": [
    {
     "name": "stdout",
     "output_type": "stream",
     "text": [
      "+------+------+-----+-------+-------+\n",
      "|ltrim |rtrim |trim |lp     |rp     |\n",
      "+------+------+-----+-------+-------+\n",
      "|HELLO | HELLO|HELLO|  HELLO|HELLO  |\n",
      "|HELLO | HELLO|HELLO|  HELLO|HELLO  |\n",
      "+------+------+-----+-------+-------+\n",
      "only showing top 2 rows\n",
      "\n"
     ]
    }
   ],
   "source": [
    "from pyspark.sql.functions import lit, ltrim, rtrim, rpad, lpad, trim\n",
    "\n",
    "trainDF.select(\n",
    "ltrim(lit(\" HELLO \")).alias(\"ltrim\"),\n",
    "rtrim(lit(\" HELLO \")).alias(\"rtrim\"),\n",
    "trim(lit(\" HELLO \")).alias(\"trim\"),\n",
    "lpad(lit(\"HELLO\"), 7, \" \").alias(\"lp\"),\n",
    "rpad(lit(\"HELLO\"), 7, \" \").alias(\"rp\"))\\\n",
    ".show(2,truncate=False)"
   ]
  },
  {
   "cell_type": "code",
   "execution_count": 367,
   "metadata": {
    "colab": {
     "base_uri": "https://localhost:8080/",
     "height": 173
    },
    "colab_type": "code",
    "executionInfo": {
     "elapsed": 200427,
     "status": "ok",
     "timestamp": 1575170942254,
     "user": {
      "displayName": "Thomas K John",
      "photoUrl": "",
      "userId": "10832060721107655920"
     },
     "user_tz": -330
    },
    "id": "pSkSlopUWbXy",
    "outputId": "21405db0-c384-41f0-ee18-e397f427efe6"
   },
   "outputs": [
    {
     "name": "stdout",
     "output_type": "stream",
     "text": [
      "+----------+----------+---------+---+----------+\n",
      "|     ltrim|     rtrim|     trim| lp|        rp|\n",
      "+----------+----------+---------+---+----------+\n",
      "|HELLLOOOO | HELLLOOOO|HELLLOOOO|HEL|HELLOOOO  |\n",
      "|HELLLOOOO | HELLLOOOO|HELLLOOOO|HEL|HELLOOOO  |\n",
      "+----------+----------+---------+---+----------+\n",
      "only showing top 2 rows\n",
      "\n"
     ]
    }
   ],
   "source": [
    "spark.sql(\"\"\"SELECT\n",
    "ltrim(' HELLLOOOO ') AS ltrim,\n",
    "rtrim(' HELLLOOOO ') AS rtrim,\n",
    "trim(' HELLLOOOO ') AS trim,\n",
    "lpad('HELLOOOO ', 3, ' ') AS lp,\n",
    "rpad('HELLOOOO ', 10, ' ') AS rp\n",
    "FROM\n",
    "trainDFTable\"\"\").show(2)"
   ]
  },
  {
   "cell_type": "markdown",
   "metadata": {
    "colab_type": "text",
    "id": "jxxprTW1WbXz"
   },
   "source": [
    "#### Regular Expressions"
   ]
  },
  {
   "cell_type": "code",
   "execution_count": 368,
   "metadata": {
    "colab": {
     "base_uri": "https://localhost:8080/",
     "height": 309
    },
    "colab_type": "code",
    "executionInfo": {
     "elapsed": 202043,
     "status": "ok",
     "timestamp": 1575170943878,
     "user": {
      "displayName": "Thomas K John",
      "photoUrl": "",
      "userId": "10832060721107655920"
     },
     "user_tz": -330
    },
    "id": "N-n9j4_PWbXz",
    "outputId": "d0c9cc47-3cab-47e5-bd21-86d75d69340f"
   },
   "outputs": [
    {
     "name": "stdout",
     "output_type": "stream",
     "text": [
      "+--------------+------+\n",
      "| Gender_DECODE|Gender|\n",
      "+--------------+------+\n",
      "|MALE_OR_FEMALE|     F|\n",
      "|MALE_OR_FEMALE|     F|\n",
      "|MALE_OR_FEMALE|     F|\n",
      "|MALE_OR_FEMALE|     F|\n",
      "|MALE_OR_FEMALE|     F|\n",
      "|MALE_OR_FEMALE|     F|\n",
      "|MALE_OR_FEMALE|     F|\n",
      "|MALE_OR_FEMALE|     F|\n",
      "|MALE_OR_FEMALE|     F|\n",
      "|MALE_OR_FEMALE|     F|\n",
      "+--------------+------+\n",
      "only showing top 10 rows\n",
      "\n"
     ]
    }
   ],
   "source": [
    "from pyspark.sql.functions import regexp_replace\n",
    "regex_string = \"F|M\"\n",
    "\n",
    "X = trainDF.select(\n",
    "regexp_replace(col(\"Gender\"), regex_string, \"MALE_OR_FEMALE\")\n",
    ".alias(\"Gender_DECODE\"),\n",
    "col(\"Gender\"))\n",
    "X.show(10)"
   ]
  },
  {
   "cell_type": "code",
   "execution_count": 369,
   "metadata": {
    "colab": {
     "base_uri": "https://localhost:8080/",
     "height": 173
    },
    "colab_type": "code",
    "executionInfo": {
     "elapsed": 203041,
     "status": "ok",
     "timestamp": 1575170944884,
     "user": {
      "displayName": "Thomas K John",
      "photoUrl": "",
      "userId": "10832060721107655920"
     },
     "user_tz": -330
    },
    "id": "mE4lb30UWbXz",
    "outputId": "f99ed9dd-ad1c-430e-c3b3-6ab8edfe7908"
   },
   "outputs": [
    {
     "name": "stdout",
     "output_type": "stream",
     "text": [
      "+--------------+------+\n",
      "| Gender_DECODE|Gender|\n",
      "+--------------+------+\n",
      "|MALE_OR_FEMALE|     F|\n",
      "|MALE_OR_FEMALE|     F|\n",
      "+--------------+------+\n",
      "only showing top 2 rows\n",
      "\n"
     ]
    }
   ],
   "source": [
    "spark.sql(\"\"\"\n",
    "SELECT\n",
    "regexp_replace(Gender, 'F|M', 'MALE_OR_FEMALE') as\n",
    "Gender_DECODE,\n",
    "Gender\n",
    "FROM\n",
    "trainDFTable\n",
    "\"\"\").show(2)"
   ]
  },
  {
   "cell_type": "code",
   "execution_count": 370,
   "metadata": {
    "colab": {
     "base_uri": "https://localhost:8080/",
     "height": 309
    },
    "colab_type": "code",
    "executionInfo": {
     "elapsed": 204656,
     "status": "ok",
     "timestamp": 1575170946507,
     "user": {
      "displayName": "Thomas K John",
      "photoUrl": "",
      "userId": "10832060721107655920"
     },
     "user_tz": -330
    },
    "id": "IiQO8cWOWbX0",
    "outputId": "b17cd213-8357-4f38-b1af-9ed99addb70f"
   },
   "outputs": [
    {
     "name": "stdout",
     "output_type": "stream",
     "text": [
      "+-------------------------+------+\n",
      "|translate(Gender, FM, 01)|Gender|\n",
      "+-------------------------+------+\n",
      "|                        0|     F|\n",
      "|                        0|     F|\n",
      "|                        0|     F|\n",
      "|                        0|     F|\n",
      "|                        0|     F|\n",
      "|                        0|     F|\n",
      "|                        0|     F|\n",
      "|                        0|     F|\n",
      "|                        0|     F|\n",
      "|                        0|     F|\n",
      "+-------------------------+------+\n",
      "only showing top 10 rows\n",
      "\n"
     ]
    }
   ],
   "source": [
    "from pyspark.sql.functions import translate\n",
    "trainDF.select(\n",
    "translate(col(\"Gender\"), \"FM\", \"01\"),\n",
    "col(\"Gender\"))\\\n",
    ".show(10)"
   ]
  },
  {
   "cell_type": "code",
   "execution_count": 371,
   "metadata": {
    "colab": {
     "base_uri": "https://localhost:8080/",
     "height": 309
    },
    "colab_type": "code",
    "executionInfo": {
     "elapsed": 205725,
     "status": "ok",
     "timestamp": 1575170947584,
     "user": {
      "displayName": "Thomas K John",
      "photoUrl": "",
      "userId": "10832060721107655920"
     },
     "user_tz": -330
    },
    "id": "TRAMerowWbX1",
    "outputId": "70f7931e-a34a-4ef3-ebaa-71213bacf937"
   },
   "outputs": [
    {
     "name": "stdout",
     "output_type": "stream",
     "text": [
      "+-------------------------+------+\n",
      "|translate(Gender, FM, 01)|Gender|\n",
      "+-------------------------+------+\n",
      "|                        0|     F|\n",
      "|                        0|     F|\n",
      "|                        0|     F|\n",
      "|                        0|     F|\n",
      "|                        0|     F|\n",
      "|                        0|     F|\n",
      "|                        0|     F|\n",
      "|                        0|     F|\n",
      "|                        0|     F|\n",
      "|                        0|     F|\n",
      "+-------------------------+------+\n",
      "only showing top 10 rows\n",
      "\n"
     ]
    }
   ],
   "source": [
    "spark.sql(\"\"\"\n",
    "SELECT\n",
    "translate(Gender, 'FM', '01'),\n",
    "Gender\n",
    "FROM\n",
    "trainDFTable\n",
    "\"\"\").show(10)"
   ]
  },
  {
   "cell_type": "markdown",
   "metadata": {
    "colab_type": "text",
    "id": "xCE_XuisWbX2"
   },
   "source": [
    "#### Working with Date and Time"
   ]
  },
  {
   "cell_type": "code",
   "execution_count": 372,
   "metadata": {
    "colab": {
     "base_uri": "https://localhost:8080/",
     "height": 292
    },
    "colab_type": "code",
    "executionInfo": {
     "elapsed": 205717,
     "status": "ok",
     "timestamp": 1575170947585,
     "user": {
      "displayName": "Thomas K John",
      "photoUrl": "",
      "userId": "10832060721107655920"
     },
     "user_tz": -330
    },
    "id": "-6CtLNcqWbX2",
    "outputId": "97c7c380-cc5f-44a9-c8b3-51086995ee83"
   },
   "outputs": [
    {
     "name": "stdout",
     "output_type": "stream",
     "text": [
      "+---+----------+-----------------------+\n",
      "|id |today     |now                    |\n",
      "+---+----------+-----------------------+\n",
      "|0  |2019-12-01|2019-12-01 03:29:06.722|\n",
      "|1  |2019-12-01|2019-12-01 03:29:06.722|\n",
      "|2  |2019-12-01|2019-12-01 03:29:06.722|\n",
      "|3  |2019-12-01|2019-12-01 03:29:06.722|\n",
      "|4  |2019-12-01|2019-12-01 03:29:06.722|\n",
      "|5  |2019-12-01|2019-12-01 03:29:06.722|\n",
      "|6  |2019-12-01|2019-12-01 03:29:06.722|\n",
      "|7  |2019-12-01|2019-12-01 03:29:06.722|\n",
      "|8  |2019-12-01|2019-12-01 03:29:06.722|\n",
      "|9  |2019-12-01|2019-12-01 03:29:06.722|\n",
      "+---+----------+-----------------------+\n",
      "\n"
     ]
    }
   ],
   "source": [
    "from pyspark.sql.functions import current_date, current_timestamp\n",
    "dateDF = spark.range(10)\\\n",
    ".withColumn(\"today\", current_date())\\\n",
    ".withColumn(\"now\", current_timestamp())\n",
    "dateDF.show(truncate = False)"
   ]
  },
  {
   "cell_type": "code",
   "execution_count": 373,
   "metadata": {
    "colab": {
     "base_uri": "https://localhost:8080/",
     "height": 122
    },
    "colab_type": "code",
    "executionInfo": {
     "elapsed": 205708,
     "status": "ok",
     "timestamp": 1575170947585,
     "user": {
      "displayName": "Thomas K John",
      "photoUrl": "",
      "userId": "10832060721107655920"
     },
     "user_tz": -330
    },
    "id": "HVhaj20mWbX2",
    "outputId": "e452ecc8-618c-4315-b2d0-5f0d5ab2e191"
   },
   "outputs": [
    {
     "name": "stdout",
     "output_type": "stream",
     "text": [
      "root\n",
      " |-- id: long (nullable = false)\n",
      " |-- today: date (nullable = false)\n",
      " |-- now: timestamp (nullable = false)\n",
      "\n"
     ]
    }
   ],
   "source": [
    "dateDF.createOrReplaceTempView(\"dateDFTable\")\n",
    "dateDF.printSchema()"
   ]
  },
  {
   "cell_type": "code",
   "execution_count": 374,
   "metadata": {
    "colab": {
     "base_uri": "https://localhost:8080/",
     "height": 156
    },
    "colab_type": "code",
    "executionInfo": {
     "elapsed": 205701,
     "status": "ok",
     "timestamp": 1575170947586,
     "user": {
      "displayName": "Thomas K John",
      "photoUrl": "",
      "userId": "10832060721107655920"
     },
     "user_tz": -330
    },
    "id": "_vmXZ7__WbX2",
    "outputId": "07b6be61-f868-471a-e840-741a1b759e86"
   },
   "outputs": [
    {
     "name": "stdout",
     "output_type": "stream",
     "text": [
      "+-------------------+-------------------+\n",
      "|date_sub(today, 10)|date_add(today, 10)|\n",
      "+-------------------+-------------------+\n",
      "|         2019-11-21|         2019-12-11|\n",
      "+-------------------+-------------------+\n",
      "only showing top 1 row\n",
      "\n"
     ]
    }
   ],
   "source": [
    "from pyspark.sql.functions import date_add, date_sub\n",
    "dateDF.select(date_sub(col(\"today\"), 10),date_add(col(\"today\"), 10)).show(1)"
   ]
  },
  {
   "cell_type": "code",
   "execution_count": 375,
   "metadata": {
    "colab": {
     "base_uri": "https://localhost:8080/",
     "height": 156
    },
    "colab_type": "code",
    "executionInfo": {
     "elapsed": 205693,
     "status": "ok",
     "timestamp": 1575170947587,
     "user": {
      "displayName": "Thomas K John",
      "photoUrl": "",
      "userId": "10832060721107655920"
     },
     "user_tz": -330
    },
    "id": "w6hERSaDWbX6",
    "outputId": "2681ebd5-ac8e-4925-c334-4ab9e9c6dcee"
   },
   "outputs": [
    {
     "name": "stdout",
     "output_type": "stream",
     "text": [
      "+-------------------+-------------------+\n",
      "|date_sub(today, 10)|date_add(today, 10)|\n",
      "+-------------------+-------------------+\n",
      "|         2019-11-21|         2019-12-11|\n",
      "+-------------------+-------------------+\n",
      "only showing top 1 row\n",
      "\n"
     ]
    }
   ],
   "source": [
    "spark.sql(\"\"\"\n",
    "SELECT\n",
    "date_sub(today, 10),\n",
    "date_add(today, 10)\n",
    "FROM\n",
    "dateDFTable\n",
    "\"\"\").show(1)"
   ]
  },
  {
   "cell_type": "code",
   "execution_count": 376,
   "metadata": {
    "colab": {
     "base_uri": "https://localhost:8080/",
     "height": 156
    },
    "colab_type": "code",
    "executionInfo": {
     "elapsed": 205684,
     "status": "ok",
     "timestamp": 1575170947587,
     "user": {
      "displayName": "Thomas K John",
      "photoUrl": "",
      "userId": "10832060721107655920"
     },
     "user_tz": -330
    },
    "id": "jp1FZFCBWbX6",
    "outputId": "66f8e259-aae8-474b-cd85-79c0185b5167"
   },
   "outputs": [
    {
     "name": "stdout",
     "output_type": "stream",
     "text": [
      "+----------------------+\n",
      "|datediff_today_weekago|\n",
      "+----------------------+\n",
      "|                    -7|\n",
      "+----------------------+\n",
      "only showing top 1 row\n",
      "\n"
     ]
    }
   ],
   "source": [
    "from pyspark.sql.functions import datediff, months_between, to_date\n",
    "dateDF\\\n",
    ".withColumn(\"week_ago\", date_sub(col(\"today\"), 7))\\\n",
    ".select(datediff(col(\"week_ago\"), col(\"today\")).alias('datediff_today_weekago'))\\\n",
    ".show(1)"
   ]
  },
  {
   "cell_type": "code",
   "execution_count": 377,
   "metadata": {
    "colab": {
     "base_uri": "https://localhost:8080/",
     "height": 156
    },
    "colab_type": "code",
    "executionInfo": {
     "elapsed": 205678,
     "status": "ok",
     "timestamp": 1575170947590,
     "user": {
      "displayName": "Thomas K John",
      "photoUrl": "",
      "userId": "10832060721107655920"
     },
     "user_tz": -330
    },
    "id": "iVmJ4HCYWbX7",
    "outputId": "a4fcd40f-4d1d-420e-d505-e7a794109aab"
   },
   "outputs": [
    {
     "name": "stdout",
     "output_type": "stream",
     "text": [
      "+--------------------------+\n",
      "|months_between(end, start)|\n",
      "+--------------------------+\n",
      "|                13.5483871|\n",
      "+--------------------------+\n",
      "only showing top 1 row\n",
      "\n"
     ]
    }
   ],
   "source": [
    "dateDF\\\n",
    ".select(\n",
    "to_date(lit(\"2017-01-01\")).alias(\"start\"),\n",
    "to_date(lit(\"2018-02-18\")).alias(\"end\"))\\\n",
    ".select(months_between(col(\"end\"), col(\"start\")))\\\n",
    ".show(1)"
   ]
  },
  {
   "cell_type": "code",
   "execution_count": 378,
   "metadata": {
    "colab": {
     "base_uri": "https://localhost:8080/",
     "height": 173
    },
    "colab_type": "code",
    "executionInfo": {
     "elapsed": 205671,
     "status": "ok",
     "timestamp": 1575170947591,
     "user": {
      "displayName": "Thomas K John",
      "photoUrl": "",
      "userId": "10832060721107655920"
     },
     "user_tz": -330
    },
    "id": "uKv6kuSZWbX8",
    "outputId": "839a0616-4f0e-41ff-ae69-d9d85a36c722"
   },
   "outputs": [
    {
     "name": "stdout",
     "output_type": "stream",
     "text": [
      "+----------+--------------+-------------+\n",
      "|      date|months_between|datediff_days|\n",
      "+----------+--------------+-------------+\n",
      "|2016-01-01|          12.0|          366|\n",
      "|2016-01-01|          12.0|          366|\n",
      "+----------+--------------+-------------+\n",
      "only showing top 2 rows\n",
      "\n"
     ]
    }
   ],
   "source": [
    "spark.sql(\"\"\"\n",
    "SELECT\n",
    "to_date('2016-01-01') AS date,\n",
    "months_between('2017-01-01', '2016-01-01') AS months_between,\n",
    "datediff('2017-01-01', '2016-01-01') AS datediff_days\n",
    "FROM\n",
    "dateDFTable\n",
    "\"\"\").show(2)"
   ]
  },
  {
   "cell_type": "code",
   "execution_count": 379,
   "metadata": {
    "colab": {
     "base_uri": "https://localhost:8080/",
     "height": 207
    },
    "colab_type": "code",
    "executionInfo": {
     "elapsed": 205663,
     "status": "ok",
     "timestamp": 1575170947591,
     "user": {
      "displayName": "Thomas K John",
      "photoUrl": "",
      "userId": "10832060721107655920"
     },
     "user_tz": -330
    },
    "id": "X4gJp3O9WbX8",
    "outputId": "530cfe91-269c-4fd8-a8e3-9b81cb5a4704"
   },
   "outputs": [
    {
     "name": "stdout",
     "output_type": "stream",
     "text": [
      "+---------------+\n",
      "|to_date(`date`)|\n",
      "+---------------+\n",
      "|     2017-01-01|\n",
      "|     2017-01-01|\n",
      "|     2017-01-01|\n",
      "|     2017-01-01|\n",
      "|     2017-01-01|\n",
      "+---------------+\n",
      "\n"
     ]
    }
   ],
   "source": [
    "from pyspark.sql.functions import to_date, lit\n",
    "spark.range(5).withColumn(\"date\", lit(\"2017-01-01\"))\\\n",
    ".select(to_date(col(\"date\")))\\\n",
    ".show()"
   ]
  },
  {
   "cell_type": "markdown",
   "metadata": {
    "colab_type": "text",
    "id": "vq3hjRtsWbX9"
   },
   "source": [
    "__WARNING__\n",
    "<br>Spark will not throw an error if it cannot parse the date, it’ll just return null. This can be a bit tricky in larger pipelines because you may be expecting your data in one format and getting it in another. To illustrate, let’s take a look at the date format that has switched from year-month-day to year-day-month. Spark will fail to parse this date and silently return null instead."
   ]
  },
  {
   "cell_type": "code",
   "execution_count": 380,
   "metadata": {
    "colab": {
     "base_uri": "https://localhost:8080/",
     "height": 156
    },
    "colab_type": "code",
    "executionInfo": {
     "elapsed": 205656,
     "status": "ok",
     "timestamp": 1575170947592,
     "user": {
      "displayName": "Thomas K John",
      "photoUrl": "",
      "userId": "10832060721107655920"
     },
     "user_tz": -330
    },
    "id": "a3D7ZQhRWbX9",
    "outputId": "b3fff6e5-9b74-4462-fd1e-5e9056045fc5"
   },
   "outputs": [
    {
     "name": "stdout",
     "output_type": "stream",
     "text": [
      "+---------------------+---------------------+\n",
      "|to_date('2016-20-12')|to_date('2017-12-11')|\n",
      "+---------------------+---------------------+\n",
      "|                 null|           2017-12-11|\n",
      "+---------------------+---------------------+\n",
      "only showing top 1 row\n",
      "\n"
     ]
    }
   ],
   "source": [
    "### 2016-20-12 - year-day-month\n",
    "### 2017-12-11 - year-month-day\n",
    "dateDF.select(to_date(lit(\"2016-20-12\")),to_date(lit(\"2017-12-11\"))).show(1)"
   ]
  }
 ],
 "metadata": {
  "colab": {
   "collapsed_sections": [
    "wBUfM9heWbTV",
    "2HMjcDdTWbVH",
    "YCnSm2VsWbVO",
    "v5UafTjhWbVQ",
    "fjAGx_D4WbVV",
    "Te2JWxwxWbVX",
    "WduBdHj5WbVZ",
    "wF39pOyVWbVc",
    "PdTULdWRWbVj",
    "n_snNWoVWbVr",
    "LFFAXlvHWbVv",
    "X0GoKqtUWbV4",
    "cEVR_ZYaWbV5",
    "nMSTNEnlWbV8",
    "YYd3x7nAWbWG",
    "9DgdEX_CWbWK",
    "ec1iVuaBWbWQ",
    "5yH6IbYgWbWR",
    "hnF0In4gWbWa",
    "x8-elqmNWbWa",
    "1z0j1-NXWbWc",
    "4oJThMdyWbWe",
    "8X1j2tQcWbWf",
    "oitc9D_3WbWj",
    "vkmDNOezWbWk",
    "dllKnECKWbWn",
    "Anm2wdEhWbWp",
    "69Mi1xhbWbWr",
    "ESTEdjSUWbWy",
    "ITpt_ENRWbW2",
    "-78UheM0WbW6",
    "YSe4qCGtWbW8",
    "2v-eJq-BWbXE",
    "48Ed1xKAWbXj",
    "jubMjq3IWbXq",
    "21t00NqkWbXr",
    "xMLPBzboWbXt",
    "S2ClhqdmWbXv",
    "SZ1YXE9IWbXx",
    "QhNqkKQKWbXx",
    "jxxprTW1WbXz",
    "xCE_XuisWbX2"
   ],
   "name": "20191201_Batch75_CSE7312c_Day02_SparkSQLandDataframes.ipynb",
   "provenance": []
  },
  "kernelspec": {
   "display_name": "Python 3",
   "language": "python",
   "name": "python3"
  },
  "language_info": {
   "codemirror_mode": {
    "name": "ipython",
    "version": 3
   },
   "file_extension": ".py",
   "mimetype": "text/x-python",
   "name": "python",
   "nbconvert_exporter": "python",
   "pygments_lexer": "ipython3",
   "version": "3.8.3"
  }
 },
 "nbformat": 4,
 "nbformat_minor": 1
}
